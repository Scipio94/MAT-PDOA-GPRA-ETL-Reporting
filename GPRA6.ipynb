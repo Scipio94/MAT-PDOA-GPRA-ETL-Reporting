{
 "cells": [
  {
   "cell_type": "markdown",
   "id": "2498c9fd",
   "metadata": {},
   "source": [
    "# GRPA Coding\n",
    "\n",
    "Goverment Perfromance and Results Act (GPRA) coding for intake data of recovery specialist for the Institure for Prevention and Recovery (IFPR) at RWJ Baranabas"
   ]
  },
  {
   "cell_type": "code",
   "execution_count": 146,
   "id": "7e487610",
   "metadata": {},
   "outputs": [],
   "source": [
    "#importing pandas\n",
    "import pandas as pd\n",
    "import numpy as np"
   ]
  },
  {
   "cell_type": "code",
   "execution_count": 147,
   "id": "e9ffe513",
   "metadata": {},
   "outputs": [],
   "source": [
    "# importing data \n",
    "df = pd.read_csv(r\"C:\\Users\\tyogarro\\Documents\\Jan GPRA\\Jan_GPRA_STAR_File.csv\")\n",
    "\n",
    "#subsetting to include Peer Recovery Program episodes\n",
    "df = df[df['EPISODE'] =='IFPR - STAR Program']"
   ]
  },
  {
   "cell_type": "code",
   "execution_count": 148,
   "id": "f67a6951",
   "metadata": {},
   "outputs": [],
   "source": [
    "#Renaming column to create ClientID\n",
    "df.rename(columns = {'CSN':'ClientID'}, inplace = True)"
   ]
  },
  {
   "cell_type": "markdown",
   "id": "967e6f6a",
   "metadata": {},
   "source": [
    "## Creating GPRA 6"
   ]
  },
  {
   "cell_type": "code",
   "execution_count": 149,
   "id": "37e52668",
   "metadata": {},
   "outputs": [],
   "source": [
    "# Creating function to create column FLWPClientContacted\n",
    "def FLWP_ClientContacted (x):\n",
    "    if x == 'Yes':\n",
    "        return 1\n",
    "    else:\n",
    "        return 0\n",
    "    \n",
    "#Creating column FLWPClientContacted via applying the function FLWP_ClientContacted (x)\n",
    "df['FLWPClientContacted'] = df['CLIENT_ABLE_TO_BE_CONTACTED_FOR_FOLLOW_UP'].apply(lambda x:FLWP_ClientContacted (x))"
   ]
  },
  {
   "cell_type": "code",
   "execution_count": 150,
   "id": "b30e97d0",
   "metadata": {},
   "outputs": [],
   "source": [
    "#Creating function to create column ReceivingServices\n",
    "def Receiving_Services (x):\n",
    "    if x == 'Yes':\n",
    "        return 1\n",
    "    else:\n",
    "        return 0\n",
    "    \n",
    "#Creating column ReceivingServices via applying the function Receiving_Services (x)\n",
    "df['ReceivingServices'] = df['CLIENT_STILL_RECEIVING_PROGRAM_SERVICES'].apply(lambda x: Receiving_Services (x))"
   ]
  },
  {
   "cell_type": "code",
   "execution_count": 151,
   "id": "e06277a7",
   "metadata": {},
   "outputs": [],
   "source": [
    "#Creating dictionary to rename columns\n",
    "dictionary10 = {'FOLLOW_UP_STATUS_OF_CLIENT':'FLWPStatus','OTHER_FOLLOW_UP_STATUS':'FLWPStatusSpec',\n",
    "                'CLIENT_DISCHARGE_DATE':'DischargeDate','CLIENT_DISCHARGE_STATUS':'DischargeStatusCompl',\n",
    "                'REASON_FOR_TERMINATION':'DischargeStatusTermReason',\n",
    "                'OTHER_REASON_FOR_TERMINATION':'OtherDischargeStatTermRsnSpec',\n",
    "                'HIV_TEST_ORDERED_BY_PROGRAM':'jHIVTest','CLIENT_REFERRERD_FOR_HIV_TEST':'jHIVTestResult'}\n",
    "\n",
    "#Renaming columns\n",
    "df.rename(columns = dictionary10,inplace = True)\n",
    "\n",
    "#Creating variables to replace null values\n",
    "null_col10 = ['jHIVTest','jHIVTestResult']\n",
    "\n",
    "#Replacing null values with -9\n",
    "df[null_col10] = df[null_col10].fillna(-9)\n",
    "\n",
    "# Data Cleaning\n",
    "df['FLWPStatus'] = df['FLWPStatus'].str[:2]\n",
    "# df['FLWPStatusSpec'] = df['FLWPStatusSpec'].str.title()\n",
    "# df['DischargeStatusCompl'] = df['DischargeStatusCompl'].str[1:2]\n",
    "# df['DischargeStatusTermReason'] = df['DischargeStatusTermReason'].str[:2]\n",
    "# df['OtherDischargeStatTermRsnSpec'] = df['OtherDischargeStatTermRsnSpec'].str.title()\n",
    "df['jHIVTest'] = df['jHIVTest'].replace('No',0)\n",
    "df['jHIVTestResult'] = df['jHIVTestResult'].replace('Yes',1)\n",
    "df['jHIVTestResult'] = df['jHIVTestResult'].replace('No',0)\n"
   ]
  },
  {
   "cell_type": "code",
   "execution_count": 152,
   "id": "473a7515",
   "metadata": {},
   "outputs": [],
   "source": [
    "#Replacing null values with -9\n",
    "df['PROGRAM_PROVIDE_NALOXONE_OR_FENTANYL_TEST_STRIPS'] = df['PROGRAM_PROVIDE_NALOXONE_OR_FENTANYL_TEST_STRIPS'].fillna(-9)\n",
    "\n",
    "#Creating function to create column ODPreventionToolsProvided\n",
    "def ODPrevention_ToolsProvided (x):\n",
    "    if x == 'Neither':\n",
    "        return 4\n",
    "    elif x == 'Naloxone':\n",
    "        return 1\n",
    "    elif x == -9:\n",
    "        return -9\n",
    "    \n",
    "#Creating column ODPreventionToolsProvided via applying the function ODPrevention_ToolsProvided (x)\n",
    "df['ODPreventionToolsProvided'] = df['PROGRAM_PROVIDE_NALOXONE_OR_FENTANYL_TEST_STRIPS'].apply(lambda x: ODPrevention_ToolsProvided (x))"
   ]
  },
  {
   "cell_type": "code",
   "execution_count": 153,
   "id": "e4c1c945",
   "metadata": {},
   "outputs": [],
   "source": [
    "#Replacing null values with -9\n",
    "df['CLIENT_FULLY_VACCINATED_AGAINST_COVID-19'] = df['CLIENT_FULLY_VACCINATED_AGAINST_COVID-19'].fillna(-9)\n",
    "\n",
    "#Creating function to create column VaccinatedStatusCOVID19\n",
    "def Vaccinated_StatusCOVID19 (x):\n",
    "    if x == 'Yes':\n",
    "        return 1\n",
    "    elif x == 'Refused to answer':\n",
    "        return -7\n",
    "    elif x == 'No, client refused vaccination':\n",
    "        return 4\n",
    "    elif x == 'No, partially vaccinated with no plan to receive the subsequent vaccination':\n",
    "        return 3\n",
    "    elif x == -9:\n",
    "        return -9\n",
    "    \n",
    "#Creating column VaccinatedStatusCOVID19 via applying the function Vaccinated_StatusCOVID19 (x)\n",
    "df['VaccinatedStatusCOVID19'] = df['CLIENT_FULLY_VACCINATED_AGAINST_COVID-19'].apply(lambda x:Vaccinated_StatusCOVID19 (x))"
   ]
  },
  {
   "cell_type": "code",
   "execution_count": 154,
   "id": "b7776874",
   "metadata": {},
   "outputs": [],
   "source": [
    "#Creating column SvcInpatient\n",
    "df['SvcInpatient'] = 0\n",
    "\n",
    "#Creating column SvcOutpatient\n",
    "df['SvcOutpatient'] = 0\n"
   ]
  },
  {
   "cell_type": "code",
   "execution_count": 155,
   "id": "bac6a2fe",
   "metadata": {},
   "outputs": [],
   "source": [
    "#Creating columns in which no services were provided\n",
    "df['SvcMethadone'] = 0\n",
    "df['SvcBuprenorphine'] = 0\n",
    "df['SvcNaltrexoneShortActing'] = 0\n",
    "df['SvcNaltrexoneLongActing'] = 0\n",
    "df['SvcDisulfiram'] = 0\n",
    "df['SvcAcamprosate'] = 0\n",
    "df['SvcNicotineReplacement'] = 0\n",
    "df['SvcBupropion'] = 0\n",
    "df['SvcVarenicline'] = 0\n",
    "df['SvcResidentialRehab'] = 0\n",
    "df['SvcHospitalInpatient'] = 0\n",
    "df['SvcFreeStandingRes'] = 0\n",
    "df['SvcAmbulatoryDetox'] = 0\n",
    "df['SvcAfterCare'] = 0"
   ]
  },
  {
   "cell_type": "code",
   "execution_count": 156,
   "id": "3906aa9f",
   "metadata": {},
   "outputs": [],
   "source": [
    "#Creating columns with blank values\n",
    "df['SvcOtherModalities'] = 0\n",
    "df['SvcOtherModalitesSpec'] = \" \""
   ]
  },
  {
   "cell_type": "code",
   "execution_count": 157,
   "id": "58f04805",
   "metadata": {},
   "outputs": [],
   "source": [
    "#Creating column SvcBriefTreatment\n",
    "df['SvcBriefTreatment'] = 0"
   ]
  },
  {
   "cell_type": "code",
   "execution_count": 158,
   "id": "235b4507",
   "metadata": {},
   "outputs": [],
   "source": [
    "#Creating dictionary to rename columns \n",
    "dictionary8 = {'REFERRAL_TO_TREATMENT_NUMBER_OF_SESSIONS_RECEIVED':'SvcReferralTreatment', 'ASSESSMENT_NUMBER_OF_SESSIONS_RECEIVED':'SvcAssessment', \n",
    "               'TREATMENT_PLANNING_NUMBER_OF_SESSIONS_RECEIVED':'SvcTreatmentPlanning', \n",
    "               'INDIVIDUAL_COUNSELING_NUMBER_OF_SESSIONS_RECEIVED':'SvcIndividualCouns'}\n",
    "\n",
    "#Renaming \n",
    "df.rename(columns = dictionary8,inplace = True)\n",
    "\n",
    "#Creating variable to replace null values\n",
    "col_null14 = ['SvcReferralTreatment', 'SvcTreatmentPlanning', 'SvcIndividualCouns', 'SvcAssessment']\n",
    "\n",
    "#Replacing null values with 0\n",
    "df[col_null14] = df[col_null14].fillna(0)\n",
    "\n"
   ]
  },
  {
   "cell_type": "code",
   "execution_count": 159,
   "id": "4d5db53a",
   "metadata": {},
   "outputs": [],
   "source": [
    "#Creating columns with missing values \n",
    "df['SvcGroupCouns'] = 0\n",
    "df['SvcContingencyManagement'] = 0\n",
    "df['SvcCommunityReinforcement'] = 0\n",
    "df['SvcCBT'] = 0\n",
    "df['SvcFamilyMarriageCouns'] = 0\n",
    "df['SvcCoOccurring'] = 0\n",
    "df['SvcPharmacological'] = 0\n",
    "df['SvcHIVAIDSCouns'] = 0\n",
    "df['SvcCulturalInterventions'] = 0\n",
    "df['SvcOtherClinicalCouns'] = 0\n",
    "df['SvcOtherClinicalCounsSpec'] = \" \"\n",
    "df['SvcChildCare'] = 0"
   ]
  },
  {
   "cell_type": "code",
   "execution_count": 160,
   "id": "bbe30f0c",
   "metadata": {},
   "outputs": [],
   "source": [
    "#Creating dictionary to rename\n",
    "dictionary11 = {'CASE_MANAGEMENT_NUMBER_OF_DAYS_RECEIVED':'SvcCaseManagement', \n",
    "                'INTENSIVE_OUTPATIENT_TREATMENT_NUMBER_OF_DAYS_RECEIVED':'SvcIntensiveOutpatient', \n",
    "                'OUTREACH_NUMBER_OF_DAYS_RECEIVED':'SvcOutreach',\n",
    "                'RECOVERY_SUPPORT_NUMBER_OF_DAYS_RECEIVED':'SvcRecoverySupport',\n",
    "               'SCREENING_NUMBER_OF_SESSIONS_RECEIVED':'SvcScreening',\n",
    "                'BRIEF_INTERVENTION_NUMBER_OF_SESSIONS_RECEIVED':'SvcBriefIntervention',\n",
    "               'FAMILY_SERVICES_NUMBER_OF_SESSIONS_RECEIVED':'SvcFamilyServices', \n",
    "                'PRE_EMPLOYMENT_NUMBER_OF_SESSIONS_RECEIVED':'SvcPreEmployment'}\n",
    "\n",
    "#Renaming columns \n",
    "df.rename(columns = dictionary11,inplace = True)\n",
    "\n",
    "#Replacing null values with 0\n",
    "col_fill0 =['SvcCaseManagement', 'SvcIntensiveOutpatient', 'SvcOutreach','SvcRecoverySupport',\n",
    "            'SvcScreening','SvcBriefIntervention','SvcFamilyServices', 'SvcPreEmployment']\n",
    "\n",
    "df[col_fill0] = df[col_fill0].fillna(0)"
   ]
  },
  {
   "cell_type": "code",
   "execution_count": 161,
   "id": "66cbd509",
   "metadata": {},
   "outputs": [],
   "source": [
    "#Renaming columns \n",
    "df.rename(columns = {'EMPLOYMENT_COACHING_NUMBER_OF_SESSIONS_RECEIVED':'SvcEmploymentCoaching', \n",
    "                     'INDIVIDUAL_SERVICES_COORDINATION_NUMBER_OF_SESSIONS_RECEIVED':'SvcIndividualCoord', \n",
    "                     'TRANSPORTATION_NUMBER_OF_SESSIONS_RECEIVED': 'SvcTransportation'}, inplace = True)\n",
    "\n",
    "#Creating variable for columns\n",
    "col1 = ['SvcEmploymentCoaching','SvcIndividualCoord','SvcTransportation']\n",
    "\n",
    "#Replacing null values\n",
    "df[col1] = df[col1].fillna(0)"
   ]
  },
  {
   "cell_type": "code",
   "execution_count": 162,
   "id": "c8c058c6",
   "metadata": {},
   "outputs": [],
   "source": [
    "#Creating column with missing values\n",
    "df['SvcHIVAIDSServices'] = 0\n",
    "\n",
    "df.rename(columns = {'TRANSITIONAL_DRUG_FREE_HOUSING_NUMBER_OF_SESSIONS_RECEIVED':'SvcDrugFreeHousing','HOUSING_SUPPORT_NUMBER_OF_SESSIONS_RECEIVED':'SvcHousingSupport',\n",
    "                     'HEALTH_INSURANCE_ENROLLMENT_NUMBER_OF_SESSIONS_RECEIVED':'SvcHealthInsuranceEnrollment',\n",
    "                     'OTHER_CASE_MANAGEMENT_SERVICES_NUMBER_OF_SESSIONS_RECEIVED':'SvcOtherCaseMgmt',\n",
    "                     'OTHER_CASE_MANAGEMENT_SERVICES_RECEIVED': 'SvcOtherCaseMgmtSpec'}, inplace = True)\n",
    "\n",
    "#Creating variable 'col' to replace missing values\n",
    "col2 = ['SvcDrugFreeHousing','SvcHousingSupport','SvcHealthInsuranceEnrollment','SvcOtherCaseMgmt']\n",
    "\n",
    "#Replacing missing values with 0\n",
    "df[col2] = df[col2].fillna(0)\n",
    "\n",
    "#Editing string values\n",
    "df['SvcOtherCaseMgmtSpec'] = df['SvcOtherCaseMgmtSpec'].str.title()\n"
   ]
  },
  {
   "cell_type": "code",
   "execution_count": 163,
   "id": "fe2eaaac",
   "metadata": {},
   "outputs": [],
   "source": [
    "#Renaming columns \n",
    "df.rename(columns = {'MEDICAL_CARE_NUMBER_OF_SESSIONS_RECEIVED':'SvcMedicalCare'}, inplace = True)\n",
    "\n",
    "#Replacing missing values with 0\n",
    "df['SvcMedicalCare'] = df['SvcMedicalCare'].fillna(0) \n",
    "\n",
    "#Creating columns with missing values \n",
    "df['SvcAlcoholDrugTesting'] = 0\n",
    "df['SvcOBGYN'] = 0\n",
    "df['SvcHIVAIDSMedical'] = 0\n",
    "df['SvcHepatitisSupport'] = 0\n",
    "df['SvcOtherSTISupport'] = 0"
   ]
  },
  {
   "cell_type": "code",
   "execution_count": 164,
   "id": "c132d7e4",
   "metadata": {
    "scrolled": true
   },
   "outputs": [],
   "source": [
    "#Renaming columns\n",
    "df.rename(columns = {'DENTAL_CARE_NUMBER_OF_SESSIONS_RECEIVED':'SvcDental', \n",
    "                     'OTHER_MEDICAL_SERVICES_NUMBER_OF_SESSIONS_RECEIVED':'SvcOtherMedical',\n",
    "                     'OTHER_MEDICAL_SERVICES_RECEIVED':'SvcOtherMedicalSpec',\n",
    "                     'CONTINUING_CARE_NUMBER_OF_SESSIONS_RECEIVED':'SvcContinuingCare',\n",
    "                     'RELAPSE_PREVENTION_NUMBER_OF_SESSIONS_RECEIVED':'SvcRelapsePrevention'}, inplace = True)\n",
    "\n",
    "#Creating variable col1 to replace missing values with 0\n",
    "col3 = ['SvcDental','SvcOtherMedical','SvcContinuingCare','SvcRelapsePrevention']\n",
    "\n",
    "#Replacing missing values with 0\n",
    "df[col3] = df[col3].fillna(0) \n",
    "\n",
    "#Data Cleaning\n",
    "# df['SvcOtherMedicalSpec'] = df['SvcOtherMedicalSpec'].str.title() "
   ]
  },
  {
   "cell_type": "code",
   "execution_count": 165,
   "id": "19d17616",
   "metadata": {},
   "outputs": [],
   "source": [
    "#Renaming columns\n",
    "df.rename(columns = {'RECOVERY_COACHING_NUMBER_OF_SESSIONS_RECEIVED':'SvcRecoveryCoaching','SELF_HELP_MUTUAL_SUPPORT_GROUP_NUMBER_OF_SESSIONS_RECEIVED':'SvcSelfHelpSupport','SPIRITUAL_SUPPORT_NUMBER_OF_SESSIONS_RECEIVED':'SvcSpiritualSupport','OTHER_AFTER_CARE_SERVICES_NUMBER_OF_SESSIONS_RECEIVED':'SvcOtherAfterCare','OTHER_AFTER_CARE_SERVICES_RECEIVED':'SvcOtherAfterCareSpec'}, inplace = True)\n",
    "\n",
    "#Creating variable col2 to replace missing values\n",
    "col4 = ['SvcRecoveryCoaching','SvcSelfHelpSupport','SvcSpiritualSupport','SvcOtherAfterCare']\n",
    "\n",
    "#Replacing missing values with 0\n",
    "df[col4] = df[col4].fillna(0)"
   ]
  },
  {
   "cell_type": "code",
   "execution_count": 166,
   "id": "70950be7",
   "metadata": {},
   "outputs": [],
   "source": [
    "#Renaming column\n",
    "df.rename(columns = {'SUBSTANCE_MISUSE_EDUCATION_SERVICES_NUMBER_OF_SESSIONS_RECEIVED':'SvcSubstanceAbuseEdu'}, inplace = True )\n",
    "\n",
    "#Replacing missing values with 0\n",
    "df['SvcSubstanceAbuseEdu'] = df['SvcSubstanceAbuseEdu'].fillna(0) \n",
    "\n",
    "df['SvcHIVAIDSEdu'] = 0\n",
    "df['SvcHepatitisEdu'] = 0\n",
    "df['SvcOtherSTIEdu'] = 0\n",
    "df['SvcNaloxoneTraining'] = 0\n",
    "df['SvcFentanylTestStripTraining'] = 0\n",
    "df['SvcOtherEdu'] = 0\n",
    "df['SvcOtherEduSpec'] = \" \""
   ]
  },
  {
   "cell_type": "code",
   "execution_count": 167,
   "id": "31f1c453",
   "metadata": {},
   "outputs": [],
   "source": [
    "#Renaming columns \n",
    "df.rename(columns = {'PEER_COACHING_OR_MENTORING_NUMBER_OF_SESSIONS_RECEIVED':'SvcPeerCoaching', \n",
    "                     'VOCATIONAL_SERVICES_NUMBER_OF_SESSIONS_RECEIVED':'SvcVocational',\n",
    "                     'RECOVERY_HOUSING_NUMBER_OF_SESSIONS_RECEIVED':'SvcRecoveryHousing',\n",
    "                     'RECOVERY_PLANNING_NUMBER_OF_SESSIONS_RECEIVED':'SvcRecoveryPlanningRSS',\n",
    "                     'RECOVERY_SUPPORT_SPECIFIC_CASE_MANAGEMENT_SERVICES_NUMBER_OF_SESSIONS_RECEIVED':'SvcRecoveryCaseManagement',\n",
    "                     'ALCOHOL_AND_DRUG_FREE_SOCIAL_ACTIVITIES_NUMBER_OF_SESSIONS_RECEIVED':'SvcDrugFreeSocial'}, inplace = True)\n",
    "\n",
    "#Creating variable col3\n",
    "col5 = ['SvcPeerCoaching','SvcVocational','SvcRecoveryHousing','SvcRecoveryCaseManagement','SvcDrugFreeSocial'] \n",
    "\n",
    "#Replacing missing values with 0\n",
    "df[col5] = df[col5].fillna(0)\n",
    "\n",
    "#inputting values in the 'SvcRecoveryPlanningRSS' column\n",
    "df['SvcRecoveryPlanningRSS'] = df['SvcRecoveryPlanningRSS'].fillna(0)"
   ]
  },
  {
   "cell_type": "code",
   "execution_count": 168,
   "id": "3feda7c0",
   "metadata": {},
   "outputs": [],
   "source": [
    "#Renaming columns\n",
    "df.rename(columns = {'INFORMATION_AND_REFERRAL_NUMBER_OF_SESSIONS_RECEIVED':'SvcInformationReferral','OTHER_RECOVERY_SUPPORT_NUMBER_OF_SESSIONS_RECEIVED':'SvcOtherRecoverySupport','OTHER_RECOVERY_SUPPORT_SERVICES_RECEIVED':'SvcOtherRecoverySupportSpec','OTHER_PEER_TO_PEER_RECOVERY_SUPPORT_NUMBER_OF_SESSIONS_RECEIVED':'SvcOtherPeerRecovery','OTHER_PEER_TO_PEER_RECOVERY_SUPPORT_RECEIVED':'SvcOtherPeerRecoverySpec'}, inplace = True)\n",
    "\n",
    "#Creating variable col4 to replace missing values\n",
    "col6 = ['SvcInformationReferral','SvcOtherRecoverySupport','SvcOtherPeerRecovery']\n",
    "\n",
    "#Replacing missing values with 0\n",
    "df[col6] = df[col6].fillna(0)"
   ]
  },
  {
   "cell_type": "code",
   "execution_count": 169,
   "id": "e10ece03",
   "metadata": {},
   "outputs": [],
   "source": [
    "#Replacing null values with -9\n",
    "df['CLIENT_ATTENDED_60%_OR_MORE_OF_PLANNED_SERVICES'] = df['CLIENT_ATTENDED_60%_OR_MORE_OF_PLANNED_SERVICES'].fillna(-9)\n",
    "\n",
    "#Creating function to create column AttendedMostPlannedServices\n",
    "def AttendedMost_PlannedServices (x):\n",
    "    if x == 'Yes':\n",
    "        return 1\n",
    "    elif x == 'No':\n",
    "        return 0\n",
    "    elif x == -9:\n",
    "        return -9\n",
    "    \n",
    "#Creating column AttendedMostPlannedServices via applying the function AttendedMost_PlannedServices (x)\n",
    "df['AttendedMostPlannedServices'] = df['CLIENT_ATTENDED_60%_OR_MORE_OF_PLANNED_SERVICES'].apply(lambda x:AttendedMost_PlannedServices (x))"
   ]
  },
  {
   "cell_type": "code",
   "execution_count": 170,
   "id": "1285691a",
   "metadata": {},
   "outputs": [],
   "source": [
    "#Replacing null values with -9\n",
    "df['CLIENT_RECEIVED_SERVICES_VIA_TELEHEALTH_OR_VIRTUAL'] = df['CLIENT_RECEIVED_SERVICES_VIA_TELEHEALTH_OR_VIRTUAL'].fillna(-9)\n",
    "\n",
    "#Creating function to create column ReceivedTelehealthServices\n",
    "def Received_Telehealth_Services (x):\n",
    "    if x == 'Yes':\n",
    "        return 1\n",
    "    elif x == 'No':\n",
    "        return 0\n",
    "    elif x == -9:\n",
    "        return -9\n",
    "    \n",
    "#Creating column ReceivedTelehealthServices via applying the function Received_Telehealth_Services (x)\n",
    "df['ReceivedTelehealthServices'] = df['CLIENT_RECEIVED_SERVICES_VIA_TELEHEALTH_OR_VIRTUAL'].apply(lambda x:Received_Telehealth_Services (x))"
   ]
  },
  {
   "cell_type": "code",
   "execution_count": 171,
   "id": "2a346640",
   "metadata": {},
   "outputs": [],
   "source": [
    "#Replacing null values with -9\n",
    "df['CLIENT_PREVIOUSLY_DIAGNOSED_WITH_OPIOID_USE_DISORDER'] = df['CLIENT_PREVIOUSLY_DIAGNOSED_WITH_OPIOID_USE_DISORDER'].fillna(-9)\n",
    "\n",
    "#Creating a function to create column PreviouslyDiagnosedOUD\n",
    "def Previously_DiagnosedOUD (x):\n",
    "    if x == 'Yes':\n",
    "        return 1\n",
    "    elif x == 'No [SKIP TO QUESTION 5]':\n",
    "        return 0\n",
    "    elif x == -9:\n",
    "        return -9\n",
    "    \n",
    "#Creating column PreviouslyDiagnosedOUD via applying the function Previously_DiagnosedOUD (x)\n",
    "df['PreviouslyDiagnosedOUD'] = df['CLIENT_PREVIOUSLY_DIAGNOSED_WITH_OPIOID_USE_DISORDER'].apply(lambda x:Previously_DiagnosedOUD (x))"
   ]
  },
  {
   "cell_type": "code",
   "execution_count": 172,
   "id": "2262ec9a",
   "metadata": {},
   "outputs": [],
   "source": [
    "#Replacing null values with -9\n",
    "df['RECEIVED_MEDICATION_FOR_OPIOID_USE_DISORDER_IN_PAST_30_DAYS'] = df['RECEIVED_MEDICATION_FOR_OPIOID_USE_DISORDER_IN_PAST_30_DAYS'].fillna(-9)\n",
    "    \n",
    "#Creating function to create column kOUDMedMethadone\n",
    "def kOUD_Med_Methadone (x):\n",
    "    if x == -9:\n",
    "        return -9\n",
    "    elif x == 'Methadone':\n",
    "        return 1\n",
    "    else:\n",
    "        return 0\n",
    "    \n",
    "#Creating column kOUDMedMethadone via applying the function kOUD_Med_Methadone (x)\n",
    "df['kOUDMedMethadone'] = df['RECEIVED_MEDICATION_FOR_OPIOID_USE_DISORDER_IN_PAST_30_DAYS'].apply(lambda x:kOUD_Med_Methadone (x))"
   ]
  },
  {
   "cell_type": "code",
   "execution_count": 173,
   "id": "4cf635b4",
   "metadata": {},
   "outputs": [],
   "source": [
    "#Renaming columns\n",
    "df.rename(columns = {'METHADONE_NUMBER_OF_DAYS':'kOUDMedMethadoneDays','BUPRENORPHINE_NUMBER_OF_DAYS':'kOUDMedBuprenorphineDays','NALTREXONE_NUMBER_OF_DAYS':'kOUDMedNaltrexoneDays'}, inplace = True)\n",
    "\n",
    "#Creating variable col5\n",
    "col7 = ['kOUDMedMethadoneDays','kOUDMedBuprenorphineDays','kOUDMedNaltrexoneDays']\n",
    "\n",
    "#Replacing null values with -9\n",
    "df[col7] = df[col7].fillna(-9)"
   ]
  },
  {
   "cell_type": "code",
   "execution_count": 174,
   "id": "7423866c",
   "metadata": {},
   "outputs": [],
   "source": [
    "#Creating function to create column kOUDMedBuprenorphine\n",
    "def kOUDMed_Buprenorphine (x):\n",
    "    if x == -9:\n",
    "        return -9\n",
    "    elif x == 'Buprenorphine':\n",
    "        return 1\n",
    "    else:\n",
    "        return 0\n",
    "    \n",
    "#Creating column kOUDMedMethadone via applying the function kOUDMed_Buprenorphine (x)\n",
    "df['kOUDMedBuprenorphine'] = df['RECEIVED_MEDICATION_FOR_OPIOID_USE_DISORDER_IN_PAST_30_DAYS'].apply(lambda x:kOUDMed_Buprenorphine (x))"
   ]
  },
  {
   "cell_type": "code",
   "execution_count": 175,
   "id": "d2dae43a",
   "metadata": {},
   "outputs": [],
   "source": [
    "#Creating function to create column kOUDMedNaltrexone\n",
    "def kOUDMed_Naltrexone (x):\n",
    "    if x == -9:\n",
    "        return -9\n",
    "    elif x == 'Naltrexone':\n",
    "        return 1\n",
    "    else:\n",
    "        return 0\n",
    "    \n",
    "#Creating column kOUDMedNaltrexone via applying the function kOUDMed_Naltrexone (x)\n",
    "df['kOUDMedNaltrexone'] = df['RECEIVED_MEDICATION_FOR_OPIOID_USE_DISORDER_IN_PAST_30_DAYS'].apply(lambda x:kOUDMed_Naltrexone (x))"
   ]
  },
  {
   "cell_type": "code",
   "execution_count": 176,
   "id": "d761a61b",
   "metadata": {},
   "outputs": [],
   "source": [
    "#Creating column kOUDMedXRNaltrexoneDoses with missing values\n",
    "df['kOUDMedXRNaltrexoneDoses'] = -9\n",
    "df['kOUDMedXRNaltrexoneDays'] = -9\n",
    "df['kAUDMedDisulfiram'] = -9\n",
    "df['kAUDMedDisulfiramDays'] = -9\n",
    "df['kAUDMedAcamprosate'] = -9\n",
    "df['kAUDMedAcamprosateDays'] = -9\n",
    "\n"
   ]
  },
  {
   "cell_type": "code",
   "execution_count": 177,
   "id": "4d69d5cf",
   "metadata": {},
   "outputs": [],
   "source": [
    "#Creating function to create column kAUDMedNotReceived\n",
    "def  kAUDMed_NotReceived (x):\n",
    "    if x == -9:\n",
    "        return -9\n",
    "    elif x == 'Client did not receive an FDA-approved medication for a diagnosed opioid use disorder [SKIP TO QUESTION 5]':\n",
    "        return 1\n",
    "    else:\n",
    "        return 0\n",
    "    \n",
    "#Creating column kAUDMedNotReceived via applying the function kAUDMed_NotReceived (x)\n",
    "df['kAUDMedNotReceived'] = df['RECEIVED_MEDICATION_FOR_OPIOID_USE_DISORDER_IN_PAST_30_DAYS'].apply(lambda x:kAUDMed_NotReceived (x))"
   ]
  },
  {
   "cell_type": "code",
   "execution_count": 178,
   "id": "a456cd2d",
   "metadata": {},
   "outputs": [],
   "source": [
    "#Creating column with missing values\n",
    "df['AUDMedTakenAsPrescribed'] = -9"
   ]
  },
  {
   "cell_type": "code",
   "execution_count": 179,
   "id": "c19ee82f",
   "metadata": {},
   "outputs": [],
   "source": [
    "#Replacing null values with -9\n",
    "df['PREVIOUSLY_DIAGNOSED_WITH_STIMULANT_USE_DISORDER'] = df['PREVIOUSLY_DIAGNOSED_WITH_STIMULANT_USE_DISORDER'].fillna(-9)\n",
    "\n",
    "#Creating function to create column PreviouslyDiagnosedStUD\n",
    "def Previously_DiagnosedStUD (x):\n",
    "    if x == 'Yes':\n",
    "        return 1\n",
    "    elif x == 'No [SKIP TO QUESTION 7]':\n",
    "        return 0\n",
    "    elif x == -9:\n",
    "        return -9\n",
    "    \n",
    "#Creating column PreviouslyDiagnosedStUD via applying the function Previously_DiagnosedStUD (x)\n",
    "df['PreviouslyDiagnosedStUD'] = df['PREVIOUSLY_DIAGNOSED_WITH_STIMULANT_USE_DISORDER'].apply(lambda x:Previously_DiagnosedStUD (x))"
   ]
  },
  {
   "cell_type": "code",
   "execution_count": 180,
   "id": "1de0ef85",
   "metadata": {},
   "outputs": [],
   "source": [
    "#Replacing null valules with -9\n",
    "df['INTERVENTIONS_RECEIVED_FOR_STIMULANT_USE_DISORDER_IN_PAST_30_DAYS'] = df['INTERVENTIONS_RECEIVED_FOR_STIMULANT_USE_DISORDER_IN_PAST_30_DAYS'].fillna(-9)\n",
    "\n",
    "#Creating function to create column kStUDIntCommReinf\n",
    "def kStUDInt_CommReinf (x):\n",
    "    if x == 'Community Reinforcement, Contingency Management':\n",
    "        return 1\n",
    "    elif x == -9:\n",
    "        return -9\n",
    "    else:\n",
    "        return 0\n",
    "\n",
    "#Creating column kStUDIntCommReinf via applying the function kStUDInt_CommReinf (x)\n",
    "df['kStUDIntCommReinf'] = df['INTERVENTIONS_RECEIVED_FOR_STIMULANT_USE_DISORDER_IN_PAST_30_DAYS'].apply(lambda x:kStUDInt_CommReinf (x))"
   ]
  },
  {
   "cell_type": "code",
   "execution_count": 181,
   "id": "74471293",
   "metadata": {},
   "outputs": [],
   "source": [
    "#Creating function to create column kStUDIntContMgmt\n",
    "def kStUDInt_ContMgmt (x):\n",
    "    if x == 'Community Reinforcement, Contingency Management':\n",
    "        return 1\n",
    "    elif x == -9:\n",
    "        return -9\n",
    "    else:\n",
    "        return 0\n",
    "\n",
    "#Creating column kStUDIntCommReinf via applying the function kStUDInt_ContMgmt (x)\n",
    "df['kStUDIntContMgmt'] = df['INTERVENTIONS_RECEIVED_FOR_STIMULANT_USE_DISORDER_IN_PAST_30_DAYS'].apply(lambda x:kStUDInt_ContMgmt (x))"
   ]
  },
  {
   "cell_type": "code",
   "execution_count": 182,
   "id": "53b8dacc",
   "metadata": {},
   "outputs": [],
   "source": [
    "#Renaming columns\n",
    "df.rename(columns = {'CONTINGENCY_MANAGEMENT_NUMBER_OF_DAYS':'kStUDIntContMgmtDays','COMMUNITY_REINFORCEMENT_NUMBER_OF_DAYS':'kStUDIntCommReinfDays','COGNITIVE_BEHAVIORAL_THERAPY_NUMBER_OF_DAYS':'kStUDIntCBTDays','OTHER_TREATMENT_NUMBER_OF_DAYS':'kStUDIntOtherDays'}, inplace = True)\n",
    "\n",
    "#Creating variable col6\n",
    "col8 = ['kStUDIntContMgmtDays','kStUDIntCommReinfDays','kStUDIntCBTDays','kStUDIntOtherDays']\n",
    "\n",
    "#Replacing null values with -9\n",
    "df[col8] = df[col8].fillna(-9)\n",
    "\n",
    "# kStUDIntContMgmtDays\n",
    "# kStUDIntCommReinfDays\n",
    "# kStUDIntCBTDays\n",
    "# kStUDIntOtherDays"
   ]
  },
  {
   "cell_type": "code",
   "execution_count": 183,
   "id": "fd27cdfe",
   "metadata": {},
   "outputs": [],
   "source": [
    "#Creating column kStUDIntCBT\n",
    "df['kStUDIntCBT'] = -9\n",
    "\n",
    "#Creating function to create column kStUDIntOther\n",
    "def kStUD_IntOther (x):\n",
    "    if x == 'Other treatment approach':\n",
    "        return 1\n",
    "    elif x == -9:\n",
    "        return -9\n",
    "    else:\n",
    "        return 0\n",
    "\n",
    "#Creating column kStUDIntOther via applying the functionkStUD_IntOther (x)\n",
    "df['kStUDIntOther'] = df['INTERVENTIONS_RECEIVED_FOR_STIMULANT_USE_DISORDER_IN_PAST_30_DAYS'].apply(lambda x:kStUD_IntOther (x))"
   ]
  },
  {
   "cell_type": "code",
   "execution_count": 184,
   "id": "7af5c29d",
   "metadata": {},
   "outputs": [],
   "source": [
    "#Creating function to create column kStUDIntNotReceived\n",
    "def kStUD_IntNotReceived (x):\n",
    "    if x == 'Client did not receive any intervention for a stimulant use disorder [SKIP TO QUESTION 7]':\n",
    "        return 1\n",
    "    elif x == -9:\n",
    "        return -9\n",
    "    else:\n",
    "        return 0\n",
    "\n",
    "#Creating column kStUDIntNotReceived via applying the function kStUD_IntNotReceived (x)\n",
    "df['kStUDIntNotReceived'] = df['INTERVENTIONS_RECEIVED_FOR_STIMULANT_USE_DISORDER_IN_PAST_30_DAYS'].apply(lambda x: kStUD_IntNotReceived (x))"
   ]
  },
  {
   "cell_type": "code",
   "execution_count": 185,
   "id": "a25ba3b2",
   "metadata": {},
   "outputs": [],
   "source": [
    "#Renaming column to create column \n",
    "df.rename(columns = {'ATTENDED_AND_PARTICIPATED_IN_STIMULANT_USE_DISORDER_INTERVENTIONS':'StUDIntAttended'}, inplace = True)\n",
    "\n",
    "#Replacing value\n",
    "df['StUDIntAttended'] = df['StUDIntAttended'].replace('Yes',1)\n",
    "\n",
    "#Filling null values\n",
    "df['StUDIntAttended'] = df['StUDIntAttended'].fillna(-9)"
   ]
  },
  {
   "cell_type": "code",
   "execution_count": 186,
   "id": "1db7ada6",
   "metadata": {},
   "outputs": [],
   "source": [
    "#Replacing null values with -9\n",
    "df['PREVIOUSLY_DIAGNOSED_WITH_TOBACCO_USE_DISORDER'] = df['PREVIOUSLY_DIAGNOSED_WITH_TOBACCO_USE_DISORDER'].fillna(-9)\n",
    "\n",
    "#Creating function to create column PreviouslyDiagnosedTUD\n",
    "def Previously_DiagnosedTUD (x):\n",
    "    if x == 'Yes':\n",
    "        return 1\n",
    "    elif x == 'No [THE DISCHARGE INTERVIEW IS COMPLETE.]':\n",
    "        return 0\n",
    "    elif x == -9:\n",
    "        return -9\n",
    "    \n",
    "#Creating column PreviouslyDiagnosedTUD via applying the function \n",
    "df['PreviouslyDiagnosedTUD'] = df['PREVIOUSLY_DIAGNOSED_WITH_TOBACCO_USE_DISORDER'].apply(lambda x: Previously_DiagnosedTUD (x))"
   ]
  },
  {
   "cell_type": "code",
   "execution_count": 187,
   "id": "a351c19e",
   "metadata": {},
   "outputs": [],
   "source": [
    "#Creating columns with missing values\n",
    "df['kTUDMedNicotineRepl'] = -9\n",
    "df['kTUDMedNicotineReplDays'] = -1\n",
    "df['kTUDMedBupropion'] = -9\n",
    "df['kTUDMedBupropionDays'] = -1\n",
    "df['kTUDMedVarenicline'] = -9\n",
    "df['kTUDMedVareniclineDays'] = -1"
   ]
  },
  {
   "cell_type": "code",
   "execution_count": 188,
   "id": "404f5a2d",
   "metadata": {},
   "outputs": [],
   "source": [
    "#Renaming column to create column kTUDMedNotReceived\n",
    "df.rename(columns = {'MEDICATIONS_RECEIVED_FOR_TOBACCO_USE_DISORDER_IN_PAST_30_DAYS':'kTUDMedNotReceived'}, inplace = True)\n",
    "\n",
    "#Replacing values\n",
    "df['kTUDMedNotReceived'] = df['kTUDMedNotReceived'].replace('Client did not receive an FDA-approved medication for a tobacco use disorder [THE DISCHARGE INTERVIEW IS COMPLETE.]',1)\n",
    "\n",
    "#Filling missing values\n",
    "df['kTUDMedNotReceived'] = df['kTUDMedNotReceived'].fillna(-9)\n"
   ]
  },
  {
   "cell_type": "code",
   "execution_count": 189,
   "id": "8ad1b746",
   "metadata": {},
   "outputs": [],
   "source": [
    "#Creating column with missing values\n",
    "df['TUDMedTakenAsPrescribed'] = -9"
   ]
  },
  {
   "cell_type": "code",
   "execution_count": 190,
   "id": "9cde808f",
   "metadata": {},
   "outputs": [],
   "source": [
    "#Creating the IntakeDate and InterviewCreateDate columns \n",
    "df['InterviewCreateDate'] = \" \""
   ]
  },
  {
   "cell_type": "code",
   "execution_count": 191,
   "id": "25062e0f",
   "metadata": {},
   "outputs": [],
   "source": [
    "#Renaming column to create column SvcRecoveryPlanning\n",
    "df.rename(columns = {'RECOVERY_PLANNING_NUMBER_OF_SESSIONS_RECEIVED_1':'SvcRecoveryPlanning'},inplace = True)\n",
    "\n",
    "#Replacing null values with 0\n",
    "df['SvcRecoveryPlanning'] = df['SvcRecoveryPlanning'].fillna(0)"
   ]
  },
  {
   "cell_type": "code",
   "execution_count": 192,
   "id": "c43a5282",
   "metadata": {},
   "outputs": [],
   "source": [
    "#Inserting blank columns\n",
    "\n",
    "Blank_columns = ['kOUDMedXRNaltrexone', \n",
    "'kOUDMedNotReceived',\n",
    "'OUDMedTakenAsPrescribed', \n",
    "'PreviouslyDiagnosedAUD', \n",
    "'kAUDMedNaltrexone', \n",
    "'kAUDMedNaltrexoneDays', \n",
    "'kAUDMedXRNaltrexone', \n",
    "'kAUDMedXRNaltrexoneDoses']\n",
    "\n",
    "df[Blank_columns] = df[Blank_columns] = -9"
   ]
  },
  {
   "cell_type": "markdown",
   "id": "7f5a6380",
   "metadata": {},
   "source": [
    "## Exporting GPRA 6"
   ]
  },
  {
   "cell_type": "code",
   "execution_count": 193,
   "id": "08e4bd6c",
   "metadata": {},
   "outputs": [],
   "source": [
    "#Creating variable to export GPRA 6\n",
    "GPRA6_STAR = df[['ClientID','FLWPClientContacted',\t'FLWPStatus',\t'FLWPStatusSpec',\t'ReceivingServices',\t'DischargeDate',\t'DischargeStatusCompl',\t'DischargeStatusTermReason',\t'OtherDischargeStatTermRsnSpec',\t'jHIVTest',\t'jHIVTestResult',\t'ODPreventionToolsProvided',\t'VaccinatedStatusCOVID19',\t'SvcCaseManagement',\t'SvcIntensiveOutpatient',\t'SvcInpatient',\t'SvcOutpatient',\t'SvcOutreach',\t'SvcMethadone',\t'SvcBuprenorphine',\t'SvcNaltrexoneShortActing',\t'SvcNaltrexoneLongActing',\t'SvcDisulfiram',\t'SvcAcamprosate',\t'SvcNicotineReplacement',\t'SvcBupropion',\t'SvcVarenicline',\t'SvcResidentialRehab',\t'SvcHospitalInpatient',\t'SvcFreeStandingRes',\t'SvcAmbulatoryDetox',\t'SvcAfterCare',\t'SvcRecoverySupport',\t'SvcOtherModalities',\t'SvcOtherModalitesSpec',\t'SvcScreening',\t'SvcBriefIntervention',\t'SvcBriefTreatment',\t'SvcReferralTreatment',\t'SvcAssessment',\t'SvcTreatmentPlanning',\t'SvcRecoveryPlanning',\t'SvcIndividualCouns',\t'SvcGroupCouns',\t'SvcContingencyManagement',\t'SvcCommunityReinforcement',\t'SvcCBT',\t'SvcFamilyMarriageCouns',\t'SvcCoOccurring',\t'SvcPharmacological',\t'SvcHIVAIDSCouns',\t'SvcCulturalInterventions',\t'SvcOtherClinicalCouns',\t'SvcOtherClinicalCounsSpec',\t'SvcFamilyServices',\t'SvcChildCare',\t'SvcPreEmployment',\t'SvcEmploymentCoaching',\t'SvcIndividualCoord',\t'SvcTransportation',\t'SvcHIVAIDSServices',\t'SvcDrugFreeHousing',\t'SvcHousingSupport',\t'SvcHealthInsuranceEnrollment',\t'SvcOtherCaseMgmt',\t'SvcOtherCaseMgmtSpec',\t'SvcMedicalCare',\t'SvcAlcoholDrugTesting',\t'SvcOBGYN',\t'SvcHIVAIDSMedical',\t'SvcHepatitisSupport',\t'SvcOtherSTISupport',\t'SvcDental',\t'SvcOtherMedicalSpec',\t'SvcContinuingCare',\t'SvcRelapsePrevention',\t'SvcRecoveryCoaching',\t'SvcSelfHelpSupport',\t'SvcSpiritualSupport',\t'SvcOtherAfterCare',\t'SvcOtherAfterCareSpec',\t'SvcSubstanceAbuseEdu',\t'SvcHIVAIDSEdu',\t'SvcHepatitisEdu',\t'SvcOtherSTIEdu',\t'SvcNaloxoneTraining',\t'SvcFentanylTestStripTraining',\t'SvcOtherEdu',\t'SvcOtherEduSpec',\t'SvcPeerCoaching',\t'SvcVocational',\t'SvcRecoveryHousing',\t'SvcRecoveryPlanningRSS',\t'SvcRecoveryCaseManagement',\t'SvcDrugFreeSocial',\t'SvcInformationReferral',\t'SvcOtherRecoverySupport',\t'SvcOtherRecoverySupportSpec',\t'SvcOtherPeerRecovery',\t'SvcOtherPeerRecoverySpec',\t'AttendedMostPlannedServices',\t'ReceivedTelehealthServices',\t'PreviouslyDiagnosedOUD',\t'kOUDMedMethadone',\t'kOUDMedMethadoneDays',\t'kOUDMedBuprenorphine',\t'kOUDMedBuprenorphineDays',\t'kOUDMedNaltrexone',\t'kOUDMedNaltrexoneDays',\t'kOUDMedXRNaltrexone',\t'kOUDMedXRNaltrexoneDoses',\t'kOUDMedNotReceived',\t'OUDMedTakenAsPrescribed',\t'PreviouslyDiagnosedAUD',\t'kAUDMedNaltrexone',\t'kAUDMedNaltrexoneDays',\t'kAUDMedXRNaltrexone',\t'kAUDMedXRNaltrexoneDoses',\t'kAUDMedDisulfiram',\t'kAUDMedDisulfiramDays',\t'kAUDMedAcamprosate',\t'kAUDMedAcamprosateDays',\t'kAUDMedNotReceived',\t'AUDMedTakenAsPrescribed',\t'PreviouslyDiagnosedStUD',\t'kStUDIntContMgmt',\t'kStUDIntContMgmtDays',\t'kStUDIntCommReinf',\t'kStUDIntCommReinfDays',\t'kStUDIntCBT',\t'kStUDIntCBTDays',\t'kStUDIntOther',\t'kStUDIntOtherDays',\t'kStUDIntNotReceived',\t'StUDIntAttended',\t'PreviouslyDiagnosedTUD',\t'kTUDMedNicotineRepl',\t'kTUDMedNicotineReplDays',\t'kTUDMedBupropion',\t'kTUDMedBupropionDays',\t'kTUDMedVarenicline',\t'kTUDMedVareniclineDays',\t'kTUDMedNotReceived',\t'TUDMedTakenAsPrescribed',\t'InterviewCreateDate']]\n",
    "\n",
    "\n",
    "#Exporting GPRA 6\n",
    "GPRA6_STAR.to_csv('GPRA6_STAR.csv', index = False, header = True, encoding = 'utf-8')\n",
    "\n"
   ]
  }
 ],
 "metadata": {
  "kernelspec": {
   "display_name": "Python 3 (ipykernel)",
   "language": "python",
   "name": "python3"
  },
  "language_info": {
   "codemirror_mode": {
    "name": "ipython",
    "version": 3
   },
   "file_extension": ".py",
   "mimetype": "text/x-python",
   "name": "python",
   "nbconvert_exporter": "python",
   "pygments_lexer": "ipython3",
   "version": "3.11.4"
  }
 },
 "nbformat": 4,
 "nbformat_minor": 5
}
