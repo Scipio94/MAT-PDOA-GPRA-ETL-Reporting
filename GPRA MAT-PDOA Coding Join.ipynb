{
 "cells": [
  {
   "cell_type": "markdown",
   "id": "3ceac960",
   "metadata": {},
   "source": [
    "# Data Joins\n",
    "Joing the multiple CSVs from the GPRA coding project due to the amount of pyton scripts fragmenting the data frame"
   ]
  },
  {
   "cell_type": "code",
   "execution_count": 1,
   "id": "b7955aa0",
   "metadata": {},
   "outputs": [],
   "source": [
    "import pandas as pd\n",
    "import datetime as dt\n",
    "from datetime import datetime"
   ]
  },
  {
   "cell_type": "code",
   "execution_count": 2,
   "id": "40f8f9fe",
   "metadata": {},
   "outputs": [],
   "source": [
    "#Importing data\n",
    "GPRA1 = pd.read_csv(r\"\\\\cdchomedir01\\home1\\tyogarro\\Jan GPRA\\GPRA1_MAT_PDOA.csv\", parse_dates = ['InterviewDate'])\n",
    "GPRA2 = pd.read_csv(r\"\\\\cdchomedir01\\home1\\tyogarro\\Jan GPRA\\GPRA2_MAT_PDOA.csv\")\n",
    "GPRA3 = pd.read_csv(r\"\\\\cdchomedir01\\home1\\tyogarro\\Jan GPRA\\GPRA3_MAT_PDOA.csv\")\n",
    "GPRA4 = pd.read_csv(r\"\\\\cdchomedir01\\home1\\tyogarro\\Jan GPRA\\GPRA4_MAT_PDOA.csv\")\n",
    "GPRA5 = pd.read_csv(r\"\\\\cdchomedir01\\home1\\tyogarro\\Jan GPRA\\GPRA5_MAT_PDOA.csv\")\n",
    "GPRA6 = pd.read_csv(r\"\\\\cdchomedir01\\home1\\tyogarro\\Jan GPRA\\GPRA6_MAT_PDOA.csv\")\n",
    "client_id = pd.read_excel(r\"\\\\cdcnetappnas01\\BHBH Institute\\MAT-PDOA\\MAT Client List - Use this one\\MAT-PDOA Client List Updated.xlsx\",sheet_name = 'Sheet1')\n"
   ]
  },
  {
   "cell_type": "code",
   "execution_count": 3,
   "id": "097e0b0c",
   "metadata": {},
   "outputs": [],
   "source": [
    "#Merging all of the GPRA files\n",
    "Full_GPRA_File = GPRA1.merge(GPRA2, on = 'ClientID', how = 'left')\\\n",
    "            .merge(GPRA3, on = 'ClientID', how = 'left')\\\n",
    "            .merge(GPRA4, on = 'ClientID', how = 'left')\\\n",
    "            .merge(GPRA5, on = 'ClientID', how = 'left')\\\n",
    "            .merge(GPRA6, on = 'ClientID', how = 'left')"
   ]
  },
  {
   "cell_type": "code",
   "execution_count": 5,
   "id": "c360d263",
   "metadata": {},
   "outputs": [],
   "source": [
    "#Subsetting dataset for merge to create IntakeDate Column \n",
    "Intake_Date_Merge = Full_GPRA_File[['ClientID','InterviewType','InterviewDate']]\n",
    "\n",
    "#Filtering dataset for intake\n",
    "Intake_Date_Merge = Intake_Date_Merge[Intake_Date_Merge['InterviewType'] == 1]\n",
    "\n",
    "#Subsetting dataset further\n",
    "Intake_Date_Merge = Intake_Date_Merge[['ClientID', 'InterviewDate']]\n",
    "\n",
    "#Renaming columns\n",
    "Intake_Date_Merge.rename(columns = {'InterviewDate':'IntakeDate'}, inplace = True)\n",
    "\n",
    "#Merging files\n",
    "Full_GPRA_File_MAT_PDOA = Full_GPRA_File.merge(Intake_Date_Merge, on= 'ClientID', how = 'left')"
   ]
  },
  {
   "cell_type": "code",
   "execution_count": 6,
   "id": "96e30b43",
   "metadata": {},
   "outputs": [],
   "source": [
    "#Data Cleaning client_id file\n",
    "client_id = client_id[2:] # <- returning all values from index to until the end of  the file\n",
    "client_id = client_id[['Unnamed: 5','MAT-PDOA Client List']] # <-subsetting dataset\n",
    "client_id.rename(columns = {'Unnamed: 5':'EPIC MRN','MAT-PDOA Client List':'ClientID'},inplace=True)"
   ]
  },
  {
   "cell_type": "code",
   "execution_count": 7,
   "id": "0464c5e2",
   "metadata": {},
   "outputs": [],
   "source": [
    "#Merging df and client_id based on MRN numbers\n",
    "Full_GPRA_File_MAT_PDOA = Full_GPRA_File_MAT_PDOA.merge(client_id, left_on = 'MRN', right_on = 'EPIC MRN', how = 'left')"
   ]
  },
  {
   "cell_type": "markdown",
   "id": "4b8fe5dc",
   "metadata": {},
   "source": [
    "## Current Upload:  10.14.24- 10.20.24\n",
    "\n",
    "## Next Upload: 10.21.24- 10.27.24"
   ]
  },
  {
   "cell_type": "code",
   "execution_count": 8,
   "id": "78113dea",
   "metadata": {},
   "outputs": [],
   "source": [
    "# Date Filter for current date range\n",
    "Full_GPRA_File_MAT_PDOA = Full_GPRA_File_MAT_PDOA[Full_GPRA_File_MAT_PDOA['InterviewDate']>='2024-10-21']"
   ]
  },
  {
   "cell_type": "code",
   "execution_count": 9,
   "id": "4e71b98d",
   "metadata": {},
   "outputs": [
    {
     "data": {
      "text/plain": [
       "array([1., 2.])"
      ]
     },
     "execution_count": 9,
     "metadata": {},
     "output_type": "execute_result"
    }
   ],
   "source": [
    "Full_GPRA_File_MAT_PDOA['InterviewType'].unique()"
   ]
  },
  {
   "cell_type": "code",
   "execution_count": 12,
   "id": "0755fb8b",
   "metadata": {},
   "outputs": [],
   "source": [
    "# creating dataframes based on interview type\n",
    "MAT_PDOA_Intakes = Full_GPRA_File_MAT_PDOA[Full_GPRA_File_MAT_PDOA['InterviewType']==1]\n",
    "MAT_PDOA_Follow_Ups = Full_GPRA_File_MAT_PDOA[Full_GPRA_File_MAT_PDOA['InterviewType']== 2]\n",
    "\n",
    "# loading dataframes to csv files in submission location\n",
    "MAT_PDOA_Intakes.to_csv('W:\\MAT-PDOA\\Batch Upload\\MAT_PDOA_Batch_Upload_10.21.2024-10.27.2024_Intakes.csv', index = False, header = True)\n",
    "MAT_PDOA_Follow_Ups.to_csv('W:\\MAT-PDOA\\Batch Upload\\MAT_PDOA_Batch_Upload_10.21.2024-10.27.2024_Follow-Ups.csv', index = False, header = True)\n"
   ]
  },
  {
   "cell_type": "code",
   "execution_count": 11,
   "id": "f6635b0e",
   "metadata": {},
   "outputs": [],
   "source": [
    "# #Exporting GPRA full file\n",
    "# Full_GPRA_File_MAT_PDOA.to_excel('Full_GPRA_File_MAT_PDOA.xlsx', index = False, header = True)\n"
   ]
  }
 ],
 "metadata": {
  "kernelspec": {
   "display_name": "Python 3 (ipykernel)",
   "language": "python",
   "name": "python3"
  },
  "language_info": {
   "codemirror_mode": {
    "name": "ipython",
    "version": 3
   },
   "file_extension": ".py",
   "mimetype": "text/x-python",
   "name": "python",
   "nbconvert_exporter": "python",
   "pygments_lexer": "ipython3",
   "version": "3.11.4"
  }
 },
 "nbformat": 4,
 "nbformat_minor": 5
}
