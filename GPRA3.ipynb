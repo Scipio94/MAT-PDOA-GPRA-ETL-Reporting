{
 "cells": [
  {
   "cell_type": "markdown",
   "id": "2498c9fd",
   "metadata": {},
   "source": [
    "# GRPA Coding\n",
    "\n",
    "Goverment Perfromance and Results Act (GPRA) coding for intake data of recovery specialist for the Institure for Prevention and Recovery (IFPR) at RWJ Baranabas"
   ]
  },
  {
   "cell_type": "code",
   "execution_count": 84,
   "id": "7e487610",
   "metadata": {},
   "outputs": [],
   "source": [
    "#importing pandas\n",
    "import pandas as pd\n",
    "import numpy as np"
   ]
  },
  {
   "cell_type": "code",
   "execution_count": 85,
   "id": "e9ffe513",
   "metadata": {},
   "outputs": [],
   "source": [
    "# importing data \n",
    "df = pd.read_csv(r\"C:\\Users\\tyogarro\\Documents\\Jan GPRA\\Jan_GPRA_STAR_File.csv\")\n",
    "\n",
    "#subsetting to include Peer Recovery Program episodes\n",
    "df = df[df['EPISODE'] =='IFPR - STAR Program']"
   ]
  },
  {
   "cell_type": "code",
   "execution_count": 86,
   "id": "5ca66a3f",
   "metadata": {},
   "outputs": [],
   "source": [
    "#Renaming column to create ClientID\n",
    "df.rename(columns = {'CSN':'ClientID'}, inplace = True)"
   ]
  },
  {
   "cell_type": "markdown",
   "id": "beaae7b8",
   "metadata": {},
   "source": [
    "## Creating GPRA 3"
   ]
  },
  {
   "cell_type": "code",
   "execution_count": 87,
   "id": "6ee3d68a",
   "metadata": {},
   "outputs": [],
   "source": [
    "#Replacing null values with -9\n",
    "df['MEDICATION_RECEIVED_FOR_STIMULANT_USE_DISORDER_PAST_30_DAYS'] = df['MEDICATION_RECEIVED_FOR_STIMULANT_USE_DISORDER_PAST_30_DAYS'].fillna(-9)\n",
    "\n",
    "#Creating function to create column StimDisContingMgmt\n",
    "def Stim_Dis_Conting_Mgmt (x):\n",
    "    if x == 'Contingency Management':\n",
    "        return 1\n",
    "    elif x == -9:\n",
    "        return -9\n",
    "    else:\n",
    "        return 0\n",
    "    \n",
    "#Creating column StimDisContingMgmt via applying the function Stim_Dis_Conting_Mgmt\n",
    "df['StimDisContingMgmt'] = df['MEDICATION_RECEIVED_FOR_STIMULANT_USE_DISORDER_PAST_30_DAYS'].apply(lambda x: Stim_Dis_Conting_Mgmt (x))"
   ]
  },
  {
   "cell_type": "code",
   "execution_count": 88,
   "id": "db5786f6",
   "metadata": {},
   "outputs": [],
   "source": [
    "#Creating a function to create column StimDisCommReinf\n",
    "def Stim_Dis_Comm_Reinf (x):\n",
    "    if x == 'Community Reinforcement':\n",
    "        return 1\n",
    "    elif x == -9:\n",
    "        return -9\n",
    "    else:\n",
    "        return 0\n",
    "\n",
    "#Creatimg column StimDisCommReinf via applying the Stim_Dis_Comm_Reinf function\n",
    "df['StimDisCommReinf'] = df['MEDICATION_RECEIVED_FOR_STIMULANT_USE_DISORDER_PAST_30_DAYS'].apply(lambda x: Stim_Dis_Comm_Reinf (x))"
   ]
  },
  {
   "cell_type": "code",
   "execution_count": 89,
   "id": "88396884",
   "metadata": {},
   "outputs": [],
   "source": [
    "#Creating function to create column StimDisCBT\n",
    "def Stim_Dis_CBT (x):\n",
    "    if x == 'Cognitive Behavioral Therapy' or x == 'Cognitive Behavioral Therapy, Community Reinforcement' or x == 'Cognitive Behavioral Therapy, DID NOT RECEIVE ANY INTERVENTION FOR A DIAGNOSED STIMULANT USE DISORDER':\n",
    "        return 1\n",
    "    elif x == -9:\n",
    "        return -9\n",
    "    else:\n",
    "        return 0\n",
    "    \n",
    "#Creating column StimDisCBT via applying the function Stim_Dis_CBT\n",
    "df['StimDisCBT'] = df['MEDICATION_RECEIVED_FOR_STIMULANT_USE_DISORDER_PAST_30_DAYS'].apply(lambda x: Stim_Dis_CBT (x))"
   ]
  },
  {
   "cell_type": "code",
   "execution_count": 90,
   "id": "b36b5944",
   "metadata": {},
   "outputs": [],
   "source": [
    "#Creating function to create column StimDisOtherEBI\n",
    "def Stim_Dis_Other_EBI (x):\n",
    "    if x == 'Other evidence-based intervention':\n",
    "        return 1\n",
    "    elif x == -9:\n",
    "        return -9\n",
    "    else:\n",
    "        return 0 \n",
    "\n",
    "#Creating column StimDisOtherEBI via applying the function Stim_Dis_Other_EB\n",
    "df['StimDisOtherEBI'] = df['MEDICATION_RECEIVED_FOR_STIMULANT_USE_DISORDER_PAST_30_DAYS'].apply(lambda x: Stim_Dis_Other_EBI (x))"
   ]
  },
  {
   "cell_type": "code",
   "execution_count": 91,
   "id": "2e03302e",
   "metadata": {},
   "outputs": [],
   "source": [
    "#Creating function to create column StimDisNoneRcvdDiagnosed\n",
    "def Stim_Dis_None_Rcvd_Diagnosed (x):\n",
    "    if x == 'CLIENT DOES NOT REPORT SUCH A DIAGNOSIS' or x == 'CLIENT DOES NOT REPORT SUCH A DIAGNOSIS, DID NOT RECEIVE ANY INTERVENTION FOR A DIAGNOSED STIMULANT USE DISORDER' or x == 'DID NOT RECEIVE ANY INTERVENTION FOR A DIAGNOSED STIMULANT USE DISORDER':\n",
    "        return 0\n",
    "    elif x == 'Community Reinforcement':\n",
    "        return 1\n",
    "    elif x == 'Cognitive Behavioral Therapy, Community Reinforcement':\n",
    "        return 1\n",
    "    elif x == 'Contingency Management, Other evidence-based intervention':\n",
    "        return 1\n",
    "    elif x == 'Cognitive Behavioral Therapy':\n",
    "        return 1\n",
    "    elif x == 'Cognitive Behavioral Therapy, DID NOT RECEIVE ANY INTERVENTION FOR A DIAGNOSED STIMULANT USE DISORDER':\n",
    "        return 1\n",
    "    elif x == 'Other evidence-based intervention':\n",
    "        return 1\n",
    "    elif x == 'Contingency Management':\n",
    "        return 1\n",
    "    elif x == -9:\n",
    "        return -9\n",
    "    \n",
    "#Creating column StimDisNoneRcvdDiagnosed via applying function  Stim_Dis_None_Rcvd_Diagnosed\n",
    "df['StimDisNoneRcvdDiagnosed'] = df['MEDICATION_RECEIVED_FOR_STIMULANT_USE_DISORDER_PAST_30_DAYS'].apply(lambda x: Stim_Dis_None_Rcvd_Diagnosed (x))"
   ]
  },
  {
   "cell_type": "code",
   "execution_count": 92,
   "id": "ab074c4c",
   "metadata": {},
   "outputs": [],
   "source": [
    "#Creating dictionary for rename\n",
    "\n",
    "dictionary6 = {'NUMBER_OF_DAYS_RECEIVED_CONTINGENCY_MANAGEMENT':'StimDisContingMgmtDays', 'NUMBER_OF_DAYS_RECEIVED_COMMUNITY_REINFORCEMENT':'StimDisCommReinfDays',\n",
    "               'NUMBER_OF_DAYS_RECEIVED_COGNITIVE_BEHAVIORAL_THERAPY':'StimDisCBTDays', 'NUMBER_OF_DAYS_RECEIVED_OTHER_EVIDENCE_BASED_INTERVENTION':'StimDisOtherEBIDays'}\n",
    "\n",
    "#Renaming columns\n",
    "df.rename(columns = dictionary6, inplace = True)"
   ]
  },
  {
   "cell_type": "code",
   "execution_count": 93,
   "id": "6104347c",
   "metadata": {},
   "outputs": [],
   "source": [
    "#Creating function to create column StimDisNotDiagnosed\n",
    "def Stim_Dis_Not_Diagnosed (x):\n",
    "    if x == 'CLIENT DOES NOT REPORT SUCH A DIAGNOSIS' or x == 'CLIENT DOES NOT REPORT SUCH A DIAGNOSIS, DID NOT RECEIVE ANY INTERVENTION FOR A DIAGNOSED STIMULANT USE DISORDER' or x == 'DID NOT RECEIVE ANY INTERVENTION FOR A DIAGNOSED STIMULANT USE DISORDER':\n",
    "        return 1\n",
    "    elif x == 'Community Reinforcement':\n",
    "            return 0\n",
    "    elif x == 'Cognitive Behavioral Therapy, Community Reinforcement':\n",
    "            return 0\n",
    "    elif x == 'Contingency Management, Other evidence-based intervention':\n",
    "            return 0\n",
    "    elif x == 'Cognitive Behavioral Therapy':\n",
    "            return 0\n",
    "    elif x == 'Cognitive Behavioral Therapy, DID NOT RECEIVE ANY INTERVENTION FOR A DIAGNOSED STIMULANT USE DISORDER':\n",
    "            return 0\n",
    "    elif x == 'Other evidence-based intervention':\n",
    "            return 0\n",
    "    elif x == 'Contingency Management':\n",
    "            return 0\n",
    "    elif x == -9:\n",
    "            return -9\n",
    "    \n",
    "#Creating column StimDisNotDiagnosed via applying the function Stim_Dis_Not_Diagnosed\n",
    "df['StimDisNotDiagnosed'] = df['MEDICATION_RECEIVED_FOR_STIMULANT_USE_DISORDER_PAST_30_DAYS'].apply(lambda x: Stim_Dis_Not_Diagnosed (x))"
   ]
  },
  {
   "cell_type": "code",
   "execution_count": 94,
   "id": "14fbc574",
   "metadata": {},
   "outputs": [],
   "source": [
    "#Replacing null values with -9\n",
    "df['MEDICATION_RECEIVED_FOR_TOBACCO_USE_DISORDER_PAST_30_DAYS'] = df['MEDICATION_RECEIVED_FOR_TOBACCO_USE_DISORDER_PAST_30_DAYS'].fillna(-9)\n",
    "\n",
    "#Creating function to create column TUDNicReplace\n",
    "def TUD_Nic_Replace (x):\n",
    "    if x == 'Nicotine Replacement':\n",
    "        return 1\n",
    "    elif x == -9:\n",
    "        return -9\n",
    "    else:\n",
    "        return 0\n",
    "\n",
    "#Creating column TUDNicReplace via applying the function TUD_Nic_Replace\n",
    "df['TUDNicReplace'] = df['MEDICATION_RECEIVED_FOR_TOBACCO_USE_DISORDER_PAST_30_DAYS'].apply(lambda x: TUD_Nic_Replace (x))"
   ]
  },
  {
   "cell_type": "code",
   "execution_count": 95,
   "id": "4c17e646",
   "metadata": {},
   "outputs": [],
   "source": [
    "#Creating a function to create column TUDBupropion\n",
    "def TUD_Bupropion (x):\n",
    "    if x == 'Bupropion':\n",
    "        return 1\n",
    "    elif x == -9:\n",
    "        return -9\n",
    "    else:\n",
    "        return 0\n",
    "\n",
    "#Creating column TUDBupropion via applying the function TUD_Bupropion\n",
    "df['TUDBupropion'] = df['MEDICATION_RECEIVED_FOR_TOBACCO_USE_DISORDER_PAST_30_DAYS'].apply(lambda x: TUD_Bupropion (x))\n"
   ]
  },
  {
   "cell_type": "code",
   "execution_count": 96,
   "id": "130a28a3",
   "metadata": {},
   "outputs": [],
   "source": [
    "#Creating a function to create column TUDVarenicline\n",
    "def TUD_Varenicline (x):\n",
    "    if x == 'Varenicline':\n",
    "        return 1\n",
    "    elif x == -9:\n",
    "        return -9\n",
    "    else:\n",
    "        return 0\n",
    "    \n",
    "#Creating column TUDVarenicline via applying the function TUD_Varenicline\n",
    "df['TUDVarenicline'] = df['MEDICATION_RECEIVED_FOR_TOBACCO_USE_DISORDER_PAST_30_DAYS'].apply(lambda x:TUD_Varenicline (x))\n",
    "\n",
    "#Creating column TUDVareniclineDays\n",
    "df['TUDVareniclineDays'] = -9"
   ]
  },
  {
   "cell_type": "code",
   "execution_count": 97,
   "id": "d39823d9",
   "metadata": {},
   "outputs": [],
   "source": [
    "#Creating function to create column TUDNoneRcvdDiagnosed\n",
    "def TUD_None_Rcvd_Diagnosed (x):\n",
    "    if x == 'DID NOT RECEIVE AN FDA-APPROVED MEDICATION FOR A DIAGNOSED TOBACCO USE DISORDER':\n",
    "        return 1\n",
    "    elif x == -9:\n",
    "        return -9\n",
    "    else:\n",
    "        return 0\n",
    "    \n",
    "#Creating column TUDNoneRcvdDiagnosed via applying the function TUD_None_Rcvd_Diagnosed\n",
    "df['TUDNoneRcvdDiagnosed'] = df['MEDICATION_RECEIVED_FOR_TOBACCO_USE_DISORDER_PAST_30_DAYS'].apply(lambda x: TUD_None_Rcvd_Diagnosed (x))"
   ]
  },
  {
   "cell_type": "code",
   "execution_count": 98,
   "id": "4eb8e3d9",
   "metadata": {},
   "outputs": [],
   "source": [
    "#Creating function to create column TUDNotDiagnosed\n",
    "def TUD_Not_Diagnosed (x):\n",
    "    if x == 'CLIENT DOES NOT REPORT SUCH A DIAGNOSIS':\n",
    "        return 1\n",
    "    elif x == -9:\n",
    "        return -9\n",
    "    else:\n",
    "        return 0\n",
    "\n",
    "#Creating column TUDNotDiagnosed via applying function TUD_Not_Diagnosed\n",
    "df['TUDNotDiagnosed'] = df['MEDICATION_RECEIVED_FOR_TOBACCO_USE_DISORDER_PAST_30_DAYS'].apply(lambda x: TUD_Not_Diagnosed (x))"
   ]
  },
  {
   "cell_type": "code",
   "execution_count": 99,
   "id": "6e705ebe",
   "metadata": {},
   "outputs": [],
   "source": [
    "#Replacing null values with -9\n",
    "df['EXPERIENCED_OVERDOSE_IN_PAST_30_DAYS'] = df['EXPERIENCED_OVERDOSE_IN_PAST_30_DAYS'].fillna(-9)\n",
    "\n",
    "#Creating function to create column Overdose\n",
    "def Overdose (x):\n",
    "    if x == 'Yes (IF YES, SPECIFY BELOW IN QUESTION 7)':\n",
    "        return 1\n",
    "    elif x == -9:\n",
    "        return -9\n",
    "    elif x == 'No (IF NO, SKIP TO QUESTION 8)':\n",
    "        return 0\n",
    "    else:\n",
    "        return -7\n",
    "\n",
    "#Creating column Overdose via applying function Overdose\n",
    "df['Overdose'] = df['EXPERIENCED_OVERDOSE_IN_PAST_30_DAYS'].apply(lambda x: Overdose (x))"
   ]
  },
  {
   "cell_type": "code",
   "execution_count": 100,
   "id": "ce0f5cb6",
   "metadata": {},
   "outputs": [],
   "source": [
    "#Replacing null values with -1\n",
    "df['INTERVENTION_RECEIVED_AFTER_OVEROSE_IN_PAST_30_DAYS'] = df['INTERVENTION_RECEIVED_AFTER_OVEROSE_IN_PAST_30_DAYS'].fillna(-1)\n",
    "\n",
    "#Creating function to create the column OverdoseIntervNaloxone\n",
    "def Overdose_Interv_Naloxone (x):\n",
    "    if x == 'Naloxone (Narcan)' or x == 'Naloxone (Narcan), Supervision by someone else':\n",
    "        return 1\n",
    "    elif x == -1:\n",
    "        return -1\n",
    "    elif x == 'REFUSED':\n",
    "        return -1\n",
    "    else:\n",
    "        return 0\n",
    "    \n",
    "    \n",
    "#Creating column OverdoseIntervNaloxone via applying function Overdose_Interv_Naloxone\n",
    "df['OverdoseIntervNaloxone'] = df['INTERVENTION_RECEIVED_AFTER_OVEROSE_IN_PAST_30_DAYS'].apply(lambda x:Overdose_Interv_Naloxone (x))"
   ]
  },
  {
   "cell_type": "code",
   "execution_count": 101,
   "id": "44926eb7",
   "metadata": {},
   "outputs": [],
   "source": [
    "#Creating function to create column OverdoseIntervCareED\n",
    "def Overdose_Interv_CareED (x):\n",
    "    if x == 'Care in an Emergency Department, Naloxone (Narcan)' or x == 'Care in an Emergency Department' or x == 'Care in an Emergency Department, Naloxone (Narcan), Other (SPECIFY), Supervision by someone else' or x == 'Care in an Emergency Department, REFUSED':\n",
    "        return 1\n",
    "    elif x == -1:\n",
    "        return -1\n",
    "    elif x == 'REFUSED':\n",
    "        return -1\n",
    "    else:\n",
    "        return 0\n",
    "\n",
    "#Creating column OverdoseIntervCareED via applying the function Overdose_Interv_CareED\n",
    "df['OverdoseIntervCareED'] = df['INTERVENTION_RECEIVED_AFTER_OVEROSE_IN_PAST_30_DAYS'].apply(lambda x: Overdose_Interv_CareED (x))"
   ]
  },
  {
   "cell_type": "code",
   "execution_count": 102,
   "id": "5dff3ee2",
   "metadata": {},
   "outputs": [],
   "source": [
    "#Creating function to create column OverdoseIntervCarePCP\n",
    "def Overdose_Interv_CarePCP (x):\n",
    "    if x == 'Care from a Primary Care Provider' or x == 'Care from a Primary Care Provider, Care in an Emergency Department, Naloxone (Narcan)':\n",
    "        return 1\n",
    "    elif x == -1:\n",
    "        return -1\n",
    "    elif x == 'REFUSED':\n",
    "        return -1\n",
    "    else:\n",
    "        return 0\n",
    "    \n",
    "#Creating column OverdoseIntervCarePCP via applying the function Overdose_Interv_CarePCP\n",
    "df['OverdoseIntervCarePCP'] = df['INTERVENTION_RECEIVED_AFTER_OVEROSE_IN_PAST_30_DAYS'].apply(lambda x: Overdose_Interv_CarePCP (x))"
   ]
  },
  {
   "cell_type": "code",
   "execution_count": 103,
   "id": "ede85fcd",
   "metadata": {},
   "outputs": [],
   "source": [
    "#Creating column TUDNicReplaceDays via renaming column and replacing missing values\n",
    "df['TUDNicReplaceDays'] = df['NUMBER_OF_DAYS_RECEIVED_NICOTINE_REPLACEMENT'].fillna(-9)\n",
    "\n",
    "#Renaming column and replacing null values with -9 to create column TUDBupropionDays\n",
    "df['TUDBupropionDays'] = df['NUMBER_OF_DAYS_RECEIVED_BUPROPION'].fillna(-9)"
   ]
  },
  {
   "cell_type": "code",
   "execution_count": 104,
   "id": "c12338ce",
   "metadata": {},
   "outputs": [],
   "source": [
    "#Creating substring \n",
    "df['INTERVENTION_RECEIVED_AFTER_OVEROSE_IN_PAST_30_DAYS'] = df['INTERVENTION_RECEIVED_AFTER_OVEROSE_IN_PAST_30_DAYS'].str.split(',').str[0]\n",
    "\n",
    "#Replacing null values\n",
    "df['INTERVENTION_RECEIVED_AFTER_OVEROSE_IN_PAST_30_DAYS'] = df['INTERVENTION_RECEIVED_AFTER_OVEROSE_IN_PAST_30_DAYS'].fillna(-9)\n",
    "\n",
    "\n",
    "#Creating function to create the column OverdoseIntervHospital\n",
    "def Overdose_Interv_Hospital (x):\n",
    "    if x == 'Admission to a hospital':         \n",
    "        return 1\n",
    "    elif x == -1:\n",
    "        return -1\n",
    "    elif x == 'REFUSED':\n",
    "        return -1\n",
    "    else:\n",
    "        return 0 \n",
    "    \n",
    "    \n",
    "#Creating column OverdoseIntervHospital via applying the function Overdose_Interv_Hospital\n",
    "df['OverdoseIntervHospital'] = df['INTERVENTION_RECEIVED_AFTER_OVEROSE_IN_PAST_30_DAYS'].apply(lambda x:Overdose_Interv_Hospital (x))"
   ]
  },
  {
   "cell_type": "code",
   "execution_count": 105,
   "id": "17d094d3",
   "metadata": {},
   "outputs": [],
   "source": [
    "#Creating function to create column OverdoseIntervSupervise\n",
    "def Overdose_Interv_Supervise (x):\n",
    "    if x == 'Supervision by someone else':\n",
    "        return 1\n",
    "    elif x == -1:\n",
    "        return -1\n",
    "    elif x == 'REFUSED':\n",
    "        return -1\n",
    "    else:\n",
    "        return 0 \n",
    "\n",
    "#Creating column OverdoseIntervSupervise via applying function Overdose_Interv_Supervis\n",
    "df['OverdoseIntervSupervise'] = df['INTERVENTION_RECEIVED_AFTER_OVEROSE_IN_PAST_30_DAYS'].apply(lambda x:Overdose_Interv_Supervise (x))"
   ]
  },
  {
   "cell_type": "code",
   "execution_count": 106,
   "id": "72ebff2e",
   "metadata": {},
   "outputs": [],
   "source": [
    "#Creating function to create column OverdoseIntervOther\n",
    "def Overdose_Interv_Other (x):\n",
    "    if x == 'Other (SPECIFY)':\n",
    "        return 1\n",
    "    elif x == -1:\n",
    "        return -1\n",
    "    elif x == 'REFUSED':\n",
    "        return -1\n",
    "    else:\n",
    "        return 0 \n",
    "\n",
    "#Creating column OverdoseIntervOther via applying function Overdose_Interv_Other\n",
    "df['OverdoseIntervOther'] = df['INTERVENTION_RECEIVED_AFTER_OVEROSE_IN_PAST_30_DAYS'].apply(lambda x:Overdose_Interv_Other (x))"
   ]
  },
  {
   "cell_type": "code",
   "execution_count": 107,
   "id": "24c3714b",
   "metadata": {},
   "outputs": [],
   "source": [
    "#Renaming column \n",
    "df.rename(columns = {'OTHER_INTERVENTION':'OverdoseIntervSpec'}, inplace = True)\n",
    "\n",
    "#Renaming column to create column OverdoseIntervSpec\n",
    "df['OverdoseIntervSpec'] =  df['OverdoseIntervSpec'].str.title()"
   ]
  },
  {
   "cell_type": "code",
   "execution_count": 108,
   "id": "5d30ab40",
   "metadata": {},
   "outputs": [],
   "source": [
    "#Replacing null values with -9\n",
    "df['HOW_MANY_TIMES_TREATED_FOR_SUBSTANCE_USE_DISORDER'] = df['HOW_MANY_TIMES_TREATED_FOR_SUBSTANCE_USE_DISORDER'].fillna(-9)\n",
    "\n",
    "#Creating function to create column TxSUD\n",
    "def Tx_SUD (x):\n",
    "    if x == 'One time':\n",
    "        return 1\n",
    "    elif x == 'Two times':\n",
    "        return 2\n",
    "    elif x == 'Three times':\n",
    "        return 3\n",
    "    elif x == 'Four times':\n",
    "        return 4\n",
    "    elif x == 'Five times':\n",
    "        return 5\n",
    "    elif x == 'Six or more times':\n",
    "        return 6\n",
    "    elif x == 'Never (SKIP TO QUESTION 10)':\n",
    "        return 0\n",
    "    elif x == 'REFUSED (SKIP TO QUESTION 10)':\n",
    "        return -7\n",
    "    elif x == -9:\n",
    "        return -9\n",
    "    \n",
    "#Creating column TxSUD via applying function Tx_SUD\n",
    "df['TxSUD'] = df['HOW_MANY_TIMES_TREATED_FOR_SUBSTANCE_USE_DISORDER'].apply(lambda x:Tx_SUD (x))"
   ]
  },
  {
   "cell_type": "code",
   "execution_count": 109,
   "id": "04916ad4",
   "metadata": {},
   "outputs": [],
   "source": [
    "#Replacing null values with -9\n",
    "df['LAST_TIME_RECEIVED_TREATMENT_FOR_SUBSTANCE_USE_DISORDER'] = df['LAST_TIME_RECEIVED_TREATMENT_FOR_SUBSTANCE_USE_DISORDER'].fillna(-9)\n",
    "\n",
    "\n",
    "#Creating function to create column TxSUDWhen\n",
    "def Tx_SUD_When (x):\n",
    "    if x == 'Less than 6 months ago':\n",
    "        return 1\n",
    "    elif x == 'Between 6 months and one year ago':\n",
    "        return 2\n",
    "    elif x == 'One to two years ago':\n",
    "        return 3\n",
    "    elif x == 'Two to three years ago':\n",
    "        return 4\n",
    "    elif x == 'Three to four years ago':\n",
    "        return 5\n",
    "    elif x == 'Five or more years ago':\n",
    "        return 6\n",
    "    elif x == -9:\n",
    "        return -9\n",
    "    elif x == 'REFUSED':\n",
    "        return -7\n",
    "    \n",
    "#Creating column via applying the function Tx_SUD_When\n",
    "df['TxSUDWhen'] = df['LAST_TIME_RECEIVED_TREATMENT_FOR_SUBSTANCE_USE_DISORDER'].apply(lambda x:Tx_SUD_When (x))    "
   ]
  },
  {
   "cell_type": "code",
   "execution_count": 110,
   "id": "505bc48b",
   "metadata": {},
   "outputs": [],
   "source": [
    "#Replacing null values with -9\n",
    "df['EVER_DIAGNOSED_WITH_MENTAL_HEALTH_ILLNESS'] = df['EVER_DIAGNOSED_WITH_MENTAL_HEALTH_ILLNESS'].fillna(-9)\n",
    "\n",
    "#Creating function to create column MHDiagnosis\n",
    "def MH_Diagnosis (x):\n",
    "    if x == 'Yes':\n",
    "        return 1\n",
    "    elif x == -9:\n",
    "        return -9\n",
    "    elif x == 'NO (SKIP TO QUESTION 11)':\n",
    "        return 0\n",
    "    elif x == 'REFUSED (SKIP TO QUESTION 11)':\n",
    "        return -7\n",
    "    \n",
    "#Creating column MHDiagnosis via applying the function MH_Diagnosis\n",
    "df['MHDiagnosis'] = df['EVER_DIAGNOSED_WITH_MENTAL_HEALTH_ILLNESS'].apply(lambda x: MH_Diagnosis (x))"
   ]
  },
  {
   "cell_type": "code",
   "execution_count": 111,
   "id": "20b751ee",
   "metadata": {},
   "outputs": [],
   "source": [
    "#Creating substring\n",
    "df['SCHIZOPHRENIA_SCHIZOTYPAL_DELUSIONAL_OR_OTHER_NON_MOOD_PSYCHOTIC_DISORDERS'] = df['SCHIZOPHRENIA_SCHIZOTYPAL_DELUSIONAL_OR_OTHER_NON_MOOD_PSYCHOTIC_DISORDERS'].str.split(',').str[0]\n",
    "\n",
    "#Replacing null values with -9\n",
    "df['SCHIZOPHRENIA_SCHIZOTYPAL_DELUSIONAL_OR_OTHER_NON_MOOD_PSYCHOTIC_DISORDERS'] = df['SCHIZOPHRENIA_SCHIZOTYPAL_DELUSIONAL_OR_OTHER_NON_MOOD_PSYCHOTIC_DISORDERS'].fillna(-9)\n",
    "\n",
    "#Creating function to create column DxBriefPsych\n",
    "def Dx_Brief_Psych (x):\n",
    "    if x == 'No Schizophrenia':\n",
    "        return 0\n",
    "    elif x == 'Schizophrenia':\n",
    "        return 1\n",
    "    elif x == -9:\n",
    "        return -9\n",
    "\n",
    "#Creating column DxBriefPsych via applying the function Dx_Brief_Psych\n",
    "df['DxBriefPsych'] = df['SCHIZOPHRENIA_SCHIZOTYPAL_DELUSIONAL_OR_OTHER_NON_MOOD_PSYCHOTIC_DISORDERS'].apply(lambda x:Dx_Brief_Psych (x))"
   ]
  },
  {
   "cell_type": "code",
   "execution_count": 112,
   "id": "4c9850cb",
   "metadata": {},
   "outputs": [],
   "source": [
    "#Creating function to create column DxDelusional\n",
    "def Dx_Delusional (x):\n",
    "    if x == 'Delusional disorder':\n",
    "        return 1\n",
    "    elif x == -9:\n",
    "        return -9\n",
    "    else:\n",
    "        return 0\n",
    "    \n",
    "    \n",
    "#Creating DxDelusional column via applying function Dx_Delusional\n",
    "df['DxDelusional'] = df['SCHIZOPHRENIA_SCHIZOTYPAL_DELUSIONAL_OR_OTHER_NON_MOOD_PSYCHOTIC_DISORDERS'].apply(lambda x: Dx_Delusional (x))"
   ]
  },
  {
   "cell_type": "code",
   "execution_count": 113,
   "id": "2496237f",
   "metadata": {},
   "outputs": [],
   "source": [
    "#Creating function to create column DxSchizoaffective\n",
    "def Dx_Schizoaffective (x):\n",
    "    if x == 'Schizoaffective disorders':\n",
    "        return 1\n",
    "    elif x == -9:\n",
    "        return -9\n",
    "    else:\n",
    "        return 0\n",
    "    \n",
    "#Creating column via applying function Dx_Schizoaffective\n",
    "df['DxSchizoaffective'] = df['SCHIZOPHRENIA_SCHIZOTYPAL_DELUSIONAL_OR_OTHER_NON_MOOD_PSYCHOTIC_DISORDERS'].apply(lambda x:Dx_Schizoaffective (x))"
   ]
  },
  {
   "cell_type": "code",
   "execution_count": 114,
   "id": "2b2571b4",
   "metadata": {},
   "outputs": [],
   "source": [
    "#Creating function to create column DxSchizophrenia\n",
    "def Dx_Schizophrenia (x):\n",
    "    if x == 'Schizophrenia' or x == 'Schizophrenia, Unspecified psychosis':\n",
    "        return 1\n",
    "    elif x == -9:\n",
    "        return -9\n",
    "    else:\n",
    "        return 0\n",
    "    \n",
    "    \n",
    "#Creating column DxSchizophrenia via applying the function Dx_Schizophrenia\n",
    "df['DxSchizophrenia'] = df['SCHIZOPHRENIA_SCHIZOTYPAL_DELUSIONAL_OR_OTHER_NON_MOOD_PSYCHOTIC_DISORDERS'].apply(lambda x: Dx_Schizophrenia (x))\n",
    "\n",
    "#Create substring"
   ]
  },
  {
   "cell_type": "code",
   "execution_count": 115,
   "id": "d20e4067",
   "metadata": {},
   "outputs": [],
   "source": [
    "#Creating function to create column DxSchizotypal\n",
    "def Dx_Schizotypal (x):\n",
    "    if x == 'Schizotypal':\n",
    "        return 1\n",
    "    elif x == -9:\n",
    "        return -9\n",
    "    else:\n",
    "        return 0\n",
    "    \n",
    "#Creating column DxSchizotypal via applying the function Dx_Schizotypal\n",
    "df['DxSchizotypal'] = df['SCHIZOPHRENIA_SCHIZOTYPAL_DELUSIONAL_OR_OTHER_NON_MOOD_PSYCHOTIC_DISORDERS'].apply(lambda x:Dx_Schizotypal (x))"
   ]
  },
  {
   "cell_type": "code",
   "execution_count": 116,
   "id": "5f5eb744",
   "metadata": {},
   "outputs": [],
   "source": [
    "#Creating function to create column DxSharedPsychotic\n",
    "def Dx_Shared_Psychotic (x): \n",
    "    if x == 'Shared psychotic disorder':\n",
    "        return 1\n",
    "    elif x == -9:\n",
    "        return -9\n",
    "    else:\n",
    "        return 0\n",
    "    \n",
    "    \n",
    "#Creating column DxSharedPsychotic via applying the function Dx_Shared_Psychotic\n",
    "df['DxSharedPsychotic'] = df['SCHIZOPHRENIA_SCHIZOTYPAL_DELUSIONAL_OR_OTHER_NON_MOOD_PSYCHOTIC_DISORDERS'].apply(lambda x: Dx_Shared_Psychotic (x))"
   ]
  },
  {
   "cell_type": "code",
   "execution_count": 117,
   "id": "0b765f66",
   "metadata": {},
   "outputs": [],
   "source": [
    "#Creating function to create column DxUnspecPsych\n",
    "def Dx_Unspec_Psych (x):\n",
    "    if x == 'Unspecified psychosis':\n",
    "        return 1\n",
    "    elif x == -9:\n",
    "        return -9\n",
    "    else:\n",
    "        return 0\n",
    "    \n",
    "#Creating column DxUnspecPsych via applying function Dx_Unspec_Psych (x)\n",
    "df['DxUnspecPsych'] = df['SCHIZOPHRENIA_SCHIZOTYPAL_DELUSIONAL_OR_OTHER_NON_MOOD_PSYCHOTIC_DISORDERS'].apply(lambda x:Dx_Unspec_Psych (x))"
   ]
  },
  {
   "cell_type": "code",
   "execution_count": 118,
   "id": "0ce4a2a4",
   "metadata": {},
   "outputs": [],
   "source": [
    "#Creating function to create column DxBipolar\n",
    "def Dx_Bipolar (x):\n",
    "    if x == 'Biploar Disorder':\n",
    "        return 1\n",
    "    elif x == -9:\n",
    "        return -9\n",
    "    else:\n",
    "        return 0\n",
    "    \n",
    "#Creating column DxBipolar via applying function Dx_Bipolar\n",
    "df['DxBipolar'] = df['SCHIZOPHRENIA_SCHIZOTYPAL_DELUSIONAL_OR_OTHER_NON_MOOD_PSYCHOTIC_DISORDERS'].apply(lambda x: Dx_Bipolar (x))"
   ]
  },
  {
   "cell_type": "code",
   "execution_count": 119,
   "id": "fba7fea9",
   "metadata": {},
   "outputs": [],
   "source": [
    "# #Replacing null values with -9\n",
    "df['MOOD_AFFECTIVE_DISORDERS'] = df['MOOD_AFFECTIVE_DISORDERS'].fillna(-9)\n",
    "\n",
    "#Creating a function to create column DxMajorDepRecurr\n",
    "def Dx_Major_Dep_Recurr (x):\n",
    "    if x == 'Major depressive disorder, recurrent' or x == 'Major depressive disorder, recurrent, Manic episode' or x == 'Major depressive disorder, recurrent, No Mood [Affective] Disorders Reported':\n",
    "        return 1\n",
    "    elif x == 'Major depressive disorder, recurrent, Major depressive disorder, single episode, Manic episode' or x == 'Major depressive disorder, recurrent, Unspecified mood [affective] disorder' or x == 'Major depressive disorder, recurrent, Persistent mood [affective] disorders' or x == 'Major depressive disorder, recurrent, Major depressive disorder, single episode':\n",
    "        return 1\n",
    "    elif x == -9:\n",
    "        return -9\n",
    "    else:\n",
    "        return 0\n",
    "    \n",
    "    \n",
    "#Creating column DxMajorDepRecurr via applying function Dx_Major_Dep_Recurr\n",
    "df['DxMajorDepRecurr'] = df['MOOD_AFFECTIVE_DISORDERS'].apply(lambda x:Dx_Major_Dep_Recurr (x))"
   ]
  },
  {
   "cell_type": "code",
   "execution_count": 120,
   "id": "fa31882f",
   "metadata": {},
   "outputs": [],
   "source": [
    "#Creating function to create column DxMajorDepSingle\n",
    "def Dx_Major_Dep_Single (x):\n",
    "    if x == 'Major depressive disorder, single episode':\n",
    "        return 1\n",
    "    elif x == -9:\n",
    "        return -9\n",
    "    else:\n",
    "        return 0\n",
    "    \n",
    "#Creating column DxMajorDepSingle via applying the function  Dx_Major_Dep_Single (x)\n",
    "df['DxMajorDepSingle'] = df['MOOD_AFFECTIVE_DISORDERS'].apply(lambda x: Dx_Major_Dep_Single (x))"
   ]
  },
  {
   "cell_type": "code",
   "execution_count": 121,
   "id": "b2db6a83",
   "metadata": {},
   "outputs": [],
   "source": [
    "#Creating function to create column DxManicEp\n",
    "def Dx_Manic_Ep (x):\n",
    "    if x == 'Manic episode':\n",
    "        return 1\n",
    "    elif x == -9:\n",
    "        return -9\n",
    "    else:\n",
    "        return 0\n",
    "    \n",
    "#Creating column DxManicEp via applying the function Dx_Manic_Ep (x)\n",
    "df['DxManicEp'] = df['MOOD_AFFECTIVE_DISORDERS'].apply(lambda x: Dx_Manic_Ep (x))"
   ]
  },
  {
   "cell_type": "code",
   "execution_count": 122,
   "id": "ad6b15bd",
   "metadata": {},
   "outputs": [],
   "source": [
    "#Creating function to create column DxPersistMood\n",
    "def Dx_Persist_Mood (x):\n",
    "    if x == 'Persistent mood [affective] disorders':\n",
    "        return 1\n",
    "    elif x == -9:\n",
    "        return -9\n",
    "    else:\n",
    "        return 0\n",
    "    \n",
    "#Creating column DxPersistMood via applying the function Dx_Persist_Mood (x)\n",
    "df['DxPersistMood'] = df['MOOD_AFFECTIVE_DISORDERS'].apply(lambda x: Dx_Persist_Mood (x))"
   ]
  },
  {
   "cell_type": "code",
   "execution_count": 123,
   "id": "9847a872",
   "metadata": {},
   "outputs": [],
   "source": [
    "#Creating function to create column DxUnspecMood\n",
    "def Dx_Unspec_Mood (x):\n",
    "    if x == 'Unspecified Mood [Affective] Disorders Reported':\n",
    "        return 1\n",
    "    elif x == -9:\n",
    "        return -9\n",
    "    else:\n",
    "        return 0\n",
    "    \n",
    "#Creating column DxUnspecMood via applying the function Dx_Unspec_Mood (x)\n",
    "df['DxUnspecMood'] = df['MOOD_AFFECTIVE_DISORDERS'].apply(lambda x:Dx_Unspec_Mood (x))"
   ]
  },
  {
   "cell_type": "code",
   "execution_count": 124,
   "id": "8d91571b",
   "metadata": {},
   "outputs": [],
   "source": [
    "#Creating substring \n",
    "df['PHOBIC ANXIETY_AND_OTHER_ANXIETY_DISORDERS'] = df['PHOBIC ANXIETY_AND_OTHER_ANXIETY_DISORDERS'].str.split(',').str[0]\n",
    "\n",
    "#Replacing null values with -9 \n",
    "df['PHOBIC ANXIETY_AND_OTHER_ANXIETY_DISORDERS'] = df['PHOBIC ANXIETY_AND_OTHER_ANXIETY_DISORDERS'].fillna(-9)\n",
    "#Creatng function to create column DxAgora\n",
    "def Dx_Agora (x):\n",
    "    if x == 'Agoraphobia without panic disorder':\n",
    "        return 1\n",
    "    elif x == -9:\n",
    "        return -9\n",
    "    else:\n",
    "        return 0\n",
    "    \n",
    "#Creating column DxAgora via applying the function Dx_Agora (x)\n",
    "df['DxAgora'] = df['PHOBIC ANXIETY_AND_OTHER_ANXIETY_DISORDERS'].apply(lambda x: Dx_Agora (x))"
   ]
  },
  {
   "cell_type": "code",
   "execution_count": 125,
   "id": "a520d8b3",
   "metadata": {},
   "outputs": [],
   "source": [
    "#Creatng function to create column DxAgoraWithPD:\n",
    "def Dx_Agora_With_PD (x):\n",
    "    if x == 'Agoraphobia with panic disorder':\n",
    "        return 1\n",
    "    elif x == -9:\n",
    "        return -9\n",
    "    else:\n",
    "        return 0\n",
    "    \n",
    "#Creating column DxAgoraWithPD via applying the function Dx_Agora_With_PD (x)\n",
    "df['DxAgoraWithPD'] = df['PHOBIC ANXIETY_AND_OTHER_ANXIETY_DISORDERS'].apply(lambda x:Dx_Agora_With_PD (x))"
   ]
  },
  {
   "cell_type": "code",
   "execution_count": 126,
   "id": "49010e67",
   "metadata": {},
   "outputs": [],
   "source": [
    "#Creatng function to create column DxAgoraUnspec\n",
    "def Dx_Agora_Unspec (x):\n",
    "    if x == 'DxAgoraUnspec':\n",
    "        return 1\n",
    "    elif x == -9:\n",
    "        return -9\n",
    "    else:\n",
    "        return 0\n",
    "    \n",
    "#Creating column DxAgoraUnspec via applying the function Dx_Agora_Unspec (x)\n",
    "df['DxAgoraUnspec'] = df['PHOBIC ANXIETY_AND_OTHER_ANXIETY_DISORDERS'].apply(lambda x:Dx_Agora_Unspec (x))"
   ]
  },
  {
   "cell_type": "code",
   "execution_count": 127,
   "id": "0098c76c",
   "metadata": {},
   "outputs": [],
   "source": [
    "#Creatng function to create column DxGAD\n",
    "def Dx_GAD (x):\n",
    "    if x == 'Generalized anxiety disorder':\n",
    "        return 1\n",
    "    elif x == -9:\n",
    "        return -9\n",
    "    else:\n",
    "        return 0\n",
    "    \n",
    "#Creating column DxGAD via applying the function Dx_GAD (x)\n",
    "df['DxGAD'] = df['PHOBIC ANXIETY_AND_OTHER_ANXIETY_DISORDERS'].apply(lambda x:Dx_GAD (x))"
   ]
  },
  {
   "cell_type": "code",
   "execution_count": 128,
   "id": "d9a5f537",
   "metadata": {},
   "outputs": [],
   "source": [
    "#Creatng function to create column DxPanic\n",
    "def Dx_Panic (x):\n",
    "    if x == 'Panic disorder':\n",
    "        return 1\n",
    "    elif x == -9:\n",
    "        return -9\n",
    "    else:\n",
    "        return 0\n",
    "\n",
    "#Creating column DxPanic via applying the function Dx_Panic (x) \n",
    "df['DxPanic'] = df['PHOBIC ANXIETY_AND_OTHER_ANXIETY_DISORDERS'].apply(lambda x: Dx_Panic (x))"
   ]
  },
  {
   "cell_type": "code",
   "execution_count": 129,
   "id": "1a7193fa",
   "metadata": {},
   "outputs": [],
   "source": [
    "#Creatng function to create column DxPhobic\n",
    "def Dx_Phobic (x):\n",
    "    if x == 'Phobic anxiety disorders':\n",
    "        return 1\n",
    "    elif x == -9:\n",
    "        return -9\n",
    "    else:\n",
    "        return 0\n",
    "    \n",
    "#Creating column DxPhobic via applying the function Dx_Phobic (x)\n",
    "df['DxPhobic'] = df['PHOBIC ANXIETY_AND_OTHER_ANXIETY_DISORDERS'].apply(lambda x:Dx_Phobic (x))"
   ]
  },
  {
   "cell_type": "code",
   "execution_count": 130,
   "id": "b8f463be",
   "metadata": {},
   "outputs": [],
   "source": [
    "#Creatng function to create column DxSocialPhobia \n",
    "def Dx_Social_Phobia (x):\n",
    "    if x == 'Social phobias (Social anxiety disorder)':\n",
    "        return 1\n",
    "    elif x == -9:\n",
    "        return -9\n",
    "    else:\n",
    "        return 0\n",
    "    \n",
    "#Creating column DxSocialPhobia via applying the function Dx_Social_Phobia (x)\n",
    "df['DxSocialPhobia'] = df['PHOBIC ANXIETY_AND_OTHER_ANXIETY_DISORDERS'].apply(lambda x:Dx_Social_Phobia (x))"
   ]
  },
  {
   "cell_type": "code",
   "execution_count": 131,
   "id": "cc3cde21",
   "metadata": {},
   "outputs": [],
   "source": [
    "#Creatng function to create column DxSpecPhobia\n",
    "def Dx_Spec_Phobia (x):\n",
    "    if x == 'Specific (isolated) phobias':\n",
    "        return 1\n",
    "    elif x == -9:\n",
    "        return -9\n",
    "    else:\n",
    "        return 0\n",
    "    \n",
    "#Creating column DxSpecPhobia via applying the function Dx_Spec_Phobia (x)\n",
    "df['DxSpecPhobia'] = df['PHOBIC ANXIETY_AND_OTHER_ANXIETY_DISORDERS'].apply(lambda x:Dx_Spec_Phobia (x))"
   ]
  },
  {
   "cell_type": "code",
   "execution_count": 132,
   "id": "c6c9bdef",
   "metadata": {
    "scrolled": true
   },
   "outputs": [],
   "source": [
    "#Creatng function to create column DxExcoriation\n",
    "def Dx_Excoriation (x):\n",
    "    if x == 'Excoriation (skin-picking) disorder':\n",
    "        return 1\n",
    "    elif x == -9:\n",
    "        return -9\n",
    "    else:\n",
    "        return 0\n",
    "    \n",
    "    \n",
    "#Creating column DxExcoriation via applying function Dx_Excoriation (x)\n",
    "df['DxExcoriation'] = df['PHOBIC ANXIETY_AND_OTHER_ANXIETY_DISORDERS'].apply(lambda x:Dx_Excoriation (x))"
   ]
  },
  {
   "cell_type": "code",
   "execution_count": 133,
   "id": "d988e9ba",
   "metadata": {},
   "outputs": [],
   "source": [
    "#Creatng function to create column DxHoarding\n",
    "def Dx_Hoarding (x):\n",
    "    if x == 'Hoarding disorder':\n",
    "        return 1\n",
    "    elif x == -9:\n",
    "        return -9\n",
    "    else:\n",
    "        return 0\n",
    "    \n",
    "    \n",
    "#Creating column DxHoarding via applying the function Dx_Hoarding (x)\n",
    "df['DxHoarding'] =  df['PHOBIC ANXIETY_AND_OTHER_ANXIETY_DISORDERS'].apply(lambda x:Dx_Hoarding (x))"
   ]
  },
  {
   "cell_type": "code",
   "execution_count": 134,
   "id": "a04fac2e",
   "metadata": {
    "scrolled": true
   },
   "outputs": [],
   "source": [
    "#Replacing null values with -9\n",
    "df['OBSESSIVE_COMPULSIVE_DISORDERS'] = df['OBSESSIVE_COMPULSIVE_DISORDERS'].fillna(-9)\n",
    "\n",
    "#Creating function to create column DxOCD\n",
    "def Dx_OCD (x):\n",
    "    if x == 'Obsessive-compulsive disorder':\n",
    "        return 1\n",
    "    elif x == -9:\n",
    "        return -9\n",
    "    else:\n",
    "        return 0\n",
    "    \n",
    "#creating column DxOCD via applying the function Dx_OCD (x)\n",
    "df['DxOCD'] = df['OBSESSIVE_COMPULSIVE_DISORDERS'].apply(lambda x: Dx_OCD (x))"
   ]
  },
  {
   "cell_type": "code",
   "execution_count": 135,
   "id": "8600f6b5",
   "metadata": {},
   "outputs": [],
   "source": [
    "#Creating function to create column DxOCDMixed\n",
    "def Dx_OCD_Mixed (x):\n",
    "    if x == 'Obsessive-compulsive disorder with mixed obsessional thoughts and acts':\n",
    "        return 1\n",
    "    elif x ==-9:\n",
    "        return -9\n",
    "    else:\n",
    "        return 0\n",
    "    \n",
    "    \n",
    "#Creating column DxOCDMixed via applying the function Dx_OCD_Mixed (x)\n",
    "df['DxOCDMixed'] = df['OBSESSIVE_COMPULSIVE_DISORDERS'].apply(lambda x:Dx_OCD_Mixed (x))"
   ]
  },
  {
   "cell_type": "code",
   "execution_count": 136,
   "id": "3ea0080d",
   "metadata": {},
   "outputs": [],
   "source": [
    "#Creating substring \n",
    "df['REACTION_TO_SEVERE_STRESS_AND_ADJUSTMENT_DISORDERS'] = df['REACTION_TO_SEVERE_STRESS_AND_ADJUSTMENT_DISORDERS'].str.split(',').str[0]\n",
    "\n",
    "#Replacing null values with -9\n",
    "df['REACTION_TO_SEVERE_STRESS_AND_ADJUSTMENT_DISORDERS'] = df['REACTION_TO_SEVERE_STRESS_AND_ADJUSTMENT_DISORDERS'].fillna(-9)\n",
    "\n",
    "#Creating function to create column DxAcuteStress\n",
    "def Dx_Acute_Stress (x):\n",
    "    if x == 'Acute stress disorder - reaction to severe stress':\n",
    "        return 1\n",
    "    elif x == -9:\n",
    "        return -9\n",
    "    else:\n",
    "        return 0\n",
    "    \n",
    "#Creatng column DxAcuteStress via applying the function Dx_Acute_Stress (x)\n",
    "df['DxAcuteStress'] = df['REACTION_TO_SEVERE_STRESS_AND_ADJUSTMENT_DISORDERS'].apply(lambda x:Dx_Acute_Stress (x))"
   ]
  },
  {
   "cell_type": "code",
   "execution_count": 137,
   "id": "c9b8e6cd",
   "metadata": {},
   "outputs": [],
   "source": [
    "#Creating function to create column DxAdjustment\n",
    "def Dx_Adjustment (x):\n",
    "    if x == 'Adjustment disorders':\n",
    "        return 1\n",
    "    elif x == -9:\n",
    "        return -9\n",
    "    else:\n",
    "        return 0\n",
    "    \n",
    "    \n",
    "#Creating column DxAdjustment via applying the fuunction  Dx_Adjustment (x)\n",
    "df['DxAdjustment'] = df['REACTION_TO_SEVERE_STRESS_AND_ADJUSTMENT_DISORDERS'].apply(lambda x: Dx_Adjustment (x))"
   ]
  },
  {
   "cell_type": "code",
   "execution_count": 138,
   "id": "5b4f2248",
   "metadata": {},
   "outputs": [],
   "source": [
    "#Creating function to create column DxBodyDysmorph\n",
    "def Dx_Body_Dysmorph (x):\n",
    "    if x == 'Body dysmorphic disorder':\n",
    "        return 1\n",
    "    elif x == -9:\n",
    "        return -9\n",
    "    else:\n",
    "        return 0\n",
    "    \n",
    "    \n",
    "#Creating column DxBodyDysmorph via applying the function Dx_Body_Dysmorph (x)\n",
    "df['DxBodyDysmorph'] = df['REACTION_TO_SEVERE_STRESS_AND_ADJUSTMENT_DISORDERS'].apply(lambda x:Dx_Body_Dysmorph (x))"
   ]
  },
  {
   "cell_type": "code",
   "execution_count": 139,
   "id": "6ddcb060",
   "metadata": {},
   "outputs": [],
   "source": [
    "#Creating function to create column DxDissocConvers\n",
    "def Dx_Dissoc_Convers (x):\n",
    "    if x == 'Dissociative and conversion disorders':\n",
    "        return 1\n",
    "    elif x == -9:\n",
    "        return -9\n",
    "    else:\n",
    "        return 0\n",
    "    \n",
    "#Creating column DxDissocConvers via applying the function Dx_Dissoc_Convers (x)\n",
    "df['DxDissocConvers'] = df['REACTION_TO_SEVERE_STRESS_AND_ADJUSTMENT_DISORDERS'].apply(lambda x:Dx_Dissoc_Convers (x))"
   ]
  },
  {
   "cell_type": "code",
   "execution_count": 140,
   "id": "588d9182",
   "metadata": {},
   "outputs": [],
   "source": [
    "#Creating function to create column DxDissocID\n",
    "def Dx_Dissoc_ID (x):\n",
    "    if x == 'Dissociative identity disorder':\n",
    "        return 1\n",
    "    elif x == -9:\n",
    "        return -9\n",
    "    else:\n",
    "        return 0\n",
    "    \n",
    "#Creating column DxDissocID via applying the function Dx_Dissoc_ID (x)\n",
    "df['DxDissocID'] = df['REACTION_TO_SEVERE_STRESS_AND_ADJUSTMENT_DISORDERS'].apply(lambda x:Dx_Dissoc_ID (x))"
   ]
  },
  {
   "cell_type": "code",
   "execution_count": 141,
   "id": "79f2977f",
   "metadata": {},
   "outputs": [],
   "source": [
    "#Creating function to create column DxPTSD\n",
    "def Dx_PTSD (x):\n",
    "    if x == 'Post traumatic stress disorder':\n",
    "        return 1\n",
    "    elif x == -9:\n",
    "        return -9\n",
    "    else:\n",
    "        return 0\n",
    "    \n",
    "    \n",
    "#Creating column DxPTSD via applying the function Dx_PTSD (x)\n",
    "df['DxPTSD'] = df['REACTION_TO_SEVERE_STRESS_AND_ADJUSTMENT_DISORDERS'].apply(lambda x:Dx_PTSD (x))"
   ]
  },
  {
   "cell_type": "code",
   "execution_count": 142,
   "id": "856c7989",
   "metadata": {},
   "outputs": [],
   "source": [
    "#Creating function to create column DxSomat\n",
    "def Dx_Somat (x):\n",
    "    if x == 'Somatoform disorders':\n",
    "        return 1\n",
    "    elif x == -9:\n",
    "        return -9\n",
    "    else:\n",
    "        return 0\n",
    "    \n",
    "    \n",
    "#Creating column DxSomat via applying Dx_Somat (x)\n",
    "df['DxSomat'] = df['REACTION_TO_SEVERE_STRESS_AND_ADJUSTMENT_DISORDERS'].apply(lambda x:Dx_Somat (x))"
   ]
  },
  {
   "cell_type": "code",
   "execution_count": 143,
   "id": "35acbe5b",
   "metadata": {},
   "outputs": [],
   "source": [
    "#Replacing null values with -9\n",
    "df['BEHAVIORAL_SYNDROMES'] = df['BEHAVIORAL_SYNDROMES'].fillna(-9)\n",
    "\n",
    "#Creating function to create column DxEating\n",
    "def Dx_Eating (x):\n",
    "    if x == 'Eating disorders':\n",
    "        return 1\n",
    "    elif x == -9:\n",
    "        return -9\n",
    "    else:\n",
    "        return 0\n",
    "    \n",
    "#Creating colum DxEating via applying the function Dx_Eating (x)\n",
    "df['DxEating'] = df['BEHAVIORAL_SYNDROMES'].apply(lambda x:Dx_Eating (x))"
   ]
  },
  {
   "cell_type": "code",
   "execution_count": 144,
   "id": "7174d91c",
   "metadata": {},
   "outputs": [],
   "source": [
    "#Creating function to create column DxSleep\n",
    "def Dx_Sleep (x):\n",
    "    if x == 'Sleep disorders not due to a substance or known physiological condition':\n",
    "        return 1\n",
    "    elif x == -9:\n",
    "        return -9\n",
    "    else:\n",
    "        return 0\n",
    "    \n",
    "#Creating column DxSleep via applying the function \n",
    "df['DxSleep'] = df['BEHAVIORAL_SYNDROMES'].apply(lambda x: Dx_Sleep (x))"
   ]
  },
  {
   "cell_type": "code",
   "execution_count": 145,
   "id": "b12e6234",
   "metadata": {},
   "outputs": [],
   "source": [
    "#Replacing null values with -9\n",
    "df['DISORDERS_OF_ADULT_PERSONALITY_AND_BEHAVIOR'] = df['DISORDERS_OF_ADULT_PERSONALITY_AND_BEHAVIOR'].fillna(-9)\n",
    "\n",
    "#Creating function to create column DxAntisocial\n",
    "def Dx_Antisocial (x):\n",
    "    if x == 'Antisocial personality disorder':\n",
    "        return 1\n",
    "    elif x == -9:\n",
    "        return -9\n",
    "    else:\n",
    "        return 0\n",
    "    \n",
    "#Creating column DxAntisocial via applying the function Dx_Antisocial (X)\n",
    "df['DxAntisocial'] = df['DISORDERS_OF_ADULT_PERSONALITY_AND_BEHAVIOR'].apply(lambda x:Dx_Antisocial (x))"
   ]
  },
  {
   "cell_type": "code",
   "execution_count": 146,
   "id": "50249fa9",
   "metadata": {},
   "outputs": [],
   "source": [
    "#Creating function to create column DxAvoidant\n",
    "def Dx_Avoidant (x):\n",
    "    if x == 'Avoidant personality disorder':\n",
    "        return 1\n",
    "    elif x == -9:\n",
    "        return -9\n",
    "    else:\n",
    "        return 0\n",
    "    \n",
    "#Creating column DxAvoidant via applying the function Dx_Avoidant (x)\n",
    "df['DxAvoidant'] = df['DISORDERS_OF_ADULT_PERSONALITY_AND_BEHAVIOR'].apply(lambda x:Dx_Avoidant (x))"
   ]
  },
  {
   "cell_type": "code",
   "execution_count": 147,
   "id": "01034fad",
   "metadata": {},
   "outputs": [],
   "source": [
    "#Creating function to create column DxBorderline\n",
    "def Dx_Borderline (x):\n",
    "    if x == 'Borderline personality disorder' or x == 'Borderline personality disorder, No Disorders of Adult Personality and Behaviors Reported':\n",
    "        return 1\n",
    "    elif x == -9:\n",
    "        return -9\n",
    "    else:\n",
    "        return 0\n",
    "    \n",
    "#Creating column DxBorderline via applying the function Dx_Borderline (x)\n",
    "df['DxBorderline'] = df['DISORDERS_OF_ADULT_PERSONALITY_AND_BEHAVIOR'].apply(lambda x: Dx_Borderline (x))\n",
    "\n",
    "#Create substring"
   ]
  },
  {
   "cell_type": "code",
   "execution_count": 148,
   "id": "3e796e52",
   "metadata": {},
   "outputs": [],
   "source": [
    "#Creating function to create column DxDependent\n",
    "def Dx_Dependent (x):\n",
    "    if x == 'Dependent personality disorder':\n",
    "        return 1\n",
    "    elif x == -9:\n",
    "        return -9\n",
    "    else:\n",
    "        return 0\n",
    "    \n",
    "#Creating column DxDependent via applying the function Dx_Dependent (x)\n",
    "df['DxDependent'] = df['DISORDERS_OF_ADULT_PERSONALITY_AND_BEHAVIOR'].apply(lambda x:Dx_Dependent (x))\n",
    "\n"
   ]
  },
  {
   "cell_type": "code",
   "execution_count": 149,
   "id": "c3bd0d3c",
   "metadata": {},
   "outputs": [],
   "source": [
    "#Creating function to create column DxHistrionic\n",
    "def Dx_Histrionic (x):\n",
    "    if x == 'Histrionic personality disorder':\n",
    "        return 1\n",
    "    elif x == -9:\n",
    "        return -9\n",
    "    else:\n",
    "        return 0\n",
    "    \n",
    "#Creating column DxHistrionic via applying the function Dx_Histrionic (x)\n",
    "df['DxHistrionic'] = df['DISORDERS_OF_ADULT_PERSONALITY_AND_BEHAVIOR'].apply(lambda x: Dx_Histrionic (x))"
   ]
  },
  {
   "cell_type": "code",
   "execution_count": 150,
   "id": "eef4eef9",
   "metadata": {},
   "outputs": [],
   "source": [
    "#Creating function to create column DxIntellect\n",
    "def Dx_Intellect (x):\n",
    "    if x == 'Intellectual disabilities':\n",
    "        return 1\n",
    "    elif x == -9:\n",
    "        return -9\n",
    "    else:\n",
    "        return 0\n",
    "    \n",
    "    \n",
    "#Creating column DxIntellect via applying the function Dx_Intellect (x)\n",
    "df['DxIntellect'] = df['DISORDERS_OF_ADULT_PERSONALITY_AND_BEHAVIOR'].apply(lambda x:Dx_Intellect (x))"
   ]
  },
  {
   "cell_type": "code",
   "execution_count": 151,
   "id": "47efce5d",
   "metadata": {},
   "outputs": [],
   "source": [
    "#Creating function to create column DxObsessCompulsPers\n",
    "def Dx_Obsess_Compuls_Pers (x):\n",
    "    if x == 'Obsessive-compulsive personality disorder':\n",
    "        return 1\n",
    "    elif x == -9:\n",
    "        return -9\n",
    "    else:\n",
    "        return 0\n",
    "    \n",
    "#Creating column DxObsessCompulsPers via applying the function \n",
    "df['DxObsessCompulsPers'] = df['DISORDERS_OF_ADULT_PERSONALITY_AND_BEHAVIOR'].apply(lambda x: Dx_Obsess_Compuls_Pers (x))"
   ]
  },
  {
   "cell_type": "code",
   "execution_count": 152,
   "id": "09af3034",
   "metadata": {},
   "outputs": [],
   "source": [
    "#Creating function to create column DxOtherSpecPD\n",
    "def Dx_Other_SpecPD (x):\n",
    "    if x == 'Other specific personality disorders':\n",
    "        return 1\n",
    "    elif x == -9:\n",
    "        return -9\n",
    "    else:\n",
    "        return 0\n",
    "    \n",
    "#Creating column DxOtherSpecPD via applying the function Dx_Other_SpecPD (x)\n",
    "df['DxOtherSpecPD'] = df['DISORDERS_OF_ADULT_PERSONALITY_AND_BEHAVIOR'].apply(lambda x:Dx_Other_SpecPD (x))"
   ]
  },
  {
   "cell_type": "code",
   "execution_count": 153,
   "id": "cfa5767e",
   "metadata": {},
   "outputs": [],
   "source": [
    "#Creating function to create column DxParanoid\n",
    "def Dx_Paranoid (x):\n",
    "    if x == 'Paranoid personality disorder':\n",
    "        return 1\n",
    "    elif x == -9:\n",
    "        return -9\n",
    "    else:\n",
    "        return 0\n",
    "    \n",
    "#Creating column DxParanoid via applying the function Dx_Paranoid (x)\n",
    "df['DxParanoid'] = df['DISORDERS_OF_ADULT_PERSONALITY_AND_BEHAVIOR'].apply(lambda x: Dx_Paranoid (x))"
   ]
  },
  {
   "cell_type": "code",
   "execution_count": 154,
   "id": "d72b05af",
   "metadata": {},
   "outputs": [],
   "source": [
    "#Creating function to create column DxPersonalityUnspec\n",
    "def Dx_Personality_Unspec (x):\n",
    "    if x == 'Personality disorder, unspecified':\n",
    "        return 1\n",
    "    elif x == -9:\n",
    "        return -9\n",
    "    else:\n",
    "        return 0\n",
    "    \n",
    "#Creating column DxPersonalityUnspec via applying function Dx_Personality_Unspec (x)\n",
    "df['DxPersonalityUnspec'] = df['DISORDERS_OF_ADULT_PERSONALITY_AND_BEHAVIOR'].apply(lambda x:Dx_Personality_Unspec (x))"
   ]
  },
  {
   "cell_type": "code",
   "execution_count": 155,
   "id": "174a6798",
   "metadata": {},
   "outputs": [],
   "source": [
    "#Creating function to create column DxDevelopmentalDis\n",
    "def Dx_Developmental_Dis (x):\n",
    "    if x == 'Pervasive and specific developmental disorders':\n",
    "        return 1\n",
    "    elif x == -9:\n",
    "        return -9\n",
    "    else:\n",
    "        return 0\n",
    "    \n",
    "#Creating column DxDevelopmentalDis Dx_Developmental_Dis (x)\n",
    "df['DxDevelopmentalDis'] = df['DISORDERS_OF_ADULT_PERSONALITY_AND_BEHAVIOR'].apply(lambda x:Dx_Developmental_Dis (x))"
   ]
  },
  {
   "cell_type": "code",
   "execution_count": 156,
   "id": "b8d2d131",
   "metadata": {},
   "outputs": [],
   "source": [
    "#Creating function to create column DxSchizoidPD\n",
    "def Dx_Schizoid_PD (x):\n",
    "    if x == 'Schizoid personality disorder':\n",
    "        return 1\n",
    "    elif x == -9:\n",
    "        return -9\n",
    "    else:\n",
    "        return 0\n",
    "    \n",
    "#Creating new column DxSchizoidPD via applying function Dx_Schizoid_PD (x)\n",
    "df['DxSchizoidPD'] = df['DISORDERS_OF_ADULT_PERSONALITY_AND_BEHAVIOR'].apply(lambda x:Dx_Schizoid_PD (x))"
   ]
  },
  {
   "cell_type": "code",
   "execution_count": 157,
   "id": "bbccd112",
   "metadata": {},
   "outputs": [],
   "source": [
    "#Replacing null values with -9\n",
    "df['PATIENT_REPORTS_NO_MENTAL_HEALTH_ILLNESS'] = df['PATIENT_REPORTS_NO_MENTAL_HEALTH_ILLNESS'].fillna(-9)\n",
    "\n",
    "\n",
    "#Creating function to create column DxNoneOfTheAbove\n",
    "def Dx_NoneOfTheAbove (x):\n",
    "    if x == 'NONE OF THE ABOVE':\n",
    "        return 1\n",
    "    elif x == -9:\n",
    "        return -9\n",
    "    else:\n",
    "        return 0\n",
    "    \n",
    "#Creating column DxNoneOfTheAbove via applying the function Dx_NoneOfTheAbove (x)\n",
    "df['DxNoneOfTheAbove'] = df['PATIENT_REPORTS_NO_MENTAL_HEALTH_ILLNESS'].apply(lambda x:Dx_NoneOfTheAbove (x))"
   ]
  },
  {
   "cell_type": "code",
   "execution_count": 158,
   "id": "3ec2be4a",
   "metadata": {},
   "outputs": [],
   "source": [
    "#Replacing null values with -9\n",
    "df['CLIENT_SCREENED_BY_PROGRAM'] = df['CLIENT_SCREENED_BY_PROGRAM'].fillna(-9)\n",
    "\n",
    "#Creating function to create column CooccurringScreen\n",
    "def Cooccurring_Screen (x):\n",
    "    if x == 'Yes':\n",
    "        return 1\n",
    "    elif x == -9:\n",
    "        return -9\n",
    "    else:\n",
    "        return 0\n",
    "    \n",
    "#Creating column CooccurringScreen via applying the function Cooccurring_Screen (x)\n",
    "df['CooccurringScreen'] = df['CLIENT_SCREENED_BY_PROGRAM'].apply(lambda x: Cooccurring_Screen (x))"
   ]
  },
  {
   "cell_type": "code",
   "execution_count": 159,
   "id": "5124cd46",
   "metadata": {},
   "outputs": [],
   "source": [
    "#Replace null values with -1 \n",
    "df['CLIENT_SCREEN_POSITIVE_FOR_CO_OCCURRING_DISORDERS'] = df['CLIENT_SCREEN_POSITIVE_FOR_CO_OCCURRING_DISORDERS'].fillna(-1)\n",
    "\n",
    "#Creating function for column CooccurringScreenStatus\n",
    "def Cooccurring_Screen_Status (x):\n",
    "    if x == 'Yes':\n",
    "        return 1\n",
    "    elif x == 'No':\n",
    "        return 0\n",
    "    elif x == -1:\n",
    "        return -1\n",
    "    \n",
    "#Creating column CooccurringScreenStatus via applying the function Cooccurring_Screen_Status (x)\n",
    "df['CooccurringScreenStatus'] = df['CLIENT_SCREEN_POSITIVE_FOR_CO_OCCURRING_DISORDERS'].apply(lambda x:Cooccurring_Screen_Status (x))"
   ]
  },
  {
   "cell_type": "code",
   "execution_count": 160,
   "id": "8ee0313d",
   "metadata": {},
   "outputs": [],
   "source": [
    "#Replacing null values with -1 \n",
    "df['CLIENT_REFERRED_FOR_FURTHER_ASSESSMENT'] = df['CLIENT_REFERRED_FOR_FURTHER_ASSESSMENT'].fillna(-1)\n",
    "\n",
    "#Creating function to create column CooccurringReferral\n",
    "def Cooccurring_Referral (x):\n",
    "    if x == 'Yes':\n",
    "        return 1\n",
    "    elif x == 'No':\n",
    "        return 0\n",
    "    elif x == -1:\n",
    "        return -1\n",
    "    \n",
    "#Creating column CooccurringReferral via applying the function Cooccurring_Referral (x)\n",
    "df['CooccurringReferral'] = df['CLIENT_REFERRED_FOR_FURTHER_ASSESSMENT'].apply(lambda x: Cooccurring_Referral (x))"
   ]
  },
  {
   "cell_type": "code",
   "execution_count": 161,
   "id": "add506dd",
   "metadata": {},
   "outputs": [],
   "source": [
    "#Create substring \n",
    "df['MODALITY_PLANNED'] = df['MODALITY_PLANNED'].str.split(',').str[0]\n",
    "\n",
    "#Creating function to create column PlanSvcCaseManagement\n",
    "def Plan_Svc_CaseManagement (x):\n",
    "    if x == '1. Case Management':\n",
    "        return 1\n",
    "    else:\n",
    "        return 0\n",
    "    \n",
    "#Creating column PlanSvcCaseManagement via applying the function Plan_Svc_CaseManagement (x)\n",
    "df['PlanSvcCaseManagement'] = df['MODALITY_PLANNED'].apply(lambda x:Plan_Svc_CaseManagement (x))"
   ]
  },
  {
   "cell_type": "code",
   "execution_count": 162,
   "id": "a48a34f6",
   "metadata": {},
   "outputs": [],
   "source": [
    "#Creating function to create column PlanSvcIntensiveOutpatient\n",
    "def Plan_Svc_Intensive_Outpatient (x):\n",
    "    if x == '2. Intensive Outpatient Treatment':\n",
    "        return 1\n",
    "    else:\n",
    "        return 0\n",
    "        \n",
    "        \n",
    "#Creating column PlanSvcIntensiveOutpatient via applying the function Plan_Svc_Intensive_Outpatient (x)\n",
    "df['PlanSvcIntensiveOutpatient'] = df['MODALITY_PLANNED'].apply(lambda x:Plan_Svc_Intensive_Outpatient (x))"
   ]
  },
  {
   "cell_type": "code",
   "execution_count": 163,
   "id": "b9221332",
   "metadata": {},
   "outputs": [],
   "source": [
    "#Creating function to create column PlanSvcInpatient\n",
    "def Plan_Svc_Inpatient (x):\n",
    "    if x == '3. Inpatient/Hospital (Other Than Withdrawal Management)':\n",
    "        return 1\n",
    "    else:\n",
    "        return 0\n",
    "    \n",
    "#Creating column PlanSvcInpatient via applying the function  Plan_Svc_Inpatient (x)\n",
    "df['PlanSvcInpatient'] = df['MODALITY_PLANNED'].apply(lambda x: Plan_Svc_Inpatient (x))"
   ]
  },
  {
   "cell_type": "code",
   "execution_count": 164,
   "id": "80c507f0",
   "metadata": {},
   "outputs": [
    {
     "name": "stderr",
     "output_type": "stream",
     "text": [
      "C:\\Users\\tyogarro\\AppData\\Local\\Temp\\ipykernel_7400\\2752570630.py:9: PerformanceWarning: DataFrame is highly fragmented.  This is usually the result of calling `frame.insert` many times, which has poor performance.  Consider joining all columns at once using pd.concat(axis=1) instead. To get a de-fragmented frame, use `newframe = frame.copy()`\n",
      "  df['PlanSvcOutpatient'] = df['MODALITY_PLANNED'].apply(lambda x:Plan_Svc_Outpatient (x))\n"
     ]
    }
   ],
   "source": [
    "#Creating function to create column PlanSvcOutpatient\n",
    "def Plan_Svc_Outpatient (x):\n",
    "    if x == '4. Outpatient Therapy, 6. Medication':\n",
    "        return 1\n",
    "    else:\n",
    "        return 0\n",
    "    \n",
    "#Creating column PlanSvcOutpatient via applying the function Plan_Svc_Outpatient (x)\n",
    "df['PlanSvcOutpatient'] = df['MODALITY_PLANNED'].apply(lambda x:Plan_Svc_Outpatient (x))"
   ]
  },
  {
   "cell_type": "code",
   "execution_count": 165,
   "id": "4859dccb",
   "metadata": {},
   "outputs": [
    {
     "name": "stderr",
     "output_type": "stream",
     "text": [
      "C:\\Users\\tyogarro\\AppData\\Local\\Temp\\ipykernel_7400\\1965255823.py:9: PerformanceWarning: DataFrame is highly fragmented.  This is usually the result of calling `frame.insert` many times, which has poor performance.  Consider joining all columns at once using pd.concat(axis=1) instead. To get a de-fragmented frame, use `newframe = frame.copy()`\n",
      "  df['PlanSvcOutreach'] = df['MODALITY_PLANNED'].apply(lambda x:Plan_Svc_Outreach (x))\n"
     ]
    }
   ],
   "source": [
    "#Creating function to create column PlanSvcOutreach\n",
    "def Plan_Svc_Outreach (x):\n",
    "    if x == '5. Outreach':\n",
    "        return 1\n",
    "    else:\n",
    "        return 0\n",
    "    \n",
    "#Creating column PlanSvcOutreachv via applying the function Plan_Svc_Outreach (x)\n",
    "df['PlanSvcOutreach'] = df['MODALITY_PLANNED'].apply(lambda x:Plan_Svc_Outreach (x))"
   ]
  },
  {
   "cell_type": "markdown",
   "id": "0e13691b",
   "metadata": {},
   "source": [
    "## Exporting GPRA 3"
   ]
  },
  {
   "cell_type": "code",
   "execution_count": 166,
   "id": "6456b1f4",
   "metadata": {},
   "outputs": [],
   "source": [
    "# Creating varibale for export\n",
    "\n",
    "GPRA3_STAR = df[['ClientID','StimDisContingMgmt',\t'StimDisContingMgmtDays',\t'StimDisCommReinf',\t'StimDisCommReinfDays',\t'StimDisCBT',\t'StimDisCBTDays',\t'StimDisOtherEBI',\t'StimDisOtherEBIDays',\t'StimDisNoneRcvdDiagnosed',\t'StimDisNotDiagnosed',\t'TUDNicReplace',\t'TUDNicReplaceDays',\t'TUDBupropion',\t'TUDBupropionDays',\t'TUDVarenicline',\t'TUDVareniclineDays',\t'TUDNoneRcvdDiagnosed',\t'TUDNotDiagnosed',\t'Overdose',\t'OverdoseIntervNaloxone',\t'OverdoseIntervCareED',\t'OverdoseIntervCarePCP',\t'OverdoseIntervHospital',\t'OverdoseIntervSupervise',\t'OverdoseIntervOther',\t'OverdoseIntervSpec',\t'TxSUD',\t'TxSUDWhen',\t'MHDiagnosis',\t'DxBriefPsych',\t'DxDelusional',\t'DxSchizoaffective',\t'DxSchizophrenia',\t'DxSchizotypal',\t'DxSharedPsychotic',\t'DxUnspecPsych',\t'DxBipolar',\t'DxMajorDepRecurr',\t'DxMajorDepSingle',\t'DxManicEp',\t'DxPersistMood',\t'DxUnspecMood',\t'DxAgora',\t'DxAgoraWithPD',\t'DxAgoraUnspec',\t'DxGAD',\t'DxPanic',\t'DxPhobic',\t'DxSocialPhobia',\t'DxSpecPhobia',\t'DxExcoriation',\t'DxHoarding',\t'DxOCD',\t'DxOCDMixed',\t'DxAcuteStress',\t'DxAdjustment',\t'DxBodyDysmorph',\t'DxDissocConvers',\t'DxDissocID',\t'DxPTSD',\t'DxSomat',\t'DxEating',\t'DxSleep',\t'DxAntisocial',\t'DxAvoidant',\t'DxBorderline',\t'DxDependent',\t'DxHistrionic',\t'DxIntellect',\t'DxObsessCompulsPers',\t'DxOtherSpecPD',\t'DxParanoid',\t'DxPersonalityUnspec',\t'DxDevelopmentalDis',\t'DxSchizoidPD',\t'DxNoneOfTheAbove',\t'CooccurringScreen',\t'CooccurringScreenStatus',\t'CooccurringReferral',\t'PlanSvcCaseManagement',\t'PlanSvcIntensiveOutpatient',\t'PlanSvcInpatient',\t'PlanSvcOutpatient',\t'PlanSvcOutreach']]\n",
    "\n",
    "# Exporting GPRA 3\n",
    "GPRA3_STAR.to_csv('GPRA3_STAR.csv', index = False, header = True, encoding = 'utf-8')"
   ]
  }
 ],
 "metadata": {
  "kernelspec": {
   "display_name": "Python 3 (ipykernel)",
   "language": "python",
   "name": "python3"
  },
  "language_info": {
   "codemirror_mode": {
    "name": "ipython",
    "version": 3
   },
   "file_extension": ".py",
   "mimetype": "text/x-python",
   "name": "python",
   "nbconvert_exporter": "python",
   "pygments_lexer": "ipython3",
   "version": "3.11.4"
  }
 },
 "nbformat": 4,
 "nbformat_minor": 5
}
