{
 "cells": [
  {
   "cell_type": "markdown",
   "id": "2498c9fd",
   "metadata": {},
   "source": [
    "# GRPA Coding\n",
    "\n",
    "Goverment Perfromance and Results Act (GPRA) coding for intake data of recovery specialist for the Institure for Prevention and Recovery (IFPR) at RWJ Baranabas"
   ]
  },
  {
   "cell_type": "code",
   "execution_count": 100,
   "id": "7e487610",
   "metadata": {},
   "outputs": [],
   "source": [
    "#importing pandas\n",
    "import pandas as pd\n",
    "import numpy as np"
   ]
  },
  {
   "cell_type": "code",
   "execution_count": 101,
   "id": "e9ffe513",
   "metadata": {},
   "outputs": [],
   "source": [
    "# importing data \n",
    "df = pd.read_csv(r\"C:\\Users\\tyogarro\\Documents\\GPRA Coding\\GPRA_Coding_File.csv\")\n",
    "\n",
    "#subsetting to include Peer Recovery Program episodes\n",
    "df = df[df['EPISODE'] =='IFPR - Peer Recovery Program' ]"
   ]
  },
  {
   "cell_type": "code",
   "execution_count": 102,
   "id": "fd102e79",
   "metadata": {},
   "outputs": [],
   "source": [
    "#Renaming column to create ClientID\n",
    "df.rename(columns = {'CSN':'ClientID'}, inplace = True)"
   ]
  },
  {
   "cell_type": "markdown",
   "id": "4c9a75b3",
   "metadata": {},
   "source": [
    "## Creating GPRA 2"
   ]
  },
  {
   "cell_type": "code",
   "execution_count": 103,
   "id": "5296f801",
   "metadata": {},
   "outputs": [],
   "source": [
    "#Creating function to create new column OpioidsDemerolRoute\n",
    "def Demerol_Route (x):\n",
    "    if x == '1. Oral':\n",
    "        return 1\n",
    "    else:\n",
    "        return -9\n",
    "#Applying function to create column OpioidsDemerolRoute via applying function Demerol_Route    \n",
    "df['OpioidsDemerolRoute'] = df['DEMEROL_ROUTE'].apply(lambda x:Demerol_Route (x))"
   ]
  },
  {
   "cell_type": "code",
   "execution_count": 104,
   "id": "9cf6e7a0",
   "metadata": {},
   "outputs": [],
   "source": [
    "#Renaming column \n",
    "df.rename(columns = {'PERCOCET_NUMBER_OF_DAYS':'OpioidsPercocetDays'}, inplace = True)\n",
    "\n",
    "#Replacing null values with -9 to create column OpioidsPercocetDays\n",
    "df['OpioidsPercocetDays'] = df['OpioidsPercocetDays'].fillna(-9)"
   ]
  },
  {
   "cell_type": "code",
   "execution_count": 105,
   "id": "b671a7ef",
   "metadata": {},
   "outputs": [],
   "source": [
    "#Creating function to create column OpioidsPercocetRoute\n",
    "def Percocet_Route (x):\n",
    "    if x == '1. Oral':\n",
    "        return 1\n",
    "    elif x == '2. Intranasal':\n",
    "        return 2\n",
    "    else:\n",
    "        return -9\n",
    "    \n",
    "#Creating new column OpioidsPercocetRoute via applying the function Percocet_Route\n",
    "df['OpioidsPercocetRoute'] = df['PERCOCET_ROUTE'].apply(lambda x: Percocet_Route(x)) "
   ]
  },
  {
   "cell_type": "code",
   "execution_count": 106,
   "id": "d44dc1f1",
   "metadata": {},
   "outputs": [],
   "source": [
    "#Renaming column\n",
    "df.rename(columns = {'CODEINE_NUMBER_OF_DAYS':'OpioidsCodeineDays'}, inplace = True)\n",
    "\n",
    "#Replacing null values with -9 to create column OpioidsCodeineDays\n",
    "df['OpioidsCodeineDays'] = df['OpioidsCodeineDays'].fillna(-9)"
   ]
  },
  {
   "cell_type": "code",
   "execution_count": 107,
   "id": "6d6242c0",
   "metadata": {},
   "outputs": [],
   "source": [
    "#Creating function to create column OpioidsCodeineRoute\n",
    "def Codeine_Route (x):\n",
    "    if x == '1. Oral':\n",
    "        return 1\n",
    "    else:\n",
    "        return -9\n",
    "    \n",
    "#Creating new column -OpioidsCodeineRoute via applying the function Codeine_Route\n",
    "df['OpioidsCodeineRoute'] = df['CODEINE_ROUTE'].apply(lambda x:Codeine_Route (x))"
   ]
  },
  {
   "cell_type": "code",
   "execution_count": 108,
   "id": "4b2042a4",
   "metadata": {},
   "outputs": [],
   "source": [
    "#Renaming columns\n",
    "df.rename(columns = {'TYLENOL_2_3_4_NUMBER_OF_DAYS':'OpioidsTylenolDays', 'TYLENOL_2_3_4_ROUTE':'OpioidsTylenolRoute' ,'OXYCONTIN_OXYCODONE_NUMBER_OF_DAYS':'OpioidsOxycoDays' },inplace = True)\n",
    "\n",
    "#Creating variables to fill in null values\n",
    "renaming = ['OpioidsTylenolDays','OpioidsTylenolRoute','OpioidsOxycoDays']\n",
    "\n",
    "#replacing null values\n",
    "df[renaming] = df[renaming].fillna(-9)"
   ]
  },
  {
   "cell_type": "code",
   "execution_count": 109,
   "id": "5763c2ba",
   "metadata": {},
   "outputs": [],
   "source": [
    "#Creating function to create new column OpioidsOxycoRoute\n",
    "def Oxyco_Route (x):\n",
    "    if x == '1. Oral':\n",
    "        return 1\n",
    "    else:\n",
    "        return -9\n",
    "    \n",
    "#Creating new column OpioidsOxycoRoute via applying the function Oxyco_Route\n",
    "df['OpioidsOxycoRoute'] = df['OXYCONTIN_OXYCODONE_ROUTE'].apply(lambda x: Oxyco_Route(x))"
   ]
  },
  {
   "cell_type": "code",
   "execution_count": 110,
   "id": "c7b88570",
   "metadata": {},
   "outputs": [],
   "source": [
    "#Renaming column to create column OpioidsNonPresMethadoneDays\n",
    "df.rename(columns = {'NON_PRESCRIPTION_METHADONE_NUMBER_OF_DAYS':'OpioidsNonPresMethadoneDays'}, inplace = True)\n",
    "\n",
    "df['OpioidsNonPresMethadoneDays'] = df['OpioidsNonPresMethadoneDays'].fillna(-9) "
   ]
  },
  {
   "cell_type": "code",
   "execution_count": 111,
   "id": "c26f0d1c",
   "metadata": {},
   "outputs": [],
   "source": [
    "#Creating function to create new column OpioidsNonPresMethadoneRoute\n",
    "def NonPres_Methadone (x):\n",
    "    if x == '1. Oral':\n",
    "        return 1\n",
    "    else:\n",
    "        return -9\n",
    "\n",
    "#Creating new column OpioidsNonPresMethadoneRoute via applying the function NonPres_Methadone\n",
    "df['OpioidsNonPresMethadoneRoute'] = df['NON_PRESCRIPTION_METHADONE_ROUTE'].apply(lambda x: NonPres_Methadone(x))"
   ]
  },
  {
   "cell_type": "code",
   "execution_count": 112,
   "id": "dbce5254",
   "metadata": {},
   "outputs": [],
   "source": [
    "#Renaming column to create column OpioidsNonPresBupDays\n",
    "df.rename(columns = {'NON_PRESCRIPTION_BUPRENORPHINE_NUMBER_OF_DAYS':'OpioidsNonPresBupDays'}, inplace = True)\n",
    "\n",
    "#Replacing null values with -9\n",
    "df['OpioidsNonPresBupDays'] = df['OpioidsNonPresBupDays'].fillna(-9)"
   ]
  },
  {
   "cell_type": "code",
   "execution_count": 113,
   "id": "3add3be1",
   "metadata": {},
   "outputs": [],
   "source": [
    "#Creating function to create column OpioidsNonPresBupRoute\n",
    "def Non_Pres_Bup_Route (x):\n",
    "    if x == '1. Oral':\n",
    "        return 1\n",
    "    else:\n",
    "        return -9\n",
    "    \n",
    "#Creating new column OpioidsNonPresBupRoute via applying function Non_Pres_Bup_Route\n",
    "df['OpioidsNonPresBupRoute'] = df['NON_PRESCRIPTION_BUPRENORPHINE_ROUTE'].apply( lambda x: Non_Pres_Bup_Route(x))"
   ]
  },
  {
   "cell_type": "code",
   "execution_count": 114,
   "id": "57039401",
   "metadata": {},
   "outputs": [],
   "source": [
    "#Rename column to create colun OpioidsOther1Days\n",
    "df.rename(columns = {'OPIOIDS_OTHER_NUMBER_OF_DAYS':'OpioidsOther1Days'}, inplace = True)\n",
    "\n",
    "#Replacing null values \n",
    "df['OpioidsOther1Days'] = df['OpioidsOther1Days'].fillna(-9)"
   ]
  },
  {
   "cell_type": "code",
   "execution_count": 115,
   "id": "d840a2b2",
   "metadata": {},
   "outputs": [],
   "source": [
    "#Creating function to create column OpioidsOther1Route\n",
    "def Opioids_Other_Route (x):\n",
    "    if x == '1. Oral':\n",
    "        return 1\n",
    "    else:\n",
    "        return -9\n",
    "    \n",
    "#Creating new column OpioidsOther1Route via applying the function Opioids_Other_Route\n",
    "df['OpioidsOther1Route'] = df['OPIOIDS_OTHER_ROUTE'].apply(lambda x: Opioids_Other_Route (x))"
   ]
  },
  {
   "cell_type": "code",
   "execution_count": 116,
   "id": "2a14753a",
   "metadata": {},
   "outputs": [],
   "source": [
    "#Renaming column to create column OpioidsOther1Spec\n",
    "df.rename(columns = {'OPIOIDS_OTHER':'OpioidsOther1Spec'}, inplace = True)\n",
    "\n",
    "#Renaming column OPIOIDS_OTHER to create column OpioidsOther1Spec\n",
    "df['OpioidsOther1Spec'] = df['OpioidsOther1Spec'].str.title()"
   ]
  },
  {
   "cell_type": "code",
   "execution_count": 117,
   "id": "9604a54b",
   "metadata": {},
   "outputs": [],
   "source": [
    "#Creating blank columns\n",
    "df['OpioidsOther2Days'] = -9\n",
    "df['OpioidsOther2Route'] = -9\n",
    "df['OpioidsOther2Spec'] = \" \"\n",
    "df['OpioidsOther3Days'] = -9\n",
    "df['OpioidsOther3Route'] = -9\n",
    "df['OpioidsOther3Spec'] = \" \""
   ]
  },
  {
   "cell_type": "code",
   "execution_count": 118,
   "id": "fc0defb0",
   "metadata": {
    "scrolled": true
   },
   "outputs": [],
   "source": [
    "#Renaming column to create column MarijuanaDays\n",
    "df.rename(columns = {'CANNABIS_MARIJUANA_NUMBER_OF_DAYS':'MarijuanaDays'}, inplace = True)\n",
    "\n",
    "#Replacing null values with -9\n",
    "df['MarijuanaDays'] = df['MarijuanaDays'].fillna(-9)"
   ]
  },
  {
   "cell_type": "code",
   "execution_count": 119,
   "id": "6c345313",
   "metadata": {},
   "outputs": [],
   "source": [
    "#Creating substrings\n",
    "df['CANNABIS_MARIJUANA_ROUTE'] = df['CANNABIS_MARIJUANA_ROUTE'].str.split(',').str[0]\n",
    "\n",
    "#Creating function to create column MarijuanaRoute\n",
    "def Marijuana_Route (x):\n",
    "    if x == '1. Oral':\n",
    "        return 1\n",
    "    elif x == '4. Smoking':\n",
    "        return 3\n",
    "    elif x == '0. Other':\n",
    "        return 0\n",
    "    else:\n",
    "        return -9\n",
    "\n",
    "#Creating new column MarijuanaRoute via applying the function Marijuana_Route\n",
    "df['MarijuanaRoute'] = df['CANNABIS_MARIJUANA_ROUTE'].apply(lambda x:Marijuana_Route (x))"
   ]
  },
  {
   "cell_type": "code",
   "execution_count": 120,
   "id": "7533e083",
   "metadata": {},
   "outputs": [],
   "source": [
    "#Renaming to create column SynthCannDays\n",
    "df.rename(columns = {'SYNTHETIC_CANNABINOIDS_NUMBER_OF_DAYS':'SynthCannDays'}, inplace = True)\n",
    "\n",
    "#Replacing null values with -9\n",
    "df['SynthCannDays'] = df['SynthCannDays'].fillna(-9)"
   ]
  },
  {
   "cell_type": "code",
   "execution_count": 121,
   "id": "26c97966",
   "metadata": {},
   "outputs": [],
   "source": [
    "#Creating function for column SynthCannRoute\n",
    "def Syn_Can_Route(x):\n",
    "    if x == '1. Oral':\n",
    "        return 1\n",
    "    else:\n",
    "        return -9\n",
    "\n",
    "#Creating column SynthCannRoute via applying the function Syn_Can_Route\n",
    "df['SynthCannRoute'] = df['SYNTHETIC_CANNABINOIDS_ROUTE'].apply(lambda x:Syn_Can_Route(x))"
   ]
  },
  {
   "cell_type": "code",
   "execution_count": 122,
   "id": "2dacf996",
   "metadata": {},
   "outputs": [],
   "source": [
    "#Renaming column to create column CannOther1Days\n",
    "df.rename(columns = {'CANNABIS_OTHER_NUMBER_OF_DAYS':'CannOther1Days'}, inplace = True)\n",
    "\n",
    "#Replacing null values with -9 to create column CannOther1Days\n",
    "df['CannOther1Days'] = df['CannOther1Days'].fillna(-9)"
   ]
  },
  {
   "cell_type": "code",
   "execution_count": 123,
   "id": "c6acab80",
   "metadata": {},
   "outputs": [],
   "source": [
    "#Creating function to create column CannOther1Route\n",
    "def Can_Other_Route (x):\n",
    "    if x == '1. Oral':\n",
    "        return 1\n",
    "    elif x == '4. Smoking':\n",
    "        return 3\n",
    "    else:\n",
    "        return -9\n",
    "\n",
    "#Creating column CannOther1Route via applying the function Can_Other_Route\n",
    "df['CannOther1Route'] = df['CANNABIS_OTHER_ROUTE'].apply(lambda x:Can_Other_Route (x))"
   ]
  },
  {
   "cell_type": "code",
   "execution_count": 124,
   "id": "c4538c34",
   "metadata": {},
   "outputs": [],
   "source": [
    "#Renaming to column to create column CannOther1Spec\n",
    "df.rename(columns = {'CANNABIS_OTHER':'CannOther1Spec'}, inplace = True)\n",
    "\n",
    "#Changing the column name to create new column CannOther1Spec\n",
    "df['CannOther1Spec'] = df['CannOther1Spec'].str.title()"
   ]
  },
  {
   "cell_type": "code",
   "execution_count": 125,
   "id": "392fe666",
   "metadata": {},
   "outputs": [],
   "source": [
    "#Creating columns with blank values\n",
    "df['CannOther2Days'] = -9\n",
    "df['CannOther2Route'] = -9\n",
    "df['CannOther2Spec'] = \" \"\n",
    "df['CannOther3Days'] = -9\n",
    "df['CannOther3Route'] = -9\n",
    "df['CannOther3Spec'] = \" \""
   ]
  },
  {
   "cell_type": "code",
   "execution_count": 126,
   "id": "88519410",
   "metadata": {},
   "outputs": [],
   "source": [
    "#Renaming column to create column SedativeDays\n",
    "df.rename(columns = {'SEDATIVES_NUMBER_OF_DAYS':'SedativeDays'}, inplace = True )\n",
    "\n",
    "#Replacing missing values to create column SedativeDays\n",
    "df['SedativeDays'] = df['SedativeDays'].fillna(-9)"
   ]
  },
  {
   "cell_type": "code",
   "execution_count": 127,
   "id": "19763659",
   "metadata": {},
   "outputs": [],
   "source": [
    "#Creating function to create column SedativeRoute\n",
    "def Sedative_Route (x):\n",
    "    if x == '1. Oral':\n",
    "        return 1\n",
    "    else:\n",
    "        return -9\n",
    "\n",
    "#Creating column SedativeRoute via applying the function Sedative_Route\n",
    "df['SedativeRoute'] = df['SEDATIVES_ROUTE'].apply(lambda x: Sedative_Route (x))"
   ]
  },
  {
   "cell_type": "code",
   "execution_count": 128,
   "id": "5104d225",
   "metadata": {},
   "outputs": [],
   "source": [
    "#Renaming columns to create column HypnoDays\n",
    "df.rename(columns = {'HYPNOTICS_NUMBER_OF_DAYS':'HypnoDays'}, inplace = True)\n",
    "\n",
    "# Replacing null values with -9\n",
    "df['HypnoDays'] = df['HypnoDays'].fillna(-9)"
   ]
  },
  {
   "cell_type": "code",
   "execution_count": 129,
   "id": "c0a81d3f",
   "metadata": {},
   "outputs": [],
   "source": [
    "#Creating function to create column HypnoRoute\n",
    "def Hyp_Route (x):\n",
    "    if x == '1. Oral':\n",
    "        return 1\n",
    "    else:\n",
    "        return -9\n",
    "\n",
    "#Creating column HypnoRoute via applying the function Hyp_Route\n",
    "df['HypnoRoute'] = df['HYPNOTICS_ROUTE'].apply(lambda x: Hyp_Route (x))"
   ]
  },
  {
   "cell_type": "code",
   "execution_count": 130,
   "id": "98e4baa1",
   "metadata": {},
   "outputs": [],
   "source": [
    "#Creating a function to create column AnxioBenzoRoute\n",
    "def Anxio_Benzo_Route (x):\n",
    "    if x == '1. Oral':\n",
    "        return 1\n",
    "    else:\n",
    "        return -9\n",
    "\n",
    "#Creating column AnxioBenzoRoute via applying the function Anxio_Benzo_Route\n",
    "df['AnxioBenzoRoute'] = df['ANXIOLYTICS_BENZODIAZEPINES_ROUTE'].apply(lambda x: Anxio_Benzo_Route (x))"
   ]
  },
  {
   "cell_type": "code",
   "execution_count": 131,
   "id": "e17d1e00",
   "metadata": {},
   "outputs": [],
   "source": [
    "#Creating dictionary to renaming columns\n",
    "dictionary = {'BARBITUATES_NUMBER_OF_DAYS':'BarbituratesDays',   \n",
    "              'BARBITUATES_ROUTE':'BarbituratesRoute',\n",
    "              'ANXIOLYTICS_BENZODIAZEPINES_NUMBER_OF_DAYS':'AnxioBenzoDays', \n",
    "              'SEDATIVES_OTHER_NUMBER_OF_DAYS':'SedHypOther1Days', \n",
    "             'SEDATIVES_OTHER_ROUTE':'SedHypOther1Route',\n",
    "             'SEDATIVES_OTHER':'SedHypOther1Spec'}\n",
    "\n",
    "#Renaming columns \n",
    "df.rename(columns = dictionary, inplace = True)\n",
    "\n",
    "#Creating variable to replace null variables\n",
    "null_cols = ['BarbituratesDays','BarbituratesRoute','AnxioBenzoDays','SedHypOther1Days','SedHypOther1Route']\n",
    "\n",
    "df[null_cols] = df[null_cols].fillna(-9)"
   ]
  },
  {
   "cell_type": "code",
   "execution_count": 132,
   "id": "2bcd33d8",
   "metadata": {},
   "outputs": [],
   "source": [
    "#Creating column with blank values\n",
    "df['SedHypOther2Days'] = -9\n",
    "df['SedHypOther2Route'] = -9\n",
    "df['SedHypOther2Spec'] = \" \"\n",
    "df['SedHypOther3Days'] = -9\n",
    "df['SedHypOther3Route'] = -9\n",
    "df['SedHypOther3Spec'] = \" \""
   ]
  },
  {
   "cell_type": "code",
   "execution_count": 133,
   "id": "2e8f172e",
   "metadata": {},
   "outputs": [],
   "source": [
    "#Creating substrings \n",
    "df['COCAINE_ROUTE'] = df['COCAINE_ROUTE'].str.split(',').str[0]\n",
    "\n",
    "#Creating function to create column CocaineRoute\n",
    "def Cocaine_Route (x):\n",
    "    if x == '0. Other':\n",
    "        return 0\n",
    "    elif x == '2. Intranasal':\n",
    "        return 2\n",
    "    elif x == '4. Smoking':\n",
    "        return 3\n",
    "    elif x == '6. Intravenous (IV) Injection':\n",
    "        return 5\n",
    "    else:\n",
    "        return -9\n",
    "    \n",
    "#Creating column CocaineRoute via applying the function Cocaine_Route\n",
    "df['CocaineRoute'] = df['COCAINE_ROUTE'].apply(lambda x: Cocaine_Route (x))"
   ]
  },
  {
   "cell_type": "code",
   "execution_count": 134,
   "id": "7d544b58",
   "metadata": {},
   "outputs": [],
   "source": [
    "#Creating function to create the column CrackRoute\n",
    "def Crack_Route (x):\n",
    "    if x == '2. Intranasal':\n",
    "        return 2\n",
    "    elif x == '4. Smoking':\n",
    "        return 3\n",
    "    else:\n",
    "        return -9\n",
    "#Creating column CrackRoute via applying the function Crack_Route\n",
    "df['CrackRoute'] = df['CRACK_ROUTE'].apply(lambda x: Crack_Route (x))"
   ]
  },
  {
   "cell_type": "code",
   "execution_count": 135,
   "id": "7c65c57a",
   "metadata": {},
   "outputs": [],
   "source": [
    "#Creating dictionary to rename columns \n",
    "dictionary2 = {'COCAINE_NUMBER_OF_DAYS':'CocaineDays', \n",
    "               'CRACK_NUMBER_OF_DAYS':'CrackDays', \n",
    "               'COCAINE_OTHER_NUMBER_OF_DAYS':'CocaineOther1Days',  \n",
    "               'COCAINE_OTHER_ROUTE':'CocaineOther1Route',  \n",
    "               'COCAINE_OTHER':'CocaineOther1Spec' }\n",
    "\n",
    "#Renaming columns\n",
    "df.rename(columns = dictionary2, inplace = True)\n",
    "\n",
    "# Creating variable to replace null values\n",
    "null_cols2 = ['CocaineDays', 'CrackDays', 'CocaineOther1Days','CocaineOther1Route']\n",
    "\n",
    "#Replacing null values \n",
    "df[null_cols2] = df[null_cols2].fillna(-9)"
   ]
  },
  {
   "cell_type": "code",
   "execution_count": 136,
   "id": "a3ba2e53",
   "metadata": {},
   "outputs": [],
   "source": [
    "#Creating blank columns\n",
    "df['CocaineOther2Days'] = -9\n",
    "df['CocaineOther2Route'] = -9\n",
    "df['CocaineOther2Spec'] = \" \"\n",
    "df['CocaineOther3Days'] = -9\n",
    "df['CocaineOther3Route'] = -9\n",
    "df['CocaineOther3Spec'] = \" \""
   ]
  },
  {
   "cell_type": "code",
   "execution_count": 137,
   "id": "b3e57c4e",
   "metadata": {},
   "outputs": [],
   "source": [
    "#Creating function to create column MethamRoute\n",
    "def Metham_Route (x):\n",
    "    if x == '2. Intranasal':\n",
    "        return 2\n",
    "    elif x == '4. Smoking':\n",
    "        return 3\n",
    "    else:\n",
    "        return -9\n",
    "\n",
    "#Creating column MethamDays via applying the function Metham_Days\n",
    "df['MethamRoute'] = df['METHAMPHETAMINE_ROUTE'].apply(lambda x: Metham_Route (x))"
   ]
  },
  {
   "cell_type": "code",
   "execution_count": 138,
   "id": "b02ab341",
   "metadata": {},
   "outputs": [],
   "source": [
    "#Creating function to create column StimMedsRoute\n",
    "def Stim_Meds_Route (x):\n",
    "    if x == '1. Oral':\n",
    "        return 1\n",
    "    else:\n",
    "        return -9\n",
    "    \n",
    "#Creating column StimMedsRoute via applying the function Stim_Meds_Route\n",
    "df['StimMedsRoute'] = df['STIMULANT_MEDICATIONS_ROUTE'].apply(lambda x:Stim_Meds_Route (x))"
   ]
  },
  {
   "cell_type": "code",
   "execution_count": 139,
   "id": "feb3522c",
   "metadata": {},
   "outputs": [],
   "source": [
    "#Creating function to create column StimsOther1Route\n",
    "def Stim_Other_Route (x):\n",
    "    if x == '1. Oral':\n",
    "        return 1\n",
    "    else:\n",
    "        return -9\n",
    "\n",
    "#Creating column StimsOther1Route via applying function Stim_Other_Route\n",
    "df['StimsOther1Route'] = df['STIMULANTS_OTHER_ROUTE'].apply(lambda x:Stim_Other_Route (x))"
   ]
  },
  {
   "cell_type": "code",
   "execution_count": 140,
   "id": "11009ba7",
   "metadata": {},
   "outputs": [],
   "source": [
    "#Creating blank columns:\n",
    "df['StimsOther2Days'] = -9\n",
    "df['StimsOther2Route'] = -9\n",
    "df['StimsOther2Spec'] = \" \"\n",
    "df['StimsOther3Days'] = -9\n",
    "df['StimsOther3Route'] = -9\n",
    "df['StimsOther3Spec'] = \" \""
   ]
  },
  {
   "cell_type": "code",
   "execution_count": 141,
   "id": "5a47afb0",
   "metadata": {},
   "outputs": [],
   "source": [
    "#Creating function to create column PCPRoute\n",
    "def PCP_Route (x):\n",
    "    if x == '4. Smoking':\n",
    "        return 3\n",
    "    else:\n",
    "        return -9\n",
    "    \n",
    "#Creating column PCPRoute via applying the function PCP_Route\n",
    "df['PCPRoute'] = df['PCP_ROUTE'].apply(lambda x: PCP_Route (x))"
   ]
  },
  {
   "cell_type": "code",
   "execution_count": 142,
   "id": "18a77d2a",
   "metadata": {},
   "outputs": [],
   "source": [
    "#Creating function to create column MDMARoute\n",
    "def MDMA_Route (x):\n",
    "    if x == '1. Oral':\n",
    "        return 1\n",
    "    else:\n",
    "        return -9\n",
    "    \n",
    "#Creating column MDMARoute via applying the function MDMA_Route\n",
    "df['MDMARoute'] = df['MDMA_ROUTE'].apply(lambda x:MDMA_Route (x))"
   ]
  },
  {
   "cell_type": "code",
   "execution_count": 143,
   "id": "261e453c",
   "metadata": {},
   "outputs": [],
   "source": [
    "#Creating function to cerate column LSDRoute\n",
    "def LSD_Route (x):\n",
    "    if x == '1. Oral':\n",
    "        return 1\n",
    "    else:\n",
    "        return -9\n",
    "\n",
    "#Creating column LSDRoute via applying the function LSD_Route\n",
    "df['LSDRoute'] = df['LSD_ROUTE'].apply(lambda x:LSD_Route (x))"
   ]
  },
  {
   "cell_type": "code",
   "execution_count": 144,
   "id": "b0e0859c",
   "metadata": {},
   "outputs": [],
   "source": [
    "#Replacing null values to create column MushroomDays\n",
    "df['MushroomDays'] = df['MUSHROOMS_NUMBER_OF_DAYS'].fillna(-9)"
   ]
  },
  {
   "cell_type": "code",
   "execution_count": 145,
   "id": "e43a4050",
   "metadata": {},
   "outputs": [],
   "source": [
    "#Creating function to create column MushroomRoute\n",
    "def Mushroom_Route (x):\n",
    "    if x == '1. Oral':\n",
    "        return 1\n",
    "    else:\n",
    "        return -9\n",
    "\n",
    "#Creating column MushroomRoute via applying the function Mushroom_Route\n",
    "df['MushroomRoute'] = df['MUSHROOMS_ROUTE'].apply(lambda x: Mushroom_Route (x))"
   ]
  },
  {
   "cell_type": "code",
   "execution_count": 146,
   "id": "708e86f4",
   "metadata": {},
   "outputs": [],
   "source": [
    "#Create a dictionary to rename columns above .rename function\n",
    "col_rename = { 'METHAMPHETAMINE_NUMBER_OF_DAYS':'MethamDays',\n",
    "            'STIMULANT_MEDICATIONS_NUMBER_OF_DAYS':'StimMedsDay',  \n",
    "            'STIMULANTS_OTHER_NUMBER_OF_DAYS':'StimsOther1Days', \n",
    "            'STIMULANTS_OTHER':'StimsOther1Spec', \n",
    "            'PCP_NUMBER_OF_DAYS':'PCPDay', \n",
    "            'MDMA_NUMBER_OF_DAYS':'MDMADays', \n",
    "            'LSD_NUMBER_OF_DAYS':'LSDDays',\n",
    "            'MESCALINE_NUMBER_OF_DAYS':'MescalineDays', \n",
    "            'MESCALINE_ROUTE':'MescalineRoute',\n",
    "            'SALVIA_NUMBER_OF_DAYS':'SalviaDays',\n",
    "            'SALVIA_ROUTE':'SalviaRoute',\n",
    "            'DMT_NUMBER_OF_DAYS':'DMTDays',\n",
    "            'DMT_ROUTE':'DMTRoute',\n",
    "            'HALLUCINOGENS_OTHER_NUMBER_OF_DAYS':'HalluPsychOther1Days',\n",
    "            'HALLUCINOGENS_OTHER_ROUTE':'HalluPsychOther1Route',\n",
    "            'HALLUCINOGENS_OTHER':'HalluPsychOther1Spec'}\n",
    "\n",
    "#Renaming columns\n",
    "df.rename(columns = col_rename,inplace = True)\n",
    "\n",
    "#Creating variables to replace null values\n",
    "null_col5 = ['MethamDays', 'StimMedsDay', 'StimsOther1Days', \n",
    "              'PCPDay', 'MDMADays','LSDDays', \n",
    "              'MescalineDays', 'MescalineRoute', 'SalviaDays',\n",
    "              'SalviaRoute', 'DMTDays', 'DMTRoute', \n",
    "              'HalluPsychOther1Days','HalluPsychOther1Route']\n",
    "\n",
    "#Replacing null values with -9\n",
    "df[null_col5] = df[null_col5].fillna(-9)\n",
    "\n",
    "df.rename(columns = {'StimMedsDay':'StimMedsDays','PCPDay':'PCPDays'}, inplace = True)"
   ]
  },
  {
   "cell_type": "code",
   "execution_count": 147,
   "id": "c65fae0d",
   "metadata": {},
   "outputs": [],
   "source": [
    "#Creating blank columns:\n",
    "df['HalluPsychOther2Days'] = -9\n",
    "df['HalluPsychOther2Route'] = -9\n",
    "df['HalluPsychOther2Spec'] = \" \"\n",
    "df['HalluPsychOther3Days'] = -9\n",
    "df['HalluPsychOther3Route'] = -9\n",
    "df['HalluPsychOther3Spec'] = \" \""
   ]
  },
  {
   "cell_type": "code",
   "execution_count": 148,
   "id": "0c365e26",
   "metadata": {},
   "outputs": [],
   "source": [
    "#Creating blank columns:\n",
    "df['InhalantsOther2Days'] = -9\n",
    "df['InhalantsOther2Route'] = -9\n",
    "df['InhalantsOther2Spec'] = \" \"\n",
    "df['InhalantsOther3Days'] = -9\n",
    "df['InhalantsOther3Route'] = -9\n",
    "df['InhalantsOther3Spec'] = \" \""
   ]
  },
  {
   "cell_type": "code",
   "execution_count": 149,
   "id": "aa9d5ff0",
   "metadata": {},
   "outputs": [],
   "source": [
    "#Create dictionary to rename columns using .rename()\n",
    "\n",
    "col_rename1 = {'INHALANTS_NUMBER_OF_DAYS':'InhalantsDays','INHALANTS_ROUTE':'InhalantsRoute', \n",
    "                'INHALANTS_OTHER_NUMBER_OF_DAYS':'InhalantsOther1Days', 'INHALANTS_OTHER_ROUTE':'InhalantsOther1Route', \n",
    "               'INHALANTS_OTHER':'InhalantsOther1Spec', 'NON_PRESCRIPTION_GHB_NUMBER_OF_DAYS':'NonPrescGhbDays',\n",
    "               'NON_PRESCRIPTION_GHB_ROUTE':'NonPrescGhbRoute', 'KETAMINE_NUMBER_OF_DAYS':'KetamineDays', \n",
    "               'KETAMINE_ROUTE':'KetamineRoute', 'MDPV_BATH_SALTS_NUMBER_OF_DAYS':'BathSaltsDays',\n",
    "               'MDPV_BATH_SALTS_ROUTE':'BathSaltsRoute', 'KRATOM_NUMBER_OF_DAYS':'KratomDays',  \n",
    "               'KRATOM_ROUTE':'KratomRoute', 'KHAT_NUMBER_OF_DAYS':'KhatDays', \n",
    "               'KHAT_ROUTE':'KhatRoute', 'OTHER_TRANQUILIZERS_NUMBER_OF_DAYS':'OtherTranqDays', \n",
    "               'OTHER_TRANQUILIZERS_ROUTE':'OtherTranqRoute', 'OTHER_DOWNERS_NUMBER_OF_DAYS':'OtherDownersDays', \n",
    "               'OTHER_DOWNERS_ROUTE':'OtherDownersRoute', 'OTHER_SEDATIVES_NUMBER_OF_DAYS':'OtherSedativesDays', \n",
    "               'OTHER_SEDATIVES_ROUTE':'OtherSedativesRoute', 'OTHER_HYPNOTICS_NUMBER_OF_DAYS':'OtherHypsDays', \n",
    "               'OTHER_HYPNOTICS_ROUTE':'OtherHypsRoute', 'PSYCHOACTIVE_SUBSTANCES_OTHER_NUMBER_OF_DAYS':'PsychActOther1Days', \n",
    "               'PSYCHOACTIVE_SUBSTANCES_OTHER_ROUTE':'PsychActOther1Route', 'PSYCHOACTIVE_SUBSTANCES_OTHER':'PsychActOther1Spec'}\n",
    "\n",
    "\n",
    "#Renaming columns\n",
    "df.rename(columns = col_rename1, inplace = True)\n",
    "\n",
    "#Creating variable to replace null values\n",
    "null_col6 = ['NonPrescGhbDays','InhalantsDays', 'InhalantsRoute','InhalantsOther1Days','InhalantsOther1Route','NonPrescGhbRoute',\t'KetamineDays',\t'KetamineRoute',\t'BathSaltsDays' ,\t'BathSaltsRoute',\t'KratomDays' ,\t'KratomRoute',\t'KhatDays' ,\t'KhatRoute' ,\t'OtherTranqDays' ,\t'OtherTranqRoute',\t'OtherDownersDays' ,\t'OtherDownersRoute',\t'OtherSedativesDays' ,\t'OtherSedativesRoute',\t'OtherHypsDays' ,\t'OtherHypsRoute',\t'PsychActOther1Days',\t'PsychActOther1Route']\n",
    "\n",
    "#Replacing null values with -9\n",
    "df[null_col6] = df[null_col6].fillna(-9)"
   ]
  },
  {
   "cell_type": "code",
   "execution_count": 150,
   "id": "e869805f",
   "metadata": {
    "scrolled": true
   },
   "outputs": [],
   "source": [
    "#Creating blank columns:\n",
    "df['PsychActOther2Days'] = -9\n",
    "df['PsychActOther2Route'] = -9\n",
    "df['PsychActOther2Spec'] = \" \"\n",
    "df['PsychActOther3Days'] = -9\n",
    "df['PsychActOther3Route'] = -9\n",
    "df['PsychActOther3Spec'] = \" \""
   ]
  },
  {
   "cell_type": "code",
   "execution_count": 151,
   "id": "1da41927",
   "metadata": {},
   "outputs": [],
   "source": [
    "#Creating substrings\n",
    "df['TOBACCO_ROUTE'] = df['TOBACCO_ROUTE'].str.split(',').str[0]\n",
    "\n",
    "#Replacing null values to create column TobaccoDays\n",
    "df['TobaccoDays'] = df['TOBACCO_NUMBER_OF_DAYS'].fillna(-9)\n",
    "\n",
    "#Creating function to for column TobaccoRoute\n",
    "def Tobacco_Route (x):\n",
    "    if x == '1. Oral':\n",
    "        return 1\n",
    "    elif x == '4. Smoking':\n",
    "        return 3\n",
    "    elif x == '3. Vaping':\n",
    "        return 6\n",
    "    else:\n",
    "        return -9\n",
    "\n",
    "#Creating column TobaccoRoute via applying function Tobacco_Route\n",
    "df['TobaccoRoute'] = df['TOBACCO_ROUTE'].apply(lambda x: Tobacco_Route (x))"
   ]
  },
  {
   "cell_type": "code",
   "execution_count": 152,
   "id": "8b73925a",
   "metadata": {},
   "outputs": [],
   "source": [
    "#Replacing null values to create column NicotineDays\n",
    "df['NicotineDays'] = df['NICOTINE_INCLUDING_VAPE_NUMBER_OF_DAYS'].fillna(-9)\n",
    "\n",
    "#Creating substrings\n",
    "df['NICOTINE_INCLUDING_VAPE_ROUTE'] = df['NICOTINE_INCLUDING_VAPE_ROUTE'].str.split(',').str[0]\n",
    "\n",
    "#Creating a function to create column NicotineRoute\n",
    "def Nicotine_Route (x):\n",
    "    if x == '1. Oral' or x == '1. Oral, 3. Vaping' or x == '1. Oral, 4. Smoking':\n",
    "        return 1\n",
    "    elif x == '4. Smoking':\n",
    "        return 3\n",
    "    elif x == '3. Vaping' or x == '3. Vaping, 4. Smoking':\n",
    "        return 6\n",
    "    else:\n",
    "        return -9\n",
    "\n",
    "#Creating column NicotineRoute via applying function Nicotine_Route\n",
    "df['NicotineRoute'] = df['NICOTINE_INCLUDING_VAPE_ROUTE'].apply(lambda x: Nicotine_Route (x))"
   ]
  },
  {
   "cell_type": "code",
   "execution_count": 153,
   "id": "2d2590de",
   "metadata": {},
   "outputs": [],
   "source": [
    "#Creating columns TobNicOther1Days,TobNicOther1Route, and TobNicOther1Spec\n",
    "df['TobNicOther1Days'] = df['TOBACCO_OTHER_NUMBER_OF_DAYS'].fillna(-9)\n",
    "\n",
    "#Creating function for column TobNicOther1Route\n",
    "def Tob_Other_Route (x):\n",
    "    if x == '4. Smoking':\n",
    "        return 3\n",
    "    elif x == '3. Vaping':\n",
    "        return 6\n",
    "    else:\n",
    "        return -9\n",
    "\n",
    "#Creating column TobNicOther1Route via applying function Tob_Other_Route\n",
    "df['TobNicOther1Route'] = df['TOBACCO_OTHER_ROUTE'].apply(lambda x: Tob_Other_Route (x))\n",
    "\n",
    "#Renaming column to create column TobNicOther1Spec\n",
    "df.rename(columns = {'TOBACCO_OTHER':'TobNicOther1Spec'}, inplace = True)\n",
    "\n",
    "\n",
    "df['TobNicOther1Spec'] = df['TobNicOther1Spec'].str.title()"
   ]
  },
  {
   "cell_type": "code",
   "execution_count": 154,
   "id": "23ec09d0",
   "metadata": {},
   "outputs": [],
   "source": [
    "#Creating blank values:\n",
    "df['TobNicOther2Days'] = -9\n",
    "df['TobNicOther2Route'] = -9\n",
    "df['TobNicOther2Spec'] = \" \"\n",
    "df['TobNicOther3Days'] = -9\n",
    "df['TobNicOther3Route'] = -9\n",
    "df['TobNicOther3Spec'] = \" \""
   ]
  },
  {
   "cell_type": "code",
   "execution_count": 155,
   "id": "c5d20198",
   "metadata": {},
   "outputs": [],
   "source": [
    "# Creating function to create column AlcMedNaltrexone\n",
    "def Alc_Med_Naltrexone (x):\n",
    "    if x == 'Naltrexone':\n",
    "        return 1\n",
    "    elif x == -9:\n",
    "        return -9\n",
    "    else:\n",
    "        return 0\n",
    "    \n",
    "#Replacing null values with -9\n",
    "df['MEDICATION_RECEIVED_FOR_DIAGNOSIS_OF_ALCOHOL_USE_DISORDER_PAST_30_DAYS'] = df['MEDICATION_RECEIVED_FOR_DIAGNOSIS_OF_ALCOHOL_USE_DISORDER_PAST_30_DAYS'].fillna(-9)\n",
    "\n",
    "    \n",
    "#Creating column AlcMedNaltrexone via applying the function Alc_Med_Naltrexone\n",
    "df['AlcMedNaltrexone'] = df['MEDICATION_RECEIVED_FOR_DIAGNOSIS_OF_ALCOHOL_USE_DISORDER_PAST_30_DAYS'].apply(lambda x: Alc_Med_Naltrexone (x))"
   ]
  },
  {
   "cell_type": "code",
   "execution_count": 156,
   "id": "bc5ac592",
   "metadata": {},
   "outputs": [],
   "source": [
    "#Renaming column to create column AlcMedNaltrexoneDays\n",
    "df.rename(columns = {'NUMBER_OF_DAYS_RECEIVED_NALTREXONE':'AlcMedNaltrexoneDays'}, inplace = True)\n",
    "\n",
    "#Relplacing null values with -9\n",
    "df['AlcMedNaltrexoneDays'] = df['AlcMedNaltrexoneDays'].fillna(-9)\n",
    "\n",
    "#Replacing 0 with blank to create column AlcMedNaltrexoneDays\n",
    "df['AlcMedNaltrexoneDays'] = df['AlcMedNaltrexoneDays'].replace(0,\" \")\n"
   ]
  },
  {
   "cell_type": "code",
   "execution_count": 157,
   "id": "e887ae38",
   "metadata": {},
   "outputs": [],
   "source": [
    "#Repalcing null values with -9 to create column AlcMedExtRelNaltrexoneDoses\n",
    "df['AlcMedExtRelNaltrexoneDoses'] = df['NUMBER_OF_DAYS_RECEIVED_EXTENDED_RELEASE_NALTREXONE'].fillna(-9)\n",
    "\n",
    "#Creating function to create column AlcMedExtRelNaltrexone\n",
    "def AlcMedExtRelNaltrexone (x):\n",
    "    if x == 1 or x == 2:\n",
    "        return 1\n",
    "    elif x == -9:\n",
    "        return -9\n",
    "    \n",
    "#Creating column AlcMedExtRelNaltrexone via applying function AlcMedExtRelNaltrexone\n",
    "df['AlcMedExtRelNaltrexone'] = df['AlcMedExtRelNaltrexoneDoses'].apply(lambda x: AlcMedExtRelNaltrexone (x))"
   ]
  },
  {
   "cell_type": "code",
   "execution_count": 158,
   "id": "a6547c4d",
   "metadata": {},
   "outputs": [],
   "source": [
    "#Renaming column to create column AlcMedDisulfiram\n",
    "df.rename(columns = {'NUMBER_OF_DAYS_RECEIVED_DISULFIRAM':'AlcMedDisulfiramDays'}, inplace = True)\n",
    "\n",
    "#Replacing values with -9 to create column AlcMedDisulfiram\n",
    "df['AlcMedDisulfiramDays'] = df['AlcMedDisulfiramDays'].fillna(-9)\n",
    "\n",
    "#Creating column \n",
    "df['AlcMedDisulfiram'] = -9"
   ]
  },
  {
   "cell_type": "code",
   "execution_count": 159,
   "id": "4d626f71",
   "metadata": {},
   "outputs": [],
   "source": [
    "#Creating function to create column AlcMedAcamprosate\n",
    "def Alc_Med_Acamprosate (x):\n",
    "    if x == 30:\n",
    "        return 1\n",
    "    else:\n",
    "        return -9\n",
    "\n",
    "#Creating column AlcMedAcamprosate via applying function Alc_Med_Acamprosate\n",
    "df['AlcMedAcamprosate'] = df['NUMBER_OF_DAYS_RECEIVED_ACAMPROSATE'].apply(lambda x: Alc_Med_Acamprosate (x))\n",
    "\n",
    "#Replacing null values with -9 to create column AlcMedAcamprosateDays\n",
    "df['AlcMedAcamprosateDays'] = df['NUMBER_OF_DAYS_RECEIVED_ACAMPROSATE'].fillna(-9)"
   ]
  },
  {
   "cell_type": "code",
   "execution_count": 160,
   "id": "665ed453",
   "metadata": {},
   "outputs": [],
   "source": [
    "#Creating blank columns:\n",
    "df['AlcMedNoneRcvdDiagnosed'] = -9\n",
    "df['AlcMedNotDiagnosed'] = -9"
   ]
  },
  {
   "cell_type": "code",
   "execution_count": 161,
   "id": "85fbdd5f",
   "metadata": {},
   "outputs": [],
   "source": [
    "#Replacing null values with -9 to create column OpMedMethadoneDays\n",
    "df['OpMedMethadoneDays'] = df['NUMBER_OF_DAYS_RECEIVED_METHADONE'].fillna(-9)\n",
    "\n",
    "#Creating a function to create column OpMedMethadone\n",
    "def Op_Med_Methadone (x):\n",
    "    if x == 30 or x == 1 or x == 3 or x == 5 or x == 7 or x == 9 or x == 2 or x == 363 or x == 15:\n",
    "        return 1\n",
    "    elif x == -9:\n",
    "        return -9\n",
    "\n",
    "#Creating column OpMedMethadone via applying the function Op_Med_Methadone\n",
    "df['OpMedMethadone'] = df['OpMedMethadoneDays'].apply(lambda x :Op_Med_Methadone (x))"
   ]
  },
  {
   "cell_type": "code",
   "execution_count": 162,
   "id": "f09dcce8",
   "metadata": {},
   "outputs": [],
   "source": [
    "#Replacing null values with -9 to create column OpMedBuprenorphineDays\n",
    "df['OpMedBuprenorphineDays'] = df['NUMBER_OF_DAYS_RECEIVED_BUPRENORPHINE'].fillna(-9)\n",
    "\n",
    "#Creating function to create column OpMedBuprenorphine\n",
    "def Op_Med_Buprenorphine (x):\n",
    "    if x == 1 or x == 30 or x == 3 or x == 2 or x == 7 or x == 28 or x == 120 or x == 15 or x == 6 or x == 21 or x == 23 or x == 2555 or x == 14 or x == 365  or x == 20 or x == 5 or x == 0:\n",
    "        return 1\n",
    "    elif x == -9:\n",
    "        return -9\n",
    "    \n",
    "#Creating column OpMedBuprenorphine via applying function Op_Med_Buprenorphin\n",
    "df['OpMedBuprenorphine'] = df['OpMedBuprenorphineDays'].apply(lambda x:Op_Med_Buprenorphine (x))\n",
    "\n",
    "#Replacing 0 values with blanks\n",
    "df['OpMedBuprenorphineDays'] = df['OpMedBuprenorphineDays'].replace(0,\" \")"
   ]
  },
  {
   "cell_type": "code",
   "execution_count": 163,
   "id": "e8e96624",
   "metadata": {},
   "outputs": [],
   "source": [
    "#Replacing null values with -9 to create column OpMedNaltrexoneDays\n",
    "df['OpMedNaltrexoneDays'] = df['NUMBER_OF_DAYS_RECEIVED_NALTREXONE_1'].fillna(-9)\n",
    "\n",
    "#Creating function to create column OpMedNaltrexone\n",
    "def Op_Med_Naltrexone (x):\n",
    "    if x == 1 or x == 30 or x == 14 or x == 21 or x == 2 or x == 0:\n",
    "        return 1\n",
    "    elif x == -9:\n",
    "        return -9\n",
    "    \n",
    "#Creating column OpMedNaltrexone via applying function Op_Med_Naltrexone\n",
    "df['OpMedNaltrexone'] = df['OpMedNaltrexoneDays'].apply(lambda x: Op_Med_Naltrexone (x))\n",
    "\n",
    "\n",
    "#Replacing 0 with blank space \n",
    "df['OpMedNaltrexoneDays'] = df['OpMedNaltrexoneDays'].replace(0,\" \")"
   ]
  },
  {
   "cell_type": "code",
   "execution_count": 164,
   "id": "6908264b",
   "metadata": {
    "scrolled": true
   },
   "outputs": [],
   "source": [
    "#Creating function to create column OpMedExtRelNaltrexone\n",
    "def Op_Med_ExtRel_Naltrexone (x): \n",
    "    if x == 1 or x == 2:\n",
    "        return 1\n",
    "    else:\n",
    "        return -9\n",
    "    \n",
    "#Creating column OpMedExtRelNaltrexone via applying function Op_Med_ExtRel_Naltrexone\n",
    "df['OpMedExtRelNaltrexone'] = df['NUMBER_OF_DAYS_RECEIVED_EXTENDED_RELEASE_NALTREXONE'].apply(lambda x: Op_Med_ExtRel_Naltrexone (x))"
   ]
  },
  {
   "cell_type": "markdown",
   "id": "4f36acf9",
   "metadata": {},
   "source": [
    "# Export GPRA 2"
   ]
  },
  {
   "cell_type": "code",
   "execution_count": 166,
   "id": "4f04659a",
   "metadata": {},
   "outputs": [],
   "source": [
    "GPRA2 = df[['ClientID','OpioidsDemerolRoute',\t'OpioidsPercocetDays',\t'OpioidsPercocetRoute',\t'OpioidsCodeineDays',\t'OpioidsCodeineRoute',\t'OpioidsTylenolDays',\t'OpioidsTylenolRoute',\t'OpioidsOxycoDays',\t'OpioidsOxycoRoute',\t'OpioidsNonPresMethadoneDays',\t'OpioidsNonPresMethadoneRoute',\t'OpioidsNonPresBupDays',\t'OpioidsNonPresBupRoute',\t'OpioidsOther1Days',\t'OpioidsOther1Route',\t'OpioidsOther1Spec',\t'OpioidsOther2Days',\t'OpioidsOther2Route',\t'OpioidsOther2Spec',\t'OpioidsOther3Days',\t'OpioidsOther3Route',\t'OpioidsOther3Spec',\t'MarijuanaDays',\t'MarijuanaRoute',\t'SynthCannDays',\t'SynthCannRoute',\t'CannOther1Days',\t'CannOther1Route',\t'CannOther1Spec',\t'CannOther2Days',\t'CannOther2Route',\t'CannOther2Spec',\t'CannOther3Days',\t'CannOther3Route',\t'CannOther3Spec',\t'SedativeDays',\t'SedativeRoute',\t'HypnoDays',\t'HypnoRoute',\t'BarbituratesDays',\t'BarbituratesRoute',\t'AnxioBenzoDays',\t'AnxioBenzoRoute',\t'SedHypOther1Days',\t'SedHypOther1Route',\t'SedHypOther1Spec',\t'SedHypOther2Days',\t'SedHypOther2Route',\t'SedHypOther2Spec',\t'SedHypOther3Days',\t'SedHypOther3Route',\t'SedHypOther3Spec',\t'CocaineDays',\t'CocaineRoute',\t'CrackDays',\t'CrackRoute',\t'CocaineOther1Days',\t'CocaineOther1Route',\t'CocaineOther1Spec',\t'CocaineOther2Days',\t'CocaineOther2Route',\t'CocaineOther2Spec',\t'CocaineOther3Days',\t'CocaineOther3Route',\t'CocaineOther3Spec',\t'MethamDays',\t'MethamRoute',\t'StimMedsDays',\t'StimMedsRoute',\t'StimsOther1Days',\t'StimsOther1Route',\t'StimsOther1Spec',\t'StimsOther2Days',\t'StimsOther2Route',\t'StimsOther2Spec',\t'StimsOther3Days',\t'StimsOther3Route',\t'StimsOther3Spec',\t'PCPDays',\t'PCPRoute',\t'MDMADays',\t'MDMARoute',\t'LSDDays',\t'LSDRoute',\t'MushroomDays',\t'MushroomRoute',\t'MescalineDays',\t'MescalineRoute',\t'SalviaDays',\t'SalviaRoute',\t'DMTDays',\t'DMTRoute',\t'HalluPsychOther1Days',\t'HalluPsychOther1Route',\t'HalluPsychOther1Spec',\t'HalluPsychOther2Days',\t'HalluPsychOther2Route',\t'HalluPsychOther2Spec',\t'HalluPsychOther3Days',\t'HalluPsychOther3Route',\t'HalluPsychOther3Spec',\t'InhalantsDays',\t'InhalantsRoute',\t'InhalantsOther1Days',\t'InhalantsOther1Route',\t'InhalantsOther1Spec',\t'InhalantsOther2Days',\t'InhalantsOther2Route',\t'InhalantsOther2Spec',\t'InhalantsOther3Days',\t'InhalantsOther3Route',\t'InhalantsOther3Spec',\t'NonPrescGhbDays',\t'NonPrescGhbRoute',\t'KetamineDays',\t'KetamineRoute',\t'BathSaltsDays',\t'BathSaltsRoute',\t'KratomDays',\t'KratomRoute',\t'KhatDays',\t'KhatRoute',\t'OtherTranqDays',\t'OtherTranqRoute',\t'OtherDownersDays',\t'OtherDownersRoute',\t'OtherSedativesDays',\t'OtherSedativesRoute',\t'OtherHypsDays',\t'OtherHypsRoute',\t'PsychActOther1Days',\t'PsychActOther1Route',\t'PsychActOther1Spec',\t'PsychActOther2Days',\t'PsychActOther2Route',\t'PsychActOther2Spec',\t'PsychActOther3Days',\t'PsychActOther3Route',\t'PsychActOther3Spec',\t'TobaccoDays',\t'TobaccoRoute',\t'NicotineDays',\t'NicotineRoute',\t'TobNicOther1Days',\t'TobNicOther1Route',\t'TobNicOther1Spec',\t'TobNicOther2Days',\t'TobNicOther2Route',\t'TobNicOther2Spec',\t'TobNicOther3Days',\t'TobNicOther3Route',\t'TobNicOther3Spec',\t'AlcMedNaltrexone',\t'AlcMedNaltrexoneDays',\t'AlcMedExtRelNaltrexone',\t'AlcMedExtRelNaltrexoneDoses',\t'AlcMedDisulfiram',\t'AlcMedDisulfiramDays',\t'AlcMedAcamprosate',\t'AlcMedAcamprosateDays',\t'AlcMedNoneRcvdDiagnosed',\t'AlcMedNotDiagnosed',\t'OpMedMethadone',\t'OpMedMethadoneDays',\t'OpMedBuprenorphine',\t'OpMedBuprenorphineDays',\t'OpMedNaltrexone',\t'OpMedNaltrexoneDays',\t'OpMedExtRelNaltrexone']]\n",
    "\n",
    "#Exporting GPRA 2\n",
    "GPRA2.to_csv('GPRA2.csv', index = False, header = True, encoding = 'utf-8')"
   ]
  }
 ],
 "metadata": {
  "kernelspec": {
   "display_name": "Python 3 (ipykernel)",
   "language": "python",
   "name": "python3"
  },
  "language_info": {
   "codemirror_mode": {
    "name": "ipython",
    "version": 3
   },
   "file_extension": ".py",
   "mimetype": "text/x-python",
   "name": "python",
   "nbconvert_exporter": "python",
   "pygments_lexer": "ipython3",
   "version": "3.11.4"
  }
 },
 "nbformat": 4,
 "nbformat_minor": 5
}
