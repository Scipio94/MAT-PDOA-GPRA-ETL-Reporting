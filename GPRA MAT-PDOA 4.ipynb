{
 "cells": [
  {
   "cell_type": "markdown",
   "id": "2498c9fd",
   "metadata": {},
   "source": [
    "# GRPA Coding\n",
    "\n",
    "Goverment Perfromance and Results Act (GPRA) coding for intake data of recovery specialist for the Institure for Prevention and Recovery (IFPR) at RWJ Baranabas"
   ]
  },
  {
   "cell_type": "code",
   "execution_count": 190,
   "id": "7e487610",
   "metadata": {},
   "outputs": [],
   "source": [
    "#importing pandas\n",
    "import pandas as pd\n",
    "import numpy as np"
   ]
  },
  {
   "cell_type": "code",
   "execution_count": 191,
   "id": "e9ffe513",
   "metadata": {},
   "outputs": [],
   "source": [
    "# importing data and parsing datetime columns\n",
    "df = pd.read_csv(r\"\\\\cdchomedir01\\home1\\tyogarro\\Jan GPRA\\GPRA_Coding_File_01.01.24-06.30.24.csv\", parse_dates = ['ADMIT_DT','FORM_DTTM','FORM_UPDATE_DTTM'\n",
    "])\n",
    "\n",
    "#subsetting to include Peer Recovery Program episodes\n",
    "df = df[df['EPISODE'] =='IFPR - Peer Recovery Program'].sort_values(by = ['FORM_DTTM','MRN']) # <- sorting df"
   ]
  },
  {
   "cell_type": "code",
   "execution_count": 192,
   "id": "f67a6951",
   "metadata": {},
   "outputs": [],
   "source": [
    "#Renaming column to create ClientID\n",
    "df.rename(columns = {'CSN':'ClientID'}, inplace = True)"
   ]
  },
  {
   "cell_type": "code",
   "execution_count": 193,
   "id": "cc2688bc",
   "metadata": {},
   "outputs": [],
   "source": [
    "#function for days columns that exceed 30 days\n",
    "def exceed_thirty_days(x):\n",
    "    if x > 30:\n",
    "        return 30\n",
    "    else:\n",
    "        return x"
   ]
  },
  {
   "cell_type": "code",
   "execution_count": 194,
   "id": "139e2c9b",
   "metadata": {},
   "outputs": [
    {
     "data": {
      "text/plain": [
       "array([nan])"
      ]
     },
     "execution_count": 194,
     "metadata": {},
     "output_type": "execute_result"
    }
   ],
   "source": [
    " df['MEDICATION_PLANNED'].unique()"
   ]
  },
  {
   "cell_type": "code",
   "execution_count": 195,
   "id": "bd9d965f",
   "metadata": {},
   "outputs": [],
   "source": [
    "#Create substring \n",
    "df['MODALITY_PLANNED'] = df['MODALITY_PLANNED'].str.split(',').str[0]\n",
    "df['MODALITY_PLANNED'] = df['MODALITY_PLANNED'].str.strip()"
   ]
  },
  {
   "cell_type": "code",
   "execution_count": 196,
   "id": "89192901",
   "metadata": {},
   "outputs": [
    {
     "data": {
      "text/plain": [
       "array(['10. Recovery Support', '1. Case Management', nan,\n",
       "       '12. No Modality Services Will Be Provided'], dtype=object)"
      ]
     },
     "execution_count": 196,
     "metadata": {},
     "output_type": "execute_result"
    }
   ],
   "source": [
    "df['MODALITY_PLANNED'].unique()"
   ]
  },
  {
   "cell_type": "markdown",
   "id": "4fd837ce",
   "metadata": {},
   "source": [
    "## Creating GPRA 4"
   ]
  },
  {
   "cell_type": "code",
   "execution_count": 197,
   "id": "64200aea",
   "metadata": {
    "scrolled": false
   },
   "outputs": [],
   "source": [
    "#Creating column PlanSvcMethadone \n",
    "def Plan_Svc_Methadone(x):\n",
    "    if x == 'M. Methadone':\n",
    "        return 1\n",
    "    else:\n",
    "        return 0\n",
    "\n",
    "df['PlanSvcMethadone'] = df['MEDICATION_PLANNED'].apply(lambda x:Plan_Svc_Methadone(x))"
   ]
  },
  {
   "cell_type": "code",
   "execution_count": 198,
   "id": "0394dba0",
   "metadata": {},
   "outputs": [],
   "source": [
    "#Creating function to create column PlanSvcBuprenorphine\n",
    "def Plan_Svc_Buprenorphine (x):\n",
    "    if x == 'B. Buprenorphine':\n",
    "        return 1\n",
    "    else:\n",
    "        return 0\n",
    "    \n",
    "#Creating column PlanSvcBuprenorphine via applying the function Plan_Svc_Buprenorphine (x)\n",
    "df['PlanSvcBuprenorphine'] = df['MEDICATION_PLANNED'].apply(lambda x:Plan_Svc_Buprenorphine (x))"
   ]
  },
  {
   "cell_type": "code",
   "execution_count": 199,
   "id": "c5e8635e",
   "metadata": {},
   "outputs": [
    {
     "data": {
      "text/plain": [
       "array([nan])"
      ]
     },
     "execution_count": 199,
     "metadata": {},
     "output_type": "execute_result"
    }
   ],
   "source": [
    "df['MEDICATION_PLANNED'].unique()"
   ]
  },
  {
   "cell_type": "code",
   "execution_count": 200,
   "id": "3ed3e065",
   "metadata": {},
   "outputs": [],
   "source": [
    "#Creating columns with 0 values\n",
    "df['PlanSvcNaltrexoneShortActing'] = 0\n",
    "df['PlanSvcNaltrexoneLongActing'] = 0\n",
    "df['PlanSvcDisulfiram'] = 0\n",
    "df['PlanSvcAcamprosate'] = 0\n",
    "df['PlanSvcNicotineReplacement'] = 0 \n",
    "df['PlanSvcBupropion'] = 0\n",
    "df['PlanSvcVarenicline'] = 0"
   ]
  },
  {
   "cell_type": "code",
   "execution_count": 201,
   "id": "86e5c8ac",
   "metadata": {},
   "outputs": [],
   "source": [
    "#Creating columns with 0 values\n",
    "df['PlanSvcFreeStandingRes'] = 0\n",
    "df['PlanSvcHospitalInpatient'] = 0"
   ]
  },
  {
   "cell_type": "code",
   "execution_count": 202,
   "id": "80d5836c",
   "metadata": {},
   "outputs": [],
   "source": [
    "#Creating function to create column PlanSvcFreeStandingRes\n",
    "def Plan_Svc_FreeStandingRes (x):\n",
    "    if x == 'B. Free Standing Residential':\n",
    "        return 1\n",
    "    else:\n",
    "        return 0\n",
    "    \n",
    "#Creating column PlanSvcFreeStandingRes via applying the function Plan_Svc_FreeStandingRes (x)\n",
    "df['PlanSvcFreeStandingRes']= df['WITHDRAWAL_MANAGEMENT_PLANNED'].apply(lambda x: Plan_Svc_FreeStandingRes (x))"
   ]
  },
  {
   "cell_type": "code",
   "execution_count": 203,
   "id": "e4ba6146",
   "metadata": {},
   "outputs": [
    {
     "data": {
      "text/plain": [
       "array([nan])"
      ]
     },
     "execution_count": 203,
     "metadata": {},
     "output_type": "execute_result"
    }
   ],
   "source": [
    "df['WITHDRAWAL_MANAGEMENT_PLANNED'].unique()"
   ]
  },
  {
   "cell_type": "code",
   "execution_count": 204,
   "id": "112e56f7",
   "metadata": {},
   "outputs": [],
   "source": [
    "#Creating column PlanSvcAmbulatoryDetox\n",
    "df['PlanSvcAmbulatoryDetox'] = 0"
   ]
  },
  {
   "cell_type": "code",
   "execution_count": 205,
   "id": "932df3a3",
   "metadata": {},
   "outputs": [],
   "source": [
    "#Creating columns with 0 values \n",
    "df['PlanSvcAfterCare'] = 0"
   ]
  },
  {
   "cell_type": "code",
   "execution_count": 206,
   "id": "5c8c5135",
   "metadata": {},
   "outputs": [],
   "source": [
    "def PlanSvcRecoverySupport(x):\n",
    "    if x == '10. Recovery Support':\n",
    "        return 1\n",
    "    else:\n",
    "        return 0\n",
    "df['PlanSvcRecoverySupport'] = df['MODALITY_PLANNED'].apply(lambda x: PlanSvcRecoverySupport(x))"
   ]
  },
  {
   "cell_type": "code",
   "execution_count": 207,
   "id": "9853a8cf",
   "metadata": {},
   "outputs": [
    {
     "data": {
      "text/plain": [
       "array(['10. Recovery Support', '1. Case Management', nan,\n",
       "       '12. No Modality Services Will Be Provided'], dtype=object)"
      ]
     },
     "execution_count": 207,
     "metadata": {},
     "output_type": "execute_result"
    }
   ],
   "source": [
    "df['MODALITY_PLANNED'].unique()"
   ]
  },
  {
   "cell_type": "code",
   "execution_count": 208,
   "id": "004f67fc",
   "metadata": {},
   "outputs": [],
   "source": [
    "# PlanSvcOtherModalities columns\n",
    "def no_modality(x):\n",
    "    if x == '12. No Modality Services Will Be Provided':\n",
    "        return 1\n",
    "    else:\n",
    "        return 0\n",
    "df['PlanSvcOtherModalities'] = df['MODALITY_PLANNED'].apply(lambda x: no_modality (x))"
   ]
  },
  {
   "cell_type": "code",
   "execution_count": 209,
   "id": "c7b87ec1",
   "metadata": {},
   "outputs": [],
   "source": [
    "def no_modality_spec(x):\n",
    "    if x == 1:\n",
    "        return 'None'\n",
    "    else:\n",
    "        return ''\n",
    "df['PlanSvcOtherModalitesSpec'] = df['PlanSvcOtherModalities'].apply(lambda x:no_modality_spec(x))"
   ]
  },
  {
   "cell_type": "code",
   "execution_count": 210,
   "id": "2453bbc8",
   "metadata": {},
   "outputs": [
    {
     "data": {
      "text/plain": [
       "array(['', 'None'], dtype=object)"
      ]
     },
     "execution_count": 210,
     "metadata": {},
     "output_type": "execute_result"
    }
   ],
   "source": [
    "df['PlanSvcOtherModalitesSpec'].unique()"
   ]
  },
  {
   "cell_type": "code",
   "execution_count": 211,
   "id": "5d4bb0d5",
   "metadata": {},
   "outputs": [],
   "source": [
    "#Creating substrings of the column \n",
    "df['TREATMENT_SERVICES_PLANNED'] = df['TREATMENT_SERVICES_PLANNED'].str[:2]\n",
    "# 19 - no treatmebt\n",
    "# 18 - Other Clinical Services (Specify)\n",
    "# 12 - Cognitive Behavioral Therapy\n",
    "# 10 - Contingency Management\n",
    "# 7 - Recovery Planning\n",
    "# 6 - Treatment Planning\n",
    "# 5 - Assessment\n",
    "# 4 - Referral to Treatment\n",
    "# 3 -  Brief Treatment\n",
    "# 2 - Brief Intervention\n",
    "# 1 - Screening"
   ]
  },
  {
   "cell_type": "code",
   "execution_count": 212,
   "id": "0b9bf4fd",
   "metadata": {},
   "outputs": [
    {
     "data": {
      "text/plain": [
       "array(['19', '7.', nan, '1.', '5.', '10', '18', '4.'], dtype=object)"
      ]
     },
     "execution_count": 212,
     "metadata": {},
     "output_type": "execute_result"
    }
   ],
   "source": [
    "df['TREATMENT_SERVICES_PLANNED'].unique()"
   ]
  },
  {
   "cell_type": "code",
   "execution_count": 213,
   "id": "fdfb6ef8",
   "metadata": {
    "scrolled": true
   },
   "outputs": [],
   "source": [
    "#Creating function to create column PlanSvcScreening\n",
    "def Plan_Svc_Screening (x):\n",
    "    if x == '1.':\n",
    "        return 1\n",
    "    else:\n",
    "        return 0 \n",
    "    \n",
    "#Creating column PlanSvcScreening via applying the function Plan_Svc_Screening (x)\n",
    "df['PlanSvcScreening'] = df['TREATMENT_SERVICES_PLANNED'].apply(lambda x:Plan_Svc_Screening (x))"
   ]
  },
  {
   "cell_type": "code",
   "execution_count": 214,
   "id": "0d57445b",
   "metadata": {},
   "outputs": [],
   "source": [
    "#Creating function to create column PlanSvcBriefIntervention\n",
    "def Plan_Svc_Brief_Intervention (x):\n",
    "    if x == '2.':\n",
    "        return 1\n",
    "    else:\n",
    "        return 0\n",
    "    \n",
    "#Creating column PlanSvcBriefIntervention via applying the function  Plan_Svc_Brief_Intervention (x)\n",
    "df['PlanSvcBriefIntervention'] = df['TREATMENT_SERVICES_PLANNED'].apply(lambda x:  Plan_Svc_Brief_Intervention (x))"
   ]
  },
  {
   "cell_type": "code",
   "execution_count": 215,
   "id": "e0074acc",
   "metadata": {},
   "outputs": [],
   "source": [
    "#Creating function to create column PlanSvcBriefTreatment\n",
    "def Plan_Svc_Brief_Treatment (x):\n",
    "    if x == '3.':\n",
    "        return 1\n",
    "    else:\n",
    "        return 0\n",
    "    \n",
    "#Creating column PlanSvcBriefTreatment via applying the function Plan_Svc_Brief_Treatment (x)\n",
    "df['PlanSvcBriefTreatment'] = df['TREATMENT_SERVICES_PLANNED'].apply(lambda x:Plan_Svc_Brief_Treatment (x))"
   ]
  },
  {
   "cell_type": "code",
   "execution_count": 216,
   "id": "14a5f122",
   "metadata": {},
   "outputs": [],
   "source": [
    "#Creating function to create column PlanSvcReferralTreatment\n",
    "def Plan_Svc_Referral_Treatment (x):\n",
    "    if x == '4.':\n",
    "        return 1\n",
    "    else:\n",
    "        return 0\n",
    "    \n",
    "#Creating column PlanSvcReferralTreatment via pplying the function Plan_Svc_Referral_Treatment (x)\n",
    "df['PlanSvcReferralTreatment'] = df['TREATMENT_SERVICES_PLANNED'].apply(lambda x:Plan_Svc_Referral_Treatment (x))"
   ]
  },
  {
   "cell_type": "code",
   "execution_count": 217,
   "id": "b55d2fa7",
   "metadata": {},
   "outputs": [],
   "source": [
    "#Creating function to create column PlanSvcAssessment\n",
    "def Plan_Svc_Assessment (x):\n",
    "    if x == '5.':\n",
    "        return 1\n",
    "    else:\n",
    "        return 0\n",
    "\n",
    "#Creating column PlanSvcAssessment via applying the function Plan_Svc_Assessment (x)\n",
    "df['PlanSvcAssessment'] = df['TREATMENT_SERVICES_PLANNED'].apply(lambda x:Plan_Svc_Assessment (x))"
   ]
  },
  {
   "cell_type": "code",
   "execution_count": 218,
   "id": "c2f82101",
   "metadata": {},
   "outputs": [],
   "source": [
    "#Creating function to create column PlanSvcTreatmentPlanning\n",
    "def Plan_Svc_Treatment_Planning (x):\n",
    "    if x == '6.':\n",
    "        return 1\n",
    "    else:\n",
    "        return 0\n",
    "    \n",
    "#Creating column PlanSvcTreatmentPlanning via applying the funnction Plan_Svc_Treatment_Planning (x)\n",
    "df['PlanSvcTreatmentPlanning'] = df['TREATMENT_SERVICES_PLANNED'].apply(lambda x:Plan_Svc_Treatment_Planning (x))"
   ]
  },
  {
   "cell_type": "code",
   "execution_count": 219,
   "id": "4ca3449d",
   "metadata": {},
   "outputs": [],
   "source": [
    "#Creating function to create column PlanSvcRecoveryPlanning\n",
    "def Plan_Svc_Recovery_Planning (x):\n",
    "    if x == '7.':\n",
    "        return 1\n",
    "    else:\n",
    "        return 0\n",
    "    \n",
    "#Creating column PlanSvcRecoveryPlanning via applying the function Plan_Svc_Recovery_Planning (x)\n",
    "df['PlanSvcRecoveryPlanning'] = df['TREATMENT_SERVICES_PLANNED'].apply(lambda x:Plan_Svc_Recovery_Planning (x))"
   ]
  },
  {
   "cell_type": "code",
   "execution_count": 220,
   "id": "e7f2c241",
   "metadata": {},
   "outputs": [],
   "source": [
    "def PlanSvcContingencyManagement (x):\n",
    "    if x == '10.':\n",
    "        return 1\n",
    "    else:\n",
    "        return 0\n",
    "    \n",
    "df['PlanSvcContingencyManagement'] = df['TREATMENT_SERVICES_PLANNED'].apply(lambda x:PlanSvcContingencyManagement (x))"
   ]
  },
  {
   "cell_type": "code",
   "execution_count": 221,
   "id": "2c2276ea",
   "metadata": {},
   "outputs": [],
   "source": [
    "#Creating columns with 0 values \n",
    "df['PlanSvcIndividualCouns'] = 0\n",
    "df['PlanSvcGroupCouns'] = 0\n",
    "df['PlanSvcCommunityReinforcement'] = 0"
   ]
  },
  {
   "cell_type": "code",
   "execution_count": 222,
   "id": "f403bf35",
   "metadata": {},
   "outputs": [],
   "source": [
    "#Creating function to create column PlanSvcCBT\n",
    "def Plan_Svc_CBT (x):\n",
    "    if x == '12':\n",
    "        return 1\n",
    "    else:\n",
    "        return 0\n",
    "    \n",
    "#Creating column PlanSvcCBT via applying the function  Plan_Svc_CBT (x)\n",
    "df['PlanSvcCBT'] = df['TREATMENT_SERVICES_PLANNED'].apply(lambda x: Plan_Svc_CBT (x))"
   ]
  },
  {
   "cell_type": "code",
   "execution_count": 223,
   "id": "a7db0ca5",
   "metadata": {},
   "outputs": [],
   "source": [
    "#Creating column PlanSvcFamilyMarriageCouns\n",
    "df['PlanSvcFamilyMarriageCouns'] = 0\n",
    "df['PlanSvcCoOccurring'] = 0\n",
    "df['PlanSvcPharmacological'] = 0\n",
    "df['PlanSvcHIVAIDSCouns'] = 0\n",
    "df['PlanSvcCulturalInterventions'] = 0"
   ]
  },
  {
   "cell_type": "code",
   "execution_count": 224,
   "id": "fe1fb9c2",
   "metadata": {},
   "outputs": [],
   "source": [
    "#Creating function to create column PlanSvcOtherClinicalCouns\n",
    "def Plan_Svc_OtherClinicalCouns (x):\n",
    "    if x == '18':\n",
    "        return 1\n",
    "    else:\n",
    "        return 0\n",
    "    \n",
    "#Creating column PlanSvcOtherClinicalCouns via applying the function Plan_Svc_OtherClinicalCouns (x)\n",
    "df['PlanSvcOtherClinicalCouns'] = df['TREATMENT_SERVICES_PLANNED'].apply(lambda x: Plan_Svc_OtherClinicalCouns (x))"
   ]
  },
  {
   "cell_type": "code",
   "execution_count": 225,
   "id": "6d00a470",
   "metadata": {},
   "outputs": [],
   "source": [
    "#Renaming to create column \n",
    "df.rename(columns = {'OTHER_CLINICAL_SERVICES_PLANNED':'PlanSvcOtherClinicalCounsSpec'},inplace = True)\n",
    "\n",
    "#Creating column PlanSvcOtherClinicalCounsSpec\n",
    "# df['PlanSvcOtherClinicalCounsSpec'] = df['PlanSvcOtherClinicalCounsSpec'].str.title()"
   ]
  },
  {
   "cell_type": "code",
   "execution_count": 226,
   "id": "a8b84fec",
   "metadata": {},
   "outputs": [],
   "source": [
    "#Creating substrings of the column \n",
    "df['CASE_MANAGEMENT_SERVICES_PLANNED'] = df['CASE_MANAGEMENT_SERVICES_PLANNED'].str[:2] \n",
    "\n",
    "# 1 - Family Services (e.g., Marriage, Education, Parenting, Child Development Services)\n",
    "# 2 - Child Care\n",
    "# 3 - Employment Service\n",
    "# 4 - Individual Services Coordination\n",
    "# 5 - Transportation \n",
    "# 7 - Transitional Drug-Free Housing Services\n",
    "# 8 -  Housing Support\n",
    "# 9 - Health Insurance Enrollment\n",
    "# 10 -  Other Case Management Services\n",
    "#11 - No Case Management Services Will Be Provided  "
   ]
  },
  {
   "cell_type": "code",
   "execution_count": 227,
   "id": "968d6b28",
   "metadata": {},
   "outputs": [
    {
     "data": {
      "text/plain": [
       "array(['11', nan, '1.', '4.', '10'], dtype=object)"
      ]
     },
     "execution_count": 227,
     "metadata": {},
     "output_type": "execute_result"
    }
   ],
   "source": [
    "df['CASE_MANAGEMENT_SERVICES_PLANNED'].unique()"
   ]
  },
  {
   "cell_type": "code",
   "execution_count": 228,
   "id": "3fe6961e",
   "metadata": {},
   "outputs": [],
   "source": [
    "#Cretating function to create column PlanSvcFamilyServices\n",
    "def Plan_Svc_Family_Services (x):\n",
    "    if x == '1.':\n",
    "        return 1\n",
    "    else:\n",
    "        return 0\n",
    "    \n",
    "#Creating column PlanSvcFamilyServices via applying the function Plan_Svc_Family_Services (x)\n",
    "df['PlanSvcFamilyServices'] = df['CASE_MANAGEMENT_SERVICES_PLANNED'].apply(lambda x:Plan_Svc_Family_Services (x))"
   ]
  },
  {
   "cell_type": "code",
   "execution_count": 229,
   "id": "c0685eec",
   "metadata": {},
   "outputs": [],
   "source": [
    "#Cretating function to create column PlanSvcChildCare\n",
    "def Plan_Svc_ChildCare (x):\n",
    "    if x == '2.':\n",
    "        return 1\n",
    "    else:\n",
    "        return 0\n",
    "    \n",
    "#Creating the column PlanSvcChildCare via applying the function Plan_Svc_ChildCare (x\n",
    "df['PlanSvcChildCare']= df['CASE_MANAGEMENT_SERVICES_PLANNED'].apply(lambda x: Plan_Svc_ChildCare (x))"
   ]
  },
  {
   "cell_type": "code",
   "execution_count": 230,
   "id": "52bbd19a",
   "metadata": {},
   "outputs": [],
   "source": [
    "#Creating substring of column \n",
    "df['EMPLOYMENT_SERVICES_PLANNED'] = df['EMPLOYMENT_SERVICES_PLANNED'].str[:2]\n",
    "# A - Pre-Employment\n",
    "# B - Employment Coaching"
   ]
  },
  {
   "cell_type": "code",
   "execution_count": 231,
   "id": "02b1ee3a",
   "metadata": {},
   "outputs": [],
   "source": [
    "#Creating function to create column PlanSvcPreEmployment\n",
    "def Plan_Svc_PreEmployment (x):\n",
    "    if x == 'A.':\n",
    "        return 1\n",
    "    else:\n",
    "        return 0\n",
    "    \n",
    "#Creating column PlanSvcPreEmployment via applying the function Plan_Svc_PreEmployment (x)\n",
    "df['PlanSvcPreEmployment'] = df['EMPLOYMENT_SERVICES_PLANNED'].apply(lambda x:Plan_Svc_PreEmployment (x))"
   ]
  },
  {
   "cell_type": "code",
   "execution_count": 232,
   "id": "cba358dc",
   "metadata": {},
   "outputs": [],
   "source": [
    "#Cretating function to create column PlanSvcEmploymentCoaching\n",
    "def Plan_Svc_Employment_Coaching (x):\n",
    "    if x == 'B.':\n",
    "        return 1\n",
    "    else:\n",
    "        return 0\n",
    "    \n",
    "#Creating column PlanSvcEmploymentCoaching via applying the function Plan_Svc_Employment_Coaching (x)\n",
    "df['PlanSvcEmploymentCoaching'] = df['EMPLOYMENT_SERVICES_PLANNED'].apply(lambda x:Plan_Svc_Employment_Coaching (x))"
   ]
  },
  {
   "cell_type": "code",
   "execution_count": 233,
   "id": "8a519f87",
   "metadata": {},
   "outputs": [],
   "source": [
    "#Cretating function to create column PlanSvcIndividualCoord\n",
    "def  Plan_Svc_Individual_Coord (x):\n",
    "    if x == '4.':\n",
    "        return 1\n",
    "    else:\n",
    "        return 0\n",
    "    \n",
    "#Creating column PlanSvcIndividualCoord via applying the function Plan_Svc_Individual_Coord (x)\n",
    "df['PlanSvcIndividualCoord'] = df['CASE_MANAGEMENT_SERVICES_PLANNED'].apply(lambda x:Plan_Svc_Individual_Coord (x))"
   ]
  },
  {
   "cell_type": "code",
   "execution_count": 234,
   "id": "95141c05",
   "metadata": {},
   "outputs": [],
   "source": [
    "#Cretating function to create column PlanSvcTransportation\n",
    "def Plan_Svc_Transportation (x):\n",
    "    if x == '5.':\n",
    "        return 1\n",
    "    else:\n",
    "        return 0\n",
    "    \n",
    "#Creating column PlanSvcTransportation via applying the function Plan_Svc_Transportation (x)\n",
    "df['PlanSvcTransportation'] = df['CASE_MANAGEMENT_SERVICES_PLANNED'].apply(lambda x:Plan_Svc_Transportation (x))"
   ]
  },
  {
   "cell_type": "code",
   "execution_count": 235,
   "id": "8df602ed",
   "metadata": {},
   "outputs": [],
   "source": [
    "#Creating columns with 0 values \n",
    "df['PlanSvcHIVAIDServicesPreExp'] = 0\n",
    "df['PlanSvcHIVAIDSServicesPostExp'] = 0\n",
    "df['PlanSvcHIVAIDSServicesHIVTx'] = 0"
   ]
  },
  {
   "cell_type": "code",
   "execution_count": 236,
   "id": "3001ac8c",
   "metadata": {},
   "outputs": [],
   "source": [
    "#Cretating function to create column PlanSvcDrugFreeHousing\n",
    "def Plan_Svc_Drug_FreeHousing (x):\n",
    "    if x == '7.':\n",
    "        return 1\n",
    "    else:\n",
    "        return 0\n",
    "    \n",
    "#Creating column PlanSvcDrugFreeHousing via applying the function Plan_Svc_Drug_FreeHousing (x)\n",
    "df['PlanSvcDrugFreeHousing'] = df['CASE_MANAGEMENT_SERVICES_PLANNED'].apply(lambda x:Plan_Svc_Drug_FreeHousing (x))"
   ]
  },
  {
   "cell_type": "code",
   "execution_count": 237,
   "id": "931dd381",
   "metadata": {},
   "outputs": [],
   "source": [
    "#Cretating function to create column PlanSvcHousingSupport\n",
    "def Plan_Svc_Housing_Support (x):\n",
    "    if x == '8.':\n",
    "        return 1\n",
    "    else:\n",
    "        return 0\n",
    "    \n",
    "#Creating column PlanSvcHousingSupport via applying the function lan_Svc_Housing_Support (x)\n",
    "df['PlanSvcHousingSupport'] = df['CASE_MANAGEMENT_SERVICES_PLANNED'].apply(lambda x:Plan_Svc_Housing_Support (x))"
   ]
  },
  {
   "cell_type": "code",
   "execution_count": 238,
   "id": "8d0e5341",
   "metadata": {},
   "outputs": [],
   "source": [
    "#Creating column PlanSvcHealthInsuranceEnrollment\n",
    "df['PlanSvcHealthInsuranceEnrollment'] = 0"
   ]
  },
  {
   "cell_type": "code",
   "execution_count": 239,
   "id": "5ea485bc",
   "metadata": {},
   "outputs": [],
   "source": [
    "#Creating function to create colum PlanSvcOtherCaseMgmt\n",
    "def Plan_Svc_Other_CaseMgmt (x):\n",
    "    if x == '10':\n",
    "        return 1\n",
    "    else:\n",
    "        return 0\n",
    "    \n",
    "#Creating column PlanSvcOtherCaseMgmt via applying the function Plan_Svc_Other_CaseMgmt (x)\n",
    "df['PlanSvcOtherCaseMgmt'] = df['CASE_MANAGEMENT_SERVICES_PLANNED'].apply(lambda x:Plan_Svc_Other_CaseMgmt (x))"
   ]
  },
  {
   "cell_type": "code",
   "execution_count": 240,
   "id": "ae8f924a",
   "metadata": {},
   "outputs": [],
   "source": [
    "#Renaming column to create column PlanSvcOtherCaseMgmtSpec\n",
    "df.rename(columns = {'OTHER_CASE_MANAGEMENT_SERVICES_PLANNED':'PlanSvcOtherCaseMgmtSpec'}, inplace = True)\n",
    "\n",
    "#Renaming column to create column PlanSvcOtherCaseMgmtSpec\n",
    "df['PlanSvcOtherCaseMgmtSpec'] = df['PlanSvcOtherCaseMgmtSpec'].str.title()"
   ]
  },
  {
   "cell_type": "code",
   "execution_count": 241,
   "id": "d5260cd4",
   "metadata": {},
   "outputs": [],
   "source": [
    "#Creating a substring of a column \n",
    "df['MEDICAL_SERVICES_PLANNED'] = df['MEDICAL_SERVICES_PLANNED'].str[:2]\n",
    "# 1 - Medical Care\n",
    "# 2 - Alcohol/Drug Testing\n",
    "# 3 - OB/GYN Services\n",
    "# 4 - HIV/AIDS Medical Support & Testing \n",
    "# 5 - Dental Care\n",
    "# 8 - Other Medical Services (Specify)\n",
    "# 9 - No Medical Services Will be Provided "
   ]
  },
  {
   "cell_type": "code",
   "execution_count": 242,
   "id": "403d131f",
   "metadata": {},
   "outputs": [
    {
     "data": {
      "text/plain": [
       "array(['9.', nan, '2.', '8.'], dtype=object)"
      ]
     },
     "execution_count": 242,
     "metadata": {},
     "output_type": "execute_result"
    }
   ],
   "source": [
    "df['MEDICAL_SERVICES_PLANNED'].unique()"
   ]
  },
  {
   "cell_type": "code",
   "execution_count": 243,
   "id": "c452f42a",
   "metadata": {},
   "outputs": [],
   "source": [
    "#Creating function to create column PlanSvcMedicalCare\n",
    "def Plan_Svc_MedicalCare (x):\n",
    "    if x == '1.':\n",
    "        return 1\n",
    "    else:\n",
    "        return 0\n",
    "    \n",
    "#Creating column PlanSvcMedicalCare via applying the function Plan_Svc_MedicalCare (x)\n",
    "df['PlanSvcMedicalCare'] = df['MEDICAL_SERVICES_PLANNED'].apply(lambda x:Plan_Svc_MedicalCare (x))"
   ]
  },
  {
   "cell_type": "code",
   "execution_count": 244,
   "id": "34e3ab68",
   "metadata": {},
   "outputs": [],
   "source": [
    "#Creating function to create column PlanSvcAlcoholDrugTesting\n",
    "def Plan_Svc_Alcohol_DrugTesting (x):\n",
    "    if x == '2.':\n",
    "        return 1\n",
    "    else:\n",
    "        return 0\n",
    "    \n",
    "#Creating column PlanSvcAlcoholDrugTesting via applying the function Plan_Svc_Alcohol_DrugTesting (x)\n",
    "df['PlanSvcAlcoholDrugTesting'] = df['MEDICAL_SERVICES_PLANNED'].apply(lambda x: Plan_Svc_Alcohol_DrugTesting (x))"
   ]
  },
  {
   "cell_type": "code",
   "execution_count": 245,
   "id": "7f89e53b",
   "metadata": {},
   "outputs": [],
   "source": [
    "#Creating function to create column PlanSvcOBGYN\n",
    "def Plan_Svc_OBGYN (x):\n",
    "    if x == '3.':\n",
    "        return 1\n",
    "    else:\n",
    "        return 0\n",
    "    \n",
    "#Creating column PlanSvcOBGYN via applying the function Plan_Svc_OBGYN (x)\n",
    "df['PlanSvcOBGYN'] = df['MEDICAL_SERVICES_PLANNED'].apply(lambda x:Plan_Svc_OBGYN (x))"
   ]
  },
  {
   "cell_type": "code",
   "execution_count": 246,
   "id": "09f3d1e8",
   "metadata": {},
   "outputs": [],
   "source": [
    "#Creating function to create column PlanSvcHIVAIDSMedical\n",
    "def Plan_Svc_HIVAIDSMedical (x):\n",
    "    if x == '4.':\n",
    "        return 1\n",
    "    else:\n",
    "        return 0\n",
    "    \n",
    "#Creating column PlanSvcHIVAIDSMedical via applying the function Plan_Svc_HIVAIDSMedical (x)\n",
    "df['PlanSvcHIVAIDSMedical'] = df['MEDICAL_SERVICES_PLANNED'].apply(lambda x:Plan_Svc_HIVAIDSMedical (x))"
   ]
  },
  {
   "cell_type": "code",
   "execution_count": 247,
   "id": "85bdddf2",
   "metadata": {},
   "outputs": [],
   "source": [
    "#Creating function to create column PlanSvcDental\n",
    "def Plan_Svc_Dental (x):\n",
    "    if x == '5.':\n",
    "        return 1\n",
    "    else:\n",
    "        return 0\n",
    "    \n",
    "#Creating column PlanSvcDental via applying the function Plan_Svc_Dental (x)\n",
    "df['PlanSvcDental'] = df['MEDICAL_SERVICES_PLANNED'].apply(lambda x:Plan_Svc_Dental (x))"
   ]
  },
  {
   "cell_type": "code",
   "execution_count": 248,
   "id": "c90abacf",
   "metadata": {},
   "outputs": [],
   "source": [
    "#Creating columns with 0 values\n",
    "df['PlanSvcHepatitisSupport'] = 0\n",
    "df['PlanSvcOtherSTISupport'] = 0\n"
   ]
  },
  {
   "cell_type": "code",
   "execution_count": 249,
   "id": "e2874cdb",
   "metadata": {},
   "outputs": [],
   "source": [
    "#Creating function to create column SvcOtherMedical\n",
    "def Plan_Svc_OtherMedical (x):\n",
    "    if x == '8.':\n",
    "        return 1\n",
    "    else:\n",
    "        return 0\n",
    "    \n",
    "#Creating column PlanSvcOtherMedical via applying the function Plan_Svc_OtherMedical (x)\n",
    "df['SvcOtherMedical'] = df['MEDICAL_SERVICES_PLANNED'].apply(lambda x:Plan_Svc_OtherMedical (x))\n",
    "df['PlanSvcOtherMedical'] = df['SvcOtherMedical']"
   ]
  },
  {
   "cell_type": "code",
   "execution_count": 250,
   "id": "baadc00e",
   "metadata": {},
   "outputs": [],
   "source": [
    "#Creating subtring of values in column \n",
    "df['AFTER_CARE_SERVICES_PLANNED'] = df['AFTER_CARE_SERVICES_PLANNED'].str[:2]\n",
    "# 1 Continuing Care\n",
    "# 2 Relapse Prevention\n",
    "# 3 Recovery Coaching\n",
    "# 4  Self-Help and Mutual Support Groups\n",
    "# 5 Spiritual Support\n",
    "# 7 No After Care Services Will Be Provided"
   ]
  },
  {
   "cell_type": "code",
   "execution_count": 251,
   "id": "62fb80d4",
   "metadata": {},
   "outputs": [
    {
     "data": {
      "text/plain": [
       "array(['7.', '3.', nan, '2.', '5.'], dtype=object)"
      ]
     },
     "execution_count": 251,
     "metadata": {},
     "output_type": "execute_result"
    }
   ],
   "source": [
    "df['AFTER_CARE_SERVICES_PLANNED'].unique()"
   ]
  },
  {
   "cell_type": "code",
   "execution_count": 252,
   "id": "3b0c00c6",
   "metadata": {},
   "outputs": [],
   "source": [
    "#Creating function to create column PlanSvcContinuingCare\n",
    "def Plan_Svc_ContinuingCare (x):\n",
    "    if x == '1.':\n",
    "        return 1\n",
    "    else:\n",
    "        return 0\n",
    "    \n",
    "#Creating column PlanSvcContinuingCare via applying the function Plan_Svc_ContinuingCare (x)\n",
    "df['PlanSvcContinuingCare'] = df['AFTER_CARE_SERVICES_PLANNED'].apply(lambda x: Plan_Svc_ContinuingCare (x))"
   ]
  },
  {
   "cell_type": "code",
   "execution_count": 253,
   "id": "c02cb226",
   "metadata": {},
   "outputs": [],
   "source": [
    "#Creating function to create column PlanSvcRelapsePrevention\n",
    "def Plan_Svc_RelapsePrevention (x):\n",
    "    if x == '2.':\n",
    "        return 1\n",
    "    else:\n",
    "        return 0 \n",
    "    \n",
    "#Creating column PlanSvcRelapsePrevention via applying the function Plan_Svc_RelapsePrevention (x)\n",
    "df['PlanSvcRelapsePrevention'] = df['AFTER_CARE_SERVICES_PLANNED'].apply(lambda x:Plan_Svc_RelapsePrevention (x))"
   ]
  },
  {
   "cell_type": "code",
   "execution_count": 254,
   "id": "df2b6769",
   "metadata": {},
   "outputs": [],
   "source": [
    "#Creating function to create column PlanSvcRecoveryCoaching\n",
    "def Plan_Svc_RecoveryCoaching (x):\n",
    "    if x == '3.':\n",
    "        return 1\n",
    "    else:\n",
    "        return 0\n",
    "    \n",
    "#Creating column PlanSvcRecoveryCoaching via applying the function Plan_Svc_RecoveryCoaching (x)\n",
    "df['PlanSvcRecoveryCoaching'] = df['AFTER_CARE_SERVICES_PLANNED'].apply(lambda x :Plan_Svc_RecoveryCoaching (x))"
   ]
  },
  {
   "cell_type": "code",
   "execution_count": 255,
   "id": "24ad64ca",
   "metadata": {},
   "outputs": [],
   "source": [
    "#Creating function to create column PlanSvcSelfHelpSupport\n",
    "def Plan_Svc_SelfHelpSupport (x):\n",
    "    if x == '4.':\n",
    "        return 1\n",
    "    else:\n",
    "        return 0\n",
    "    \n",
    "#Creating column PlanSvcSelfHelpSupport via applying the function Plan_Svc_SelfHelpSupport (x)\n",
    "df['PlanSvcSelfHelpSupport'] = df['AFTER_CARE_SERVICES_PLANNED'].apply(lambda x:Plan_Svc_SelfHelpSupport (x))"
   ]
  },
  {
   "cell_type": "code",
   "execution_count": 256,
   "id": "745146fb",
   "metadata": {},
   "outputs": [],
   "source": [
    "#Creating function to create column PlanSvcSpiritualSupport\n",
    "def Plan_Svc_SpiritualSupport (x):\n",
    "    if x == '5.':\n",
    "        return 1\n",
    "    else:\n",
    "        return 0\n",
    "    \n",
    "#Creating column PlanSvcSpiritualSupport via applying the function Plan_Svc_SpiritualSupport (x)\n",
    "df['PlanSvcSpiritualSupport'] = df['AFTER_CARE_SERVICES_PLANNED'].apply(lambda x:Plan_Svc_SpiritualSupport (x))"
   ]
  },
  {
   "cell_type": "code",
   "execution_count": 257,
   "id": "ec505d24",
   "metadata": {},
   "outputs": [],
   "source": [
    "#Creating columns with 0 and blank values\n",
    "df['PlanSvcOtherAfterCare'] = 0\n",
    "df['PlanSvcOtherAfterCareSpec'] = \" \""
   ]
  },
  {
   "cell_type": "code",
   "execution_count": 258,
   "id": "0c7d57c1",
   "metadata": {},
   "outputs": [],
   "source": [
    "#Creating a substring of column \n",
    "df['EDUCATION_SERVICES_PLANNED'] = df['EDUCATION_SERVICES_PLANNED'].str[:2]\n",
    "# 1  Substance Use Education\n",
    "# 3 Naloxone Training\n",
    "# 7 Other Education Services (Specify)\n",
    "# 8 No Education Services Will Be Provided"
   ]
  },
  {
   "cell_type": "code",
   "execution_count": 259,
   "id": "984bf6c1",
   "metadata": {},
   "outputs": [
    {
     "data": {
      "text/plain": [
       "array(['8.', nan, '1.', '7.'], dtype=object)"
      ]
     },
     "execution_count": 259,
     "metadata": {},
     "output_type": "execute_result"
    }
   ],
   "source": [
    "df['EDUCATION_SERVICES_PLANNED'].unique()"
   ]
  },
  {
   "cell_type": "code",
   "execution_count": 260,
   "id": "3842ddd6",
   "metadata": {},
   "outputs": [],
   "source": [
    "#Creating function to create column PlanSvcSubstanceAbuseEdu\n",
    "def Plan_Svc_SubstanceAbuseEdu (x):\n",
    "    if x == '1.':\n",
    "        return 1\n",
    "    else:\n",
    "        return 0\n",
    "    \n",
    "#Creating column PlanSvcSubstanceAbuseEdu via applying the function \n",
    "df['PlanSvcSubstanceAbuseEdu'] = df['EDUCATION_SERVICES_PLANNED'].apply(lambda x:Plan_Svc_SubstanceAbuseEdu (x))"
   ]
  },
  {
   "cell_type": "code",
   "execution_count": 261,
   "id": "db422023",
   "metadata": {},
   "outputs": [],
   "source": [
    "#Creating column PlanSvcHIVAIDSEdu with a 0 values\n",
    "df['Plan_Svc_HIVAIDSEdu'] = 0\n",
    "\n",
    "df.rename(columns = {'Plan_Svc_HIVAIDSEdu':'PlanSvcHIVAIDSEdu'},inplace = True)"
   ]
  },
  {
   "cell_type": "code",
   "execution_count": 262,
   "id": "20239277",
   "metadata": {},
   "outputs": [],
   "source": [
    "#Creating function to create column PlanSvcNaloxoneTraining\n",
    "def Plan_Svc_NaloxoneTraining (x):\n",
    "    if x == '3.':\n",
    "        return 1\n",
    "    else:\n",
    "        return 0\n",
    "    \n",
    "#Creating column PlanSvcNaloxoneTraining via applying the function Plan_Svc_NaloxoneTraining (x)\n",
    "df['PlanSvcNaloxoneTraining'] = df['EDUCATION_SERVICES_PLANNED'].apply(lambda x:Plan_Svc_NaloxoneTraining (x))"
   ]
  },
  {
   "cell_type": "code",
   "execution_count": 263,
   "id": "cdd97f1f",
   "metadata": {},
   "outputs": [],
   "source": [
    "#Creating columns with 0 values\n",
    "df['PlanSvcFentanylTestStripTraining'] = 0\n",
    "df['PlanSvcHepatitisEdu'] = 0\n",
    "df['PlanSvcOtherSTIEdu'] = 0"
   ]
  },
  {
   "cell_type": "code",
   "execution_count": 264,
   "id": "ce962347",
   "metadata": {},
   "outputs": [],
   "source": [
    "#Creating function to create column PlanSvcOtherEdu\n",
    "def Plan_Svc_OtherEdu (x):\n",
    "    if x == '7.':\n",
    "        return 1\n",
    "    else:\n",
    "        return 0\n",
    "    \n",
    "#Creating column PlanSvcOtherEdu via applying the function Plan_Svc_OtherEdu (x)\n",
    "df['PlanSvcOtherEdu'] = df['EDUCATION_SERVICES_PLANNED'].apply(lambda x:Plan_Svc_OtherEdu (x))"
   ]
  },
  {
   "cell_type": "code",
   "execution_count": 265,
   "id": "3382acbe",
   "metadata": {},
   "outputs": [],
   "source": [
    "#Creating substring of column\n",
    "df['RECOVERY_SUPPORT_SERVICES_PLANNED'] = df['RECOVERY_SUPPORT_SERVICES_PLANNED'].str[:2]\n",
    "# 1 Peer Coaching or Mentoring\n",
    "# 3 Recovery Housing\n",
    "# 4 Recovery Planning\n",
    "# 5 Case Management Services to Specifically Support Recovery\n",
    "# 8 Other Recovery Support Services (Specify)\n",
    "# 9 Other Peer-to-Peer Recovery Support Services (Specify)\n",
    "# 10 No Recovery Support Services Will Be Provided\n"
   ]
  },
  {
   "cell_type": "code",
   "execution_count": 266,
   "id": "2716ba68",
   "metadata": {
    "scrolled": false
   },
   "outputs": [
    {
     "data": {
      "text/plain": [
       "array(['5.', '1.', nan, '10', '4.'], dtype=object)"
      ]
     },
     "execution_count": 266,
     "metadata": {},
     "output_type": "execute_result"
    }
   ],
   "source": [
    "df['RECOVERY_SUPPORT_SERVICES_PLANNED'].unique()"
   ]
  },
  {
   "cell_type": "code",
   "execution_count": 267,
   "id": "14062342",
   "metadata": {},
   "outputs": [],
   "source": [
    "#Creating function to create column PlanSvcPeerCoaching\n",
    "def Plan_Svc_PeerCoaching (x):\n",
    "    if x == '1.':\n",
    "        return 1\n",
    "    else:\n",
    "        return 0\n",
    "    \n",
    "#Creating column PlanSvcPeerCoaching via applying the function Plan_Svc_PeerCoaching (x)\n",
    "df['PlanSvcPeerCoaching'] = df['RECOVERY_SUPPORT_SERVICES_PLANNED'].apply(lambda x:Plan_Svc_PeerCoaching (x))"
   ]
  },
  {
   "cell_type": "code",
   "execution_count": 268,
   "id": "9c6af636",
   "metadata": {},
   "outputs": [],
   "source": [
    "#Creating column PlanSvcVocational\n",
    "df['PlanSvcVocational'] = 0"
   ]
  },
  {
   "cell_type": "code",
   "execution_count": 269,
   "id": "54e26b29",
   "metadata": {},
   "outputs": [],
   "source": [
    "#Creating function to create column PlanSvcRecoveryHousing\n",
    "def Plan_Svc_RecoveryHousing (x):\n",
    "    if x == '3.':\n",
    "        return 1\n",
    "    else:\n",
    "        return 0\n",
    "    \n",
    "#Creating column PlanSvcRecoveryHousing via applying the function Plan_Svc_RecoveryHousing (x)\n",
    "df['PlanSvcRecoveryHousing'] = df['RECOVERY_SUPPORT_SERVICES_PLANNED'].apply(lambda x:Plan_Svc_RecoveryHousing (x))"
   ]
  },
  {
   "cell_type": "code",
   "execution_count": 270,
   "id": "73b491ae",
   "metadata": {},
   "outputs": [],
   "source": [
    "#Creating function to create column PlanSvcRecoveryPlanningRSS\n",
    "def Plan_Svc_RecoveryPlanningRSS (x):\n",
    "    if x == '4.':\n",
    "        return 1\n",
    "    else:\n",
    "        return 0\n",
    "    \n",
    "#Creating column PlanSvcRecoveryPlanningRSS via applying the function Plan_Svc_RecoveryPlanningRSS (x)\n",
    "df['PlanSvcRecoveryPlanningRSS'] = df['RECOVERY_SUPPORT_SERVICES_PLANNED'].apply(lambda x:Plan_Svc_RecoveryPlanningRSS (x))"
   ]
  },
  {
   "cell_type": "code",
   "execution_count": 271,
   "id": "669afe8b",
   "metadata": {},
   "outputs": [],
   "source": [
    "#Creating function to create column PlanSvcRecoveryCaseManagement\n",
    "def Plan_Svc_RecoveryCaseManagement (x):\n",
    "    if x == '5.':\n",
    "        return 1\n",
    "    else:\n",
    "        return 0\n",
    "    \n",
    "#Creating column PlanSvcRecoveryCaseManagement via applying the function Plan_Svc_RecoveryCaseManagement (x)\n",
    "df['PlanSvcRecoveryCaseManagement'] = df['RECOVERY_SUPPORT_SERVICES_PLANNED'].apply(lambda x:Plan_Svc_RecoveryCaseManagement (x))"
   ]
  },
  {
   "cell_type": "code",
   "execution_count": 272,
   "id": "1596c562",
   "metadata": {},
   "outputs": [],
   "source": [
    "#Creating columns with 0 values\n",
    "df['PlanSvcDrugFreeSocial'] = 0\n",
    "df['PlanSvcInformationReferral'] = 0"
   ]
  },
  {
   "cell_type": "code",
   "execution_count": 273,
   "id": "a0b2dac0",
   "metadata": {},
   "outputs": [],
   "source": [
    "#Creating function to create column PlanSvcOtherRecoverySupport\n",
    "def Plan_Svc_OtherRecoverySupport (x):\n",
    "    if x == '8.':\n",
    "        return 1\n",
    "    else:\n",
    "        return 0\n",
    "\n",
    "#Creating column PlanSvcOtherRecoverySupport via applying the function\n",
    "df['PlanSvcOtherRecoverySupport'] = df['RECOVERY_SUPPORT_SERVICES_PLANNED'].apply(lambda x:Plan_Svc_OtherRecoverySupport (x))"
   ]
  },
  {
   "cell_type": "code",
   "execution_count": 274,
   "id": "9308a549",
   "metadata": {},
   "outputs": [],
   "source": [
    "#Creating function to create column PlanSvcOtherPeerRecovery\n",
    "def Plan_Svc_OtherPeerRecovery (x):\n",
    "    if x == '9.':\n",
    "        return 1\n",
    "    else:\n",
    "        return 0\n",
    "    \n",
    "#Creating column PlanSvcOtherPeerRecovery via applying the function Plan_Svc_OtherPeerRecovery (x)\n",
    "df['PlanSvcOtherPeerRecovery'] = df['RECOVERY_SUPPORT_SERVICES_PLANNED'].apply(lambda x:Plan_Svc_OtherPeerRecovery (x))"
   ]
  },
  {
   "cell_type": "code",
   "execution_count": 275,
   "id": "bfbf0c58",
   "metadata": {},
   "outputs": [],
   "source": [
    "#Creating dictionary to rename columns \n",
    "dictionary7 = {'OTHER_MEDICAL_SERVICES_PLANNED':'PlanSvcOtherMedicalSpec', 'OTHER_EDUCATION_SERVICES_PLANNED':'PlanSvcOtherEduSpec',\n",
    "                'OTHER_RECOVERY_SUPPORT_SERVICES_PLANNED':'PlanSvcOtherRecoverySupportSpec','OTHER_PEER_TO_PEER_RECOVERY_SUPPORT_SERVICES_PLANNED':'PlanSvcOtherPeerRecoverySpec', \n",
    "                'OTHER_HOUSED':'LivingHousedSpec' }\n",
    "\n",
    "#Renaming columns \n",
    "df.rename(columns = dictionary7, inplace = True)\n",
    "\n",
    "#Data Cleaning\n",
    "# df['PlanSvcOtherMedicalSpec']\t=\tdf['PlanSvcOtherMedicalSpec'].str.title()\n",
    "# df[ 'PlanSvcOtherEduSpec' ]\t=\tdf[ 'PlanSvcOtherEduSpec' ].str.title()\n",
    "# df[ 'PlanSvcOtherRecoverySupportSpec' ]\t=\tdf[ 'PlanSvcOtherRecoverySupportSpec' ].str.title()\n",
    "# df[ 'PlanSvcOtherPeerRecoverySpec' ]\t=\tdf[ 'PlanSvcOtherPeerRecoverySpec' ].str.title()\n",
    "# df[ 'LivingHousedSpec']\t=\tdf[ 'LivingHousedSpec'].str.title()"
   ]
  },
  {
   "cell_type": "code",
   "execution_count": 276,
   "id": "6a8ef77e",
   "metadata": {},
   "outputs": [],
   "source": [
    "#Replacing null values with -9\n",
    "df['WHERE_LIVING_MOST_IN_PAST_30_DAYS'] = df['WHERE_LIVING_MOST_IN_PAST_30_DAYS'].fillna(-9)\n",
    "\n",
    "#Creating function to create column LivingWhere\n",
    "def Living_Where (x):\n",
    "    if x == 'Shelter (Safe Havens, Transitional Living Center [TLC], Low-Demand Facilities, Reception Centers, Other Temporary Day or Evening Facility)':\n",
    "        return 1\n",
    "    elif x == 'Halfway House or Transitional Housing' or x == 'Recovery Residence/Sober Living':\n",
    "        return 1\n",
    "    elif x == 'Street/Outdoors (Sidewalk, Doorway, Park, Public Or Abandoned Building)':\n",
    "        return 2\n",
    "    elif x == 'Institution (Hospital, Nursing Home, Jail/Prison)':\n",
    "        return 3\n",
    "    elif x == 'Housed - [IF HOUSED, CHECK APPROPRIATE SUBCATEGORY]' or x == 'Other Housed (SPECIFY)':\n",
    "        return 4\n",
    "    elif x == 'Someone Else’s Apartment, Room, Trailer, Or House (including couch surfing)' or x == 'Own/Rental Apartment, Room, Trailer, Or House':\n",
    "        return 4\n",
    "    elif x == 'REFUSED':\n",
    "        return -7\n",
    "    elif x == -9:\n",
    "        return -9\n",
    "        \n",
    "#Creating column LivingWhere via applying the function Living_Where (x)\n",
    "df['LivingWhere'] = df['WHERE_LIVING_MOST_IN_PAST_30_DAYS'].apply(lambda x:Living_Where (x))"
   ]
  },
  {
   "cell_type": "code",
   "execution_count": 277,
   "id": "58a5c8de",
   "metadata": {},
   "outputs": [
    {
     "data": {
      "text/plain": [
       " 4.0    407\n",
       " 2.0    115\n",
       " 1.0     35\n",
       "-7.0     22\n",
       "-9.0      9\n",
       " 3.0      6\n",
       "Name: LivingWhere, dtype: int64"
      ]
     },
     "execution_count": 277,
     "metadata": {},
     "output_type": "execute_result"
    }
   ],
   "source": [
    "df['LivingWhere'].value_counts()"
   ]
  },
  {
   "cell_type": "code",
   "execution_count": 278,
   "id": "ac8ac68f",
   "metadata": {},
   "outputs": [],
   "source": [
    "#Creating function to create column LivingHoused\n",
    "def Living_Housed (x):\n",
    "\n",
    "        if x == 'Own/Rental Apartment, Room, Trailer, Or House':\n",
    "            return 1\n",
    "        elif x == 'Someone Else’s Apartment, Room, Trailer, Or House (including couch surfing)':\n",
    "            return 2\n",
    "        elif x == 'Other Housed (SPECIFY)':\n",
    "            return 5\n",
    "        elif x == 'REFUSED':\n",
    "            return -1\n",
    "        else:\n",
    "            return -1\n",
    "    \n",
    "#Creating column LivingHoused via applying the function Living_Housed (x)\n",
    "df['LivingHoused'] = df['WHERE_LIVING_MOST_IN_PAST_30_DAYS'].apply(lambda x:Living_Housed (x))"
   ]
  },
  {
   "cell_type": "code",
   "execution_count": 279,
   "id": "72e72aa9",
   "metadata": {},
   "outputs": [],
   "source": [
    "#Replacing null values with -9\n",
    "df['CURRENTLY_LIVING_WITH_PERSON_WHO_REGULARLY_USED_SUBSTANCES_IN_PAST_30_DAYS'] = df['CURRENTLY_LIVING_WITH_PERSON_WHO_REGULARLY_USED_SUBSTANCES_IN_PAST_30_DAYS'].fillna(-9)\n",
    "\n",
    "#Creating function to create column LivingAlcDrugUse\n",
    "def Living_Alc_DrugUse (x):\n",
    "    if x == 'Yes':\n",
    "        return 1\n",
    "    elif x == 'No':\n",
    "        return 2\n",
    "    elif x == 'No, lives alone':\n",
    "        return 3\n",
    "    elif x == 'REFUSED':\n",
    "        return -7\n",
    "    elif x == -9:\n",
    "        return -9\n",
    "\n",
    "#Creating column LivingAlcDrugUse via applying the function  Living_Alc_DrugUse (x)\n",
    "df['LivingAlcDrugUse'] = df['CURRENTLY_LIVING_WITH_PERSON_WHO_REGULARLY_USED_SUBSTANCES_IN_PAST_30_DAYS'].apply(lambda x: Living_Alc_DrugUse (x))"
   ]
  },
  {
   "cell_type": "code",
   "execution_count": 280,
   "id": "66193386",
   "metadata": {},
   "outputs": [],
   "source": [
    "df['PlanSvcResidentialRehab'] = 0"
   ]
  },
  {
   "cell_type": "code",
   "execution_count": 281,
   "id": "3316d06e",
   "metadata": {
    "scrolled": false
   },
   "outputs": [
    {
     "data": {
      "text/plain": [
       "568    0\n",
       "567    0\n",
       "566    0\n",
       "564    0\n",
       "559    0\n",
       "      ..\n",
       "947    0\n",
       "944    0\n",
       "952    0\n",
       "950    0\n",
       "939    0\n",
       "Name: SvcOtherMedical, Length: 595, dtype: int64"
      ]
     },
     "execution_count": 281,
     "metadata": {},
     "output_type": "execute_result"
    }
   ],
   "source": [
    "df['SvcOtherMedical']"
   ]
  },
  {
   "cell_type": "markdown",
   "id": "b1034614",
   "metadata": {},
   "source": [
    "## Exporting GPRA 4"
   ]
  },
  {
   "cell_type": "code",
   "execution_count": 283,
   "id": "0175deeb",
   "metadata": {},
   "outputs": [],
   "source": [
    "#Creating variable to export\n",
    "GPRA4_MAT_PDOA = df[['ClientID','PlanSvcMethadone',\t'PlanSvcBuprenorphine',\t'PlanSvcNaltrexoneShortActing',\t'PlanSvcNaltrexoneLongActing',\t'PlanSvcDisulfiram',\t'PlanSvcAcamprosate',\t'PlanSvcNicotineReplacement',\t'PlanSvcBupropion',\t'PlanSvcVarenicline',\t'PlanSvcResidentialRehab',\t'PlanSvcHospitalInpatient',\t'PlanSvcFreeStandingRes',\t'PlanSvcAmbulatoryDetox',\t'PlanSvcAfterCare',\t'PlanSvcRecoverySupport',\t'PlanSvcOtherModalities',\t'PlanSvcOtherModalitesSpec',\t'PlanSvcScreening',\t'PlanSvcBriefIntervention',\t'PlanSvcBriefTreatment',\t'PlanSvcReferralTreatment',\t'PlanSvcAssessment',\t'PlanSvcTreatmentPlanning',\t'PlanSvcRecoveryPlanning',\t'PlanSvcIndividualCouns',\t'PlanSvcGroupCouns',\t'PlanSvcContingencyManagement',\t'PlanSvcCommunityReinforcement',\t'PlanSvcCBT',\t'PlanSvcFamilyMarriageCouns',\t'PlanSvcCoOccurring',\t'PlanSvcPharmacological',\t'PlanSvcHIVAIDSCouns',\t'PlanSvcCulturalInterventions',\t'PlanSvcOtherClinicalCouns',\t'PlanSvcOtherClinicalCounsSpec',\t'PlanSvcFamilyServices',\t'PlanSvcChildCare',\t'PlanSvcPreEmployment',\t'PlanSvcEmploymentCoaching',\t'PlanSvcIndividualCoord',\t'PlanSvcTransportation',\t'PlanSvcHIVAIDServicesPreExp',\t'PlanSvcHIVAIDSServicesPostExp',\t'PlanSvcHIVAIDSServicesHIVTx',\t'PlanSvcDrugFreeHousing',\t'PlanSvcHousingSupport',\t'PlanSvcHealthInsuranceEnrollment',\t'PlanSvcOtherCaseMgmt',\t'PlanSvcOtherCaseMgmtSpec',\t'PlanSvcMedicalCare',\t'PlanSvcAlcoholDrugTesting',\t'PlanSvcOBGYN',\t'PlanSvcHIVAIDSMedical',\t'PlanSvcDental',\t'PlanSvcHepatitisSupport',\t'PlanSvcOtherSTISupport','PlanSvcOtherMedical'\t,'SvcOtherMedical',\t'PlanSvcOtherMedicalSpec',\t'PlanSvcContinuingCare',\t'PlanSvcRelapsePrevention',\t'PlanSvcRecoveryCoaching',\t'PlanSvcSelfHelpSupport',\t'PlanSvcSpiritualSupport',\t'PlanSvcOtherAfterCare',\t'PlanSvcOtherAfterCareSpec',\t'PlanSvcSubstanceAbuseEdu',\t'PlanSvcHIVAIDSEdu',\t'PlanSvcNaloxoneTraining',\t'PlanSvcFentanylTestStripTraining',\t'PlanSvcHepatitisEdu',\t'PlanSvcOtherSTIEdu',\t'PlanSvcOtherEdu',\t'PlanSvcOtherEduSpec',\t'PlanSvcPeerCoaching',\t'PlanSvcVocational',\t'PlanSvcRecoveryHousing',\t'PlanSvcRecoveryPlanningRSS',\t'PlanSvcRecoveryCaseManagement',\t'PlanSvcDrugFreeSocial',\t'PlanSvcInformationReferral',\t'PlanSvcOtherRecoverySupport',\t'PlanSvcOtherRecoverySupportSpec',\t'PlanSvcOtherPeerRecovery',\t'PlanSvcOtherPeerRecoverySpec',\t'LivingWhere',\t'LivingHoused',\t'LivingHousedSpec',\t'LivingAlcDrugUse']]\n",
    "\n",
    "#Exporting GPRA 4\n",
    "GPRA4_MAT_PDOA.to_csv('GPRA4_MAT_PDOA.csv', index = False, header = True, encoding = 'utf-8')"
   ]
  }
 ],
 "metadata": {
  "kernelspec": {
   "display_name": "Python 3 (ipykernel)",
   "language": "python",
   "name": "python3"
  },
  "language_info": {
   "codemirror_mode": {
    "name": "ipython",
    "version": 3
   },
   "file_extension": ".py",
   "mimetype": "text/x-python",
   "name": "python",
   "nbconvert_exporter": "python",
   "pygments_lexer": "ipython3",
   "version": "3.11.4"
  }
 },
 "nbformat": 4,
 "nbformat_minor": 5
}
