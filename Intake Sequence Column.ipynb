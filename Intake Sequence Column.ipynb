{
 "cells": [
  {
   "cell_type": "markdown",
   "id": "b377cf2c",
   "metadata": {},
   "source": [
    "# Generating values for 'IntakeSeq' column"
   ]
  },
  {
   "cell_type": "code",
   "execution_count": 1,
   "id": "fc522a12",
   "metadata": {},
   "outputs": [],
   "source": [
    "# importing packages\n",
    "import pandas as pd"
   ]
  },
  {
   "cell_type": "code",
   "execution_count": 11,
   "id": "42f060dc",
   "metadata": {},
   "outputs": [
    {
     "data": {
      "text/html": [
       "<div>\n",
       "<style scoped>\n",
       "    .dataframe tbody tr th:only-of-type {\n",
       "        vertical-align: middle;\n",
       "    }\n",
       "\n",
       "    .dataframe tbody tr th {\n",
       "        vertical-align: top;\n",
       "    }\n",
       "\n",
       "    .dataframe thead th {\n",
       "        text-align: right;\n",
       "    }\n",
       "</style>\n",
       "<table border=\"1\" class=\"dataframe\">\n",
       "  <thead>\n",
       "    <tr style=\"text-align: right;\">\n",
       "      <th></th>\n",
       "      <th>MRN</th>\n",
       "      <th>InterviewDate</th>\n",
       "    </tr>\n",
       "  </thead>\n",
       "  <tbody>\n",
       "    <tr>\n",
       "      <th>0</th>\n",
       "      <td>11884317</td>\n",
       "      <td>02/24/2023</td>\n",
       "    </tr>\n",
       "    <tr>\n",
       "      <th>1</th>\n",
       "      <td>11884317</td>\n",
       "      <td>07/25/2023</td>\n",
       "    </tr>\n",
       "    <tr>\n",
       "      <th>2</th>\n",
       "      <td>254515</td>\n",
       "      <td>07/14/2023</td>\n",
       "    </tr>\n",
       "    <tr>\n",
       "      <th>3</th>\n",
       "      <td>5730707</td>\n",
       "      <td>04/06/2023</td>\n",
       "    </tr>\n",
       "    <tr>\n",
       "      <th>4</th>\n",
       "      <td>5730707</td>\n",
       "      <td>07/28/2023</td>\n",
       "    </tr>\n",
       "  </tbody>\n",
       "</table>\n",
       "</div>"
      ],
      "text/plain": [
       "        MRN InterviewDate\n",
       "0  11884317    02/24/2023\n",
       "1  11884317    07/25/2023\n",
       "2    254515    07/14/2023\n",
       "3   5730707    04/06/2023\n",
       "4   5730707    07/28/2023"
      ]
     },
     "execution_count": 11,
     "metadata": {},
     "output_type": "execute_result"
    }
   ],
   "source": [
    "#importing data\n",
    "df = pd.read_csv(r'C:\\Users\\tyogarro\\Documents\\GPRA Coding\\Full_GPRA_File.csv')\n",
    "\n",
    "#subsetting\n",
    "IntakeSeq_df = df[['MRN','InterviewDate']]\n",
    "\n",
    "IntakeSeq_df.head()"
   ]
  },
  {
   "cell_type": "code",
   "execution_count": 12,
   "id": "202f7206",
   "metadata": {},
   "outputs": [
    {
     "name": "stderr",
     "output_type": "stream",
     "text": [
      "C:\\Users\\tyogarro\\AppData\\Local\\Temp\\ipykernel_13216\\2076111731.py:8: SettingWithCopyWarning: \n",
      "A value is trying to be set on a copy of a slice from a DataFrame.\n",
      "Try using .loc[row_indexer,col_indexer] = value instead\n",
      "\n",
      "See the caveats in the documentation: https://pandas.pydata.org/pandas-docs/stable/user_guide/indexing.html#returning-a-view-versus-a-copy\n",
      "  df['IntakeSeqNum'] = df.groupby('MRN').cumcount() +1\n"
     ]
    }
   ],
   "source": [
    "#creating function\n",
    "def assign_sequence(df):\n",
    "    \n",
    "    #sorting values\n",
    "    df.sort_values(['MRN','InterviewDate'])\n",
    "    \n",
    "    #group by 'MRN' and enumerate the groups\n",
    "    df['IntakeSeqNum'] = df.groupby('MRN').cumcount() +1\n",
    "    \n",
    "    return df\n",
    "\n",
    "IntakeSeq_df_complete = assign_sequence(IntakeSeq_df).reset_index()"
   ]
  },
  {
   "cell_type": "code",
   "execution_count": 15,
   "id": "176b00c9",
   "metadata": {},
   "outputs": [],
   "source": [
    "#Exporting dataframe\n",
    "IntakeSeq_df_complete.to_csv('IntakeSeqNum_Column_Data.csv', index = False, header = True, encoding = 'utf-8')"
   ]
  }
 ],
 "metadata": {
  "kernelspec": {
   "display_name": "Python 3 (ipykernel)",
   "language": "python",
   "name": "python3"
  },
  "language_info": {
   "codemirror_mode": {
    "name": "ipython",
    "version": 3
   },
   "file_extension": ".py",
   "mimetype": "text/x-python",
   "name": "python",
   "nbconvert_exporter": "python",
   "pygments_lexer": "ipython3",
   "version": "3.11.4"
  }
 },
 "nbformat": 4,
 "nbformat_minor": 5
}
