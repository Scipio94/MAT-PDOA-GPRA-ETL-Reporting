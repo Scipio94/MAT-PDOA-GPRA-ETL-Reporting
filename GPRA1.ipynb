{
 "cells": [
  {
   "cell_type": "markdown",
   "id": "2498c9fd",
   "metadata": {},
   "source": [
    "# GRPA Coding\n",
    "\n",
    "Goverment Perfromance and Results Act (GPRA) coding for intake data of recovery specialist for the Institure for Prevention and Recovery (IFPR) at RWJ Baranabas"
   ]
  },
  {
   "cell_type": "code",
   "execution_count": 181,
   "id": "7e487610",
   "metadata": {},
   "outputs": [],
   "source": [
    "#importing pandas\n",
    "import pandas as pd\n",
    "import numpy as np"
   ]
  },
  {
   "cell_type": "code",
   "execution_count": 182,
   "id": "e9ffe513",
   "metadata": {},
   "outputs": [],
   "source": [
    "# importing data \n",
    "df = pd.read_csv(r\"C:\\Users\\tyogarro\\Documents\\GPRA Coding\\GPRA_Coding_File.csv\")\n",
    "\n",
    "#subsetting to include Peer Recovery Program episodes\n",
    "df = df[df['EPISODE'] =='IFPR - Peer Recovery Program' ]"
   ]
  },
  {
   "cell_type": "code",
   "execution_count": 183,
   "id": "f67a6951",
   "metadata": {},
   "outputs": [],
   "source": [
    "#Renaming column to create ClientID\n",
    "df.rename(columns = {'CSN':'ClientID'}, inplace = True)"
   ]
  },
  {
   "cell_type": "markdown",
   "id": "26d1cbf3",
   "metadata": {},
   "source": [
    "## Creating GPRA 1"
   ]
  },
  {
   "cell_type": "code",
   "execution_count": 184,
   "id": "4ec68be5",
   "metadata": {},
   "outputs": [],
   "source": [
    "#Creating function to create column ClientDescripTreat\n",
    "def Client_Descrip_Treat (x):\n",
    "    if x == 'Treatment grant client':\n",
    "        return 1\n",
    "    else:\n",
    "        return 0 \n",
    "    \n",
    "#Creating column ClientDescripTreat via applying function Client_Descrip_Treat\n",
    "df['ClientDescripTreat'] = df['CLIENT_TYPE'].apply(lambda x: Client_Descrip_Treat (x))"
   ]
  },
  {
   "cell_type": "code",
   "execution_count": 185,
   "id": "68727178",
   "metadata": {},
   "outputs": [],
   "source": [
    "#Creating function to create column ClientDescripRecov\n",
    "def Client_Descrip_Recov (x):\n",
    "    if x == 'Client in recovery grant':\n",
    "        return 1\n",
    "    else:\n",
    "        return 0\n",
    "    \n",
    "#Creating column ClientDescripRecov via applying function Client_Descrip_Recov\n",
    "df['ClientDescripRecov'] = df['CLIENT_TYPE'].apply(lambda x: Client_Descrip_Recov (x))"
   ]
  },
  {
   "cell_type": "code",
   "execution_count": 186,
   "id": "ee7222f0",
   "metadata": {},
   "outputs": [],
   "source": [
    "#Creating column GrantNo column\n",
    "df['GrantNo'] = \" \""
   ]
  },
  {
   "cell_type": "code",
   "execution_count": 187,
   "id": "4ce7a70d",
   "metadata": {},
   "outputs": [],
   "source": [
    "#Creating function for interview type\n",
    "def interview_type_code(x):\n",
    "    if x == 'Intake':\n",
    "        return 1\n",
    "    elif x == '6-month follow-up':\n",
    "        return 2\n",
    "    elif x == '3-month follow-up':\n",
    "        return 4\n",
    "    elif x == 'Discharge':\n",
    "        return 5\n",
    "    \n",
    "#Creating new column via applying interview_type_code function to values in interview type column\n",
    "df['InterviewType'] = df['INTERVIEW_TYPE'].apply(lambda x: interview_type_code(x))"
   ]
  },
  {
   "cell_type": "code",
   "execution_count": 188,
   "id": "0e9123d7",
   "metadata": {},
   "outputs": [],
   "source": [
    "#Creating function for conducted interview\n",
    "def conducted_interview(x):\n",
    "    if x == '6-month follow-up' or x == '3-month follow-up' or x == 'Discharge':\n",
    "        return 1\n",
    "    else:\n",
    "        return 0\n",
    "    \n",
    "# Creating a new column via applying the conducted_interview function to the values in the interview type column\n",
    "df['ConductedInterview'] = df['INTERVIEW_TYPE'].apply(lambda x: conducted_interview(x))"
   ]
  },
  {
   "cell_type": "code",
   "execution_count": 189,
   "id": "8fe7a169",
   "metadata": {},
   "outputs": [],
   "source": [
    "#Converting ADMIT_DT to datetime format \n",
    "df['ADMIT_DT'] = pd.to_datetime(df['ADMIT_DT'])\n",
    "\n",
    "#Renaming column to InterviewDate and changing data type to output in the format MM/DD/YYYY\n",
    "df['InterviewDate'] = df['ADMIT_DT'].dt.strftime('%m/%d/%Y')"
   ]
  },
  {
   "cell_type": "code",
   "execution_count": 190,
   "id": "ea450fcf",
   "metadata": {},
   "outputs": [],
   "source": [
    "#Creating columns for IntakeSeqNum,GrantInactFlag, and InactFlag\n",
    "df['IntakeSeqNum'] = \" \"\n",
    "df['GrantInactFlag'] = \" \"\n",
    "df['InactFlag'] = \" \""
   ]
  },
  {
   "cell_type": "code",
   "execution_count": 191,
   "id": "c577159d",
   "metadata": {},
   "outputs": [],
   "source": [
    "#Creating a function for Quarter\n",
    "def year_qt (x):\n",
    "    if x >= 7:\n",
    "        return 4\n",
    "    elif x >= 4:\n",
    "        return 3\n",
    "    elif x <= 3:\n",
    "        return 2"
   ]
  },
  {
   "cell_type": "code",
   "execution_count": 192,
   "id": "437da9c0",
   "metadata": {},
   "outputs": [],
   "source": [
    "#Extracting year from ADMIT_DT to create column FFY\n",
    "df['FFY'] = df['ADMIT_DT'].dt.year\n",
    "\n",
    "#Extracting year from ADMIT_DT to create column Month\n",
    "df['Month'] =  df['ADMIT_DT'].dt.month\n",
    "\n",
    "#Extracting year from ADMIT_DT to create column Quarter\n",
    "df['Quarter'] =  df['Month'].apply(lambda x: year_qt (x))\n",
    "\n",
    "# Convering DOB to datetime format\n",
    "df['DOB'] = pd.to_datetime(df['DOB'])\n",
    "\n",
    "# Extracting year from DOB to create column BirthYear\n",
    "df['BirthMonth'] = df['DOB'].dt.month\n",
    "\n",
    "# Extracting year from DOB to create column BirthYear\n",
    "df['BirthYear'] = df['DOB'].dt.year\n",
    "\n",
    "# Calculating Age\n",
    "df['Age'] = df['FFY'] - df['BirthYear']\n",
    "\n",
    "# Creating function for Age Group\n",
    "def age_group(x):\n",
    "    if x >= 18 and x < 25:\n",
    "        return 2\n",
    "    elif x >= 25 and x < 35:\n",
    "        return 3\n",
    "    elif x >= 35 and x < 45:\n",
    "        return 4\n",
    "    elif  x >= 45 and x < 55:\n",
    "        return 5\n",
    "    elif x >=55 and x < 65:\n",
    "        return 6\n",
    "    elif x >= 65:\n",
    "        return 7\n",
    "    else:\n",
    "        return -9\n",
    "    \n",
    "#Creating a new column via applying age_group function to values in age column\n",
    "df['AgeGroup'] = df['Age'].apply(lambda x: age_group(x))"
   ]
  },
  {
   "cell_type": "code",
   "execution_count": 193,
   "id": "0bd4cce1",
   "metadata": {},
   "outputs": [],
   "source": [
    "#Creating function for gender code \n",
    "def gender_code(x):\n",
    "    if x == 'Male':\n",
    "        return 1\n",
    "    elif x == 'Female':\n",
    "        return 2\n",
    "    else:\n",
    "        return 7\n",
    "\n",
    "#Creating new column via applying gender_code function to values in Gender column\n",
    "df['Gender'] = df['GENDER'].apply(lambda x: gender_code(x))\n",
    "\n",
    "#Renaming column to create column GenderSpec\n",
    "df.rename(columns = {'WHAT_DO_YOU_CONSIDER_YOURSELF_TO_BE_OTHER':'GenderSpec'}, inplace = True)"
   ]
  },
  {
   "cell_type": "code",
   "execution_count": 194,
   "id": "55d830e4",
   "metadata": {},
   "outputs": [],
   "source": [
    "#Creating a function for HispanicLatino Column\n",
    "def Hispanic_Latino (x):\n",
    "    if x == 'Yes':\n",
    "        return 1\n",
    "    elif x == 'No (Skip to Question 3)':\n",
    "        return 0\n",
    "    elif  x == 'REFUSED (Skip to Question 3)':\n",
    "        return -7\n",
    "    else:\n",
    "        return -9\n",
    "    \n",
    "#Creating new column HispanicLatino via applying Hispanic_Latino function to the values of the 'HISPANIC_LATIN_SPANISH_ORIGIN' column\n",
    "df['HispanicLatino'] = df['HISPANIC_LATIN_SPANISH_ORIGIN'].apply(lambda x: Hispanic_Latino (x))"
   ]
  },
  {
   "cell_type": "code",
   "execution_count": 195,
   "id": "cb19774c",
   "metadata": {},
   "outputs": [],
   "source": [
    "#Inputing 'NaN' for missing values in the WHAT_ETHNIC_GROUP_DO_YOU_CONSIDER_YOURSELF column\n",
    "df['WHAT_ETHNIC_GROUP_DO_YOU_CONSIDER_YOURSELF'] = df['WHAT_ETHNIC_GROUP_DO_YOU_CONSIDER_YOURSELF'].fillna('NaN')\n",
    "\n",
    "#Creating substrings\n",
    "df['WHAT_ETHNIC_GROUP_DO_YOU_CONSIDER_YOURSELF'] = df['WHAT_ETHNIC_GROUP_DO_YOU_CONSIDER_YOURSELF'].str.split(',').str[0]\n",
    "\n",
    "#Creating a function for column EthnicCentranAmerican\n",
    "def Central_American(x):\n",
    "    if x == 'Central American':\n",
    "        return 1\n",
    "    elif x ==  'REFUSED':\n",
    "        return -7\n",
    "    elif x == 'NaN':\n",
    "        return -9\n",
    "    else:\n",
    "        return 0\n",
    "    \n",
    "#Creating new column EthnicCentralAmerican via applying the Central_American function\n",
    "df['EthnicCentralAmerican'] = df['WHAT_ETHNIC_GROUP_DO_YOU_CONSIDER_YOURSELF'].apply(lambda x:Central_American(x))"
   ]
  },
  {
   "cell_type": "code",
   "execution_count": 196,
   "id": "54328cb3",
   "metadata": {},
   "outputs": [],
   "source": [
    "#Creating a function for column EthnicCuban\n",
    "def Cuban(x):\n",
    "    if x == 'Cuban':\n",
    "        return 1\n",
    "    elif x ==  'REFUSED':\n",
    "        return -7\n",
    "    elif x == 'NaN':\n",
    "        return -9\n",
    "    else:\n",
    "        return 0\n",
    "    \n",
    "    \n",
    "#Creating new column EthnicCuban via applying the Cuban function\n",
    "df['EthnicCuban'] = df['WHAT_ETHNIC_GROUP_DO_YOU_CONSIDER_YOURSELF'].apply(lambda x:Cuban(x))"
   ]
  },
  {
   "cell_type": "code",
   "execution_count": 197,
   "id": "51a22a1c",
   "metadata": {},
   "outputs": [],
   "source": [
    "#Creating a function for column EthnicDominican\n",
    "def DR(x):\n",
    "    if x == 'Dominican':\n",
    "        return 1\n",
    "    elif x ==  'REFUSED':\n",
    "        return -7\n",
    "    elif x == 'NaN':\n",
    "        return -9\n",
    "    else:\n",
    "        return 0\n",
    "    \n",
    "    \n",
    "#Creating new column EthnicDominican via applying the DR function\n",
    "df['EthnicDominican'] = df['WHAT_ETHNIC_GROUP_DO_YOU_CONSIDER_YOURSELF'].apply(lambda x:DR(x))"
   ]
  },
  {
   "cell_type": "code",
   "execution_count": 198,
   "id": "4f5f34d5",
   "metadata": {},
   "outputs": [],
   "source": [
    " #Creating a function for column EthnicMexican\n",
    "def Mexican(x):\n",
    "    if x == 'Mexican':\n",
    "        return 1\n",
    "    elif x ==  'REFUSED':\n",
    "        return -7\n",
    "    elif x == 'NaN':\n",
    "        return -9\n",
    "    else:\n",
    "        return 0\n",
    "    \n",
    "    \n",
    "#Creating new column EthnicMexican via applying the Mexican function\n",
    "df['EthnicMexican'] = df['WHAT_ETHNIC_GROUP_DO_YOU_CONSIDER_YOURSELF'].apply(lambda x:Mexican(x))"
   ]
  },
  {
   "cell_type": "code",
   "execution_count": 199,
   "id": "11db9b1e",
   "metadata": {},
   "outputs": [],
   "source": [
    "#Creating a function for column EthnicPuertoRican\n",
    "def PR(x):\n",
    "    if x == 'Puerto Rican':\n",
    "        return 1\n",
    "    elif x ==  'REFUSED':\n",
    "        return -7\n",
    "    elif x == 'NaN':\n",
    "        return -9\n",
    "    else:\n",
    "        return 0\n",
    "    \n",
    "    \n",
    "#Creating new column EthnicPuertoRican via applying the PR function\n",
    "df['EthnicPuertoRican'] = df['WHAT_ETHNIC_GROUP_DO_YOU_CONSIDER_YOURSELF'].apply(lambda x:PR(x))"
   ]
  },
  {
   "cell_type": "code",
   "execution_count": 200,
   "id": "d2c39227",
   "metadata": {},
   "outputs": [],
   "source": [
    "#Creating a function for column EthnicSouthAmerican\n",
    "def South_America(x):\n",
    "    if x == 'South American':\n",
    "        return 1\n",
    "    elif x ==  'REFUSED':\n",
    "        return -7\n",
    "    elif x == 'NaN':\n",
    "        return -9\n",
    "    else:\n",
    "        return 0\n",
    "    \n",
    "    \n",
    "#Creating new column EthnicSouthAmerican via applying the South_America function\n",
    "df['EthnicSouthAmerican'] = df['WHAT_ETHNIC_GROUP_DO_YOU_CONSIDER_YOURSELF'].apply(lambda x:South_America(x))"
   ]
  },
  {
   "cell_type": "code",
   "execution_count": 201,
   "id": "1d9df76f",
   "metadata": {},
   "outputs": [],
   "source": [
    "#Creating a function for column EthnicOther\n",
    "def Ethnic_Other(x):\n",
    "    if x == 'Other (SPECIFY)':\n",
    "        return 1\n",
    "    elif x ==  'REFUSED':\n",
    "        return -7\n",
    "    elif x == 'NaN':\n",
    "        return -9\n",
    "    else:\n",
    "        return 0\n",
    "    \n",
    "    \n",
    "#Creating new column EthnicSouthAmerican via applying the Ethnic_Other function\n",
    "df['EthnicOther'] = df['WHAT_ETHNIC_GROUP_DO_YOU_CONSIDER_YOURSELF'].apply(lambda x:Ethnic_Other(x))"
   ]
  },
  {
   "cell_type": "code",
   "execution_count": 202,
   "id": "9aabfc42",
   "metadata": {},
   "outputs": [],
   "source": [
    "#Renaming column\n",
    "df.rename(columns = {'ETHNIC_GROUP_OTHER':'EthnicOtherSpec'}, inplace = True)"
   ]
  },
  {
   "cell_type": "code",
   "execution_count": 203,
   "id": "930ceb4c",
   "metadata": {},
   "outputs": [],
   "source": [
    "#Fill null values with 'NaN' in the Race column\n",
    "df['RACE'] = df['RACE'].fillna('NaN')\n",
    "\n",
    "#Creating substrings \n",
    "df['RACE'] = df['RACE'].str.split(',').str[0]\n",
    "\n",
    "#Creating function for column RaceBlack\n",
    "def Race_Black(x):\n",
    "    if x == 'Black or African American':\n",
    "        return 1\n",
    "    elif x == 'NaN':\n",
    "        return -9\n",
    "    elif x == 'REFUSED':\n",
    "        return -7\n",
    "    elif x == 'Other (SPECIFY), REFUSED':\n",
    "        return -7\n",
    "    else:\n",
    "        return 0\n",
    "    \n",
    "#Creating new column RaceBlack via applying Race_Black function\n",
    "df['RaceBlack'] = df['RACE'].apply(lambda x:Race_Black(x))"
   ]
  },
  {
   "cell_type": "code",
   "execution_count": 204,
   "id": "758f16b2",
   "metadata": {},
   "outputs": [],
   "source": [
    "#Creating function for column RaceWhite\n",
    "def Race_White(x):\n",
    "    if x == 'White':\n",
    "        return 1\n",
    "    elif x == 'NaN':\n",
    "        return -9\n",
    "    elif x == 'REFUSED':\n",
    "        return -7\n",
    "    else:\n",
    "        return 0\n",
    "    \n",
    "#Creating new column RaceWhite via applying Race_White function\n",
    "df['RaceWhite'] = df['RACE'].apply(lambda x:Race_White(x))"
   ]
  },
  {
   "cell_type": "code",
   "execution_count": 205,
   "id": "809ce5ca",
   "metadata": {},
   "outputs": [],
   "source": [
    "#Creating function for column RaceAmericanIndian\n",
    "def Race_Am_Indian(x):\n",
    "    if x == 'American Indian':\n",
    "        return 1\n",
    "    elif x == 'NaN':\n",
    "        return -9\n",
    "    elif x == 'REFUSED':\n",
    "        return -7\n",
    "    else:\n",
    "        return 0\n",
    "    \n",
    "#Creating new column RaceAmericanIndian via applying Race_Am_Indian function\n",
    "df['RaceAmericanIndian'] = df['RACE'].apply(lambda x:Race_Am_Indian(x))"
   ]
  },
  {
   "cell_type": "code",
   "execution_count": 206,
   "id": "6975c779",
   "metadata": {},
   "outputs": [],
   "source": [
    "#Creating function for column RaceAlaskaNative\n",
    "def Race_Alaska_Native(x):\n",
    "    if x == 'Alaska Native':\n",
    "        return 1\n",
    "    elif x == 'NaN':\n",
    "        return -9\n",
    "    elif x == 'REFUSED':\n",
    "        return -7\n",
    "    else:\n",
    "        return 0\n",
    "    \n",
    "#Creating new column RaceAlaskaNative via applying Race_Alaska_Native function\n",
    "df['RaceAlaskaNative'] = df['RACE'].apply(lambda x:Race_Alaska_Native(x))"
   ]
  },
  {
   "cell_type": "code",
   "execution_count": 207,
   "id": "a8bad605",
   "metadata": {},
   "outputs": [],
   "source": [
    "#Creating function for column RaceAsianIndian\n",
    "def Race_Asian_Indian(x):\n",
    "    if x == 'Asian Indian':\n",
    "        return 1\n",
    "    elif x == 'NaN':\n",
    "        return -9\n",
    "    elif x == 'REFUSED':\n",
    "        return -7\n",
    "    else:\n",
    "        return 0\n",
    "    \n",
    "#Creating new column RaceAsianIndian via applying Race_Asian_Indian function\n",
    "df['RaceAsianIndian'] = df['RACE'].apply(lambda x:Race_Asian_Indian(x))"
   ]
  },
  {
   "cell_type": "code",
   "execution_count": 208,
   "id": "4e081258",
   "metadata": {},
   "outputs": [],
   "source": [
    "#Creating function for column RaceChinese\n",
    "def Race_Chinese(x):\n",
    "    if x == 'Chinese':\n",
    "        return 1\n",
    "    elif x == 'NaN':\n",
    "        return -9\n",
    "    elif x == 'REFUSED':\n",
    "        return -7\n",
    "    else:\n",
    "        return 0\n",
    "    \n",
    "#Creating new column RaceChinese via applying Race_Chinese function\n",
    "df['RaceChinese'] = df['RACE'].apply(lambda x:Race_Chinese(x))"
   ]
  },
  {
   "cell_type": "code",
   "execution_count": 209,
   "id": "996c5a72",
   "metadata": {},
   "outputs": [],
   "source": [
    "#Creating function for column RaceFilipino\n",
    "def Race_Filipino(x):\n",
    "    if x == 'Filipino':\n",
    "        return 1\n",
    "    elif x == 'NaN':\n",
    "        return -9\n",
    "    elif x == 'REFUSED':\n",
    "        return -7\n",
    "    else:\n",
    "        return 0\n",
    "    \n",
    "#Creating new column RaceFilipino via applying Race_Filipino function\n",
    "df['RaceFilipino'] = df['RACE'].apply(lambda x:Race_Filipino(x))"
   ]
  },
  {
   "cell_type": "code",
   "execution_count": 210,
   "id": "721d29da",
   "metadata": {},
   "outputs": [],
   "source": [
    "#Creating function for column RaceJapanese\n",
    "def Race_Japanese(x):\n",
    "    if x == 'Japanese':\n",
    "        return 1\n",
    "    elif x == 'NaN':\n",
    "        return -9\n",
    "    elif x == 'REFUSED':\n",
    "        return -7\n",
    "    else:\n",
    "        return 0\n",
    "    \n",
    "#Creating new column RaceJapanese via applying Race_Japanese function\n",
    "df['RaceJapanese'] = df['RACE'].apply(lambda x:Race_Japanese(x))"
   ]
  },
  {
   "cell_type": "code",
   "execution_count": 211,
   "id": "bbcccb36",
   "metadata": {},
   "outputs": [],
   "source": [
    "#Creating function for column RaceJapanese\n",
    "def Race_Japanese(x):\n",
    "    if x == 'Japanese':\n",
    "        return 1\n",
    "    elif x == 'NaN':\n",
    "        return -9\n",
    "    elif x == 'REFUSED':\n",
    "        return -7\n",
    "    else:\n",
    "        return 0\n",
    "    \n",
    "#Creating new column RaceJapanese via applying Race_Japanese function\n",
    "df['RaceJapanese'] = df['RACE'].apply(lambda x:Race_Japanese(x))"
   ]
  },
  {
   "cell_type": "code",
   "execution_count": 212,
   "id": "f5f6eb4f",
   "metadata": {},
   "outputs": [],
   "source": [
    "#Creating function for column RaceKorean\n",
    "def Race_Korean(x):\n",
    "    if x == 'Korean':\n",
    "        return 1\n",
    "    elif x == 'NaN':\n",
    "        return -9\n",
    "    elif x == 'REFUSED':\n",
    "        return -7\n",
    "    else:\n",
    "        return 0\n",
    "    \n",
    "#Creating new column RaceKorean via applying Race_Korean function\n",
    "df['RaceKorean'] = df['RACE'].apply(lambda x:Race_Korean(x))"
   ]
  },
  {
   "cell_type": "code",
   "execution_count": 213,
   "id": "80b6ec5c",
   "metadata": {},
   "outputs": [],
   "source": [
    "#Creating function for column RaceVietnamese\n",
    "def Race_Vietnamese(x):\n",
    "    if x == 'Vietnamese':\n",
    "        return 1\n",
    "    elif x == 'NaN':\n",
    "        return -9\n",
    "    elif x == 'REFUSED':\n",
    "        return -7\n",
    "    else:\n",
    "        return 0\n",
    "    \n",
    "#Creating new column RaceVietnamese via applying Race_Vietnamese function\n",
    "df['RaceVietnamese'] = df['RACE'].apply(lambda x:Race_Vietnamese(x))"
   ]
  },
  {
   "cell_type": "code",
   "execution_count": 214,
   "id": "b4675059",
   "metadata": {},
   "outputs": [],
   "source": [
    "#Creating function for column RaceOtherAsian\n",
    "def Race_Other_Asian(x):\n",
    "    if x == 'Other Asian':\n",
    "        return 1\n",
    "    elif x == 'NaN':\n",
    "        return -9\n",
    "    elif x == 'REFUSED':\n",
    "        return -7\n",
    "    else:\n",
    "        return 0\n",
    "    \n",
    "#Creating new column RaceOtherAsian via applying Race_Other_Asian function\n",
    "df['RaceOtherAsian'] = df['RACE'].apply(lambda x:Race_Other_Asian(x))"
   ]
  },
  {
   "cell_type": "code",
   "execution_count": 215,
   "id": "5eaed300",
   "metadata": {},
   "outputs": [],
   "source": [
    "#Creating function for column RaceNativeHawaiian\n",
    "def Race_Hawaiian(x):\n",
    "    if x == 'Hawaiian':\n",
    "        return 1\n",
    "    elif x == 'NaN':\n",
    "        return -9\n",
    "    elif x == 'REFUSED':\n",
    "        return -7\n",
    "    else:\n",
    "        return 0\n",
    "    \n",
    "#Creating new column RaceNativeHawaiian via applying Race_Hawaiian function\n",
    "df['RaceNativeHawaiian'] = df['RACE'].apply(lambda x:Race_Hawaiian(x))"
   ]
  },
  {
   "cell_type": "code",
   "execution_count": 216,
   "id": "9e695c1e",
   "metadata": {},
   "outputs": [],
   "source": [
    "#Creating function for column RaceGuamanianChamorro\n",
    "def Race_Guamanian_Chamorro(x):\n",
    "    if x == 'Guamanian Chamorro':\n",
    "        return 1\n",
    "    elif x == 'NaN':\n",
    "        return -9\n",
    "    elif x == 'REFUSED':\n",
    "        return -7\n",
    "    else:\n",
    "        return 0\n",
    "    \n",
    "#Creating new column RaceGuamanianChamorro via applying Race_Guamanian_Chamorro function\n",
    "df['RaceGuamanianChamorro'] = df['RACE'].apply(lambda x:Race_Guamanian_Chamorro(x))"
   ]
  },
  {
   "cell_type": "code",
   "execution_count": 217,
   "id": "38ac527b",
   "metadata": {},
   "outputs": [],
   "source": [
    "#Creating function for column RaceSamoan\n",
    "def Race_Samoan(x):\n",
    "    if x == 'Samoan':\n",
    "        return 1\n",
    "    elif x == 'NaN':\n",
    "        return -9\n",
    "    elif x == 'REFUSED':\n",
    "        return -7\n",
    "    else:\n",
    "        return 0\n",
    "    \n",
    "#Creating new column RaceSamoan via applying Race_Samoan function\n",
    "df['RaceSamoan'] = df['RACE'].apply(lambda x:Race_Samoan(x))"
   ]
  },
  {
   "cell_type": "code",
   "execution_count": 218,
   "id": "f31054b6",
   "metadata": {},
   "outputs": [],
   "source": [
    "#Creating function for column RaceOtherPacificIslander\n",
    "def Race_Pacific_Islander(x):\n",
    "    if x == 'Pacific Islander':\n",
    "        return 1\n",
    "    elif x == 'NaN':\n",
    "        return -9\n",
    "    elif x == 'REFUSED':\n",
    "        return -7\n",
    "    else:\n",
    "        return 0\n",
    "    \n",
    "#Creating new column RaceOtherPacificIslander via applying Race_Pacific_Islander function\n",
    "df['RaceOtherPacificIslander'] = df['RACE'].apply(lambda x:Race_Pacific_Islander(x))"
   ]
  },
  {
   "cell_type": "code",
   "execution_count": 219,
   "id": "7fa8778b",
   "metadata": {},
   "outputs": [],
   "source": [
    "#Creating function for column RaceOther\n",
    "def Race_Other(x):\n",
    "    if x == 'Other (SPECIFY)':\n",
    "        return 1\n",
    "    elif x == 'NaN':\n",
    "        return -9\n",
    "    elif x == 'REFUSED':\n",
    "        return -7\n",
    "    else:\n",
    "        return 0\n",
    "    \n",
    "#Creating new column RaceOther via applying Race_Other function\n",
    "df['RaceOther'] = df['RACE'].apply(lambda x:Race_Other(x))"
   ]
  },
  {
   "cell_type": "code",
   "execution_count": 220,
   "id": "a861fe91",
   "metadata": {},
   "outputs": [],
   "source": [
    "#Renaming column \n",
    "df.rename(columns = {'RACE_OTHER':'RaceSpec'}, inplace = True)\n",
    "\n",
    "#Renaming column to create column RaceSpec\n",
    "df['RaceSpec'] = df['RaceSpec'].str.title()"
   ]
  },
  {
   "cell_type": "code",
   "execution_count": 221,
   "id": "2e8826cc",
   "metadata": {},
   "outputs": [],
   "source": [
    "# Filling missing in values in SPEAK_LANGUAGE_OTHER_THAN_ENGLISH column with 'NaN'\n",
    "df['SPEAK_LANGUAGE_OTHER_THAN_ENGLISH'] = df['SPEAK_LANGUAGE_OTHER_THAN_ENGLISH'].fillna('NaN')\n",
    "\n",
    "#Creating function for LangNotEnglishAtHome\n",
    "def Lang_Eng_Not_Spoken(x):\n",
    "    if x == 'Yes':\n",
    "        return 1\n",
    "    elif x == 'No (Skip to Question 5)':\n",
    "        return 0\n",
    "    elif x == 'REFUSED (Skip to Question 5)':\n",
    "        return -7\n",
    "    elif x == 'NaN':\n",
    "        return -9\n",
    "\n",
    "#Creating new column LangNotEnglishAtHome via applying the Lang_Eng_Not_Spoken function\n",
    "df['LangNotEnglishAtHome'] = df['SPEAK_LANGUAGE_OTHER_THAN_ENGLISH'].apply(lambda x: Lang_Eng_Not_Spoken(x))"
   ]
  },
  {
   "cell_type": "code",
   "execution_count": 222,
   "id": "51c934be",
   "metadata": {},
   "outputs": [],
   "source": [
    "#Creating function to create column LangNotEnglishSpoken\n",
    "def Lang_Not_English_Spoken (x):\n",
    "    if x == 'Spanish':\n",
    "        return 1\n",
    "    elif x == 'Other (SPECIFY)':\n",
    "        return 2\n",
    "    else:\n",
    "        return -9\n",
    "    \n",
    "#Creating column LangNotEnglishSpoken via applying the function Lang_Not_English_Spoken\n",
    "df['LangNotEnglishSpoken'] = df['WHAT_OTHER_LANGUAGE'].apply(lambda x:Lang_Not_English_Spoken (x))"
   ]
  },
  {
   "cell_type": "code",
   "execution_count": 223,
   "id": "a613f1f0",
   "metadata": {},
   "outputs": [],
   "source": [
    "#Renaming column to create column LangNotEnglishSpokenSpec\n",
    "df.rename(columns = {'WHAT_OTHER_LANGUAGE':'LangNotEnglishSpokenSpec'}, inplace = True)"
   ]
  },
  {
   "cell_type": "code",
   "execution_count": 224,
   "id": "501d2b7c",
   "metadata": {},
   "outputs": [],
   "source": [
    "#Renaming\n",
    "df.rename(columns = {'LANGUAGE_OTHER':'LangNotSpanishSpokenSpec'}, inplace = True)\n",
    "\n",
    "#Renaming column to create column LangNotEnglishSpokenSpec\n",
    "df['LangNotSpanishSpokenSpec'] = df['LangNotSpanishSpokenSpec'].str.title()"
   ]
  },
  {
   "cell_type": "code",
   "execution_count": 225,
   "id": "b6bd41f4",
   "metadata": {},
   "outputs": [],
   "source": [
    "#Creating function to create column LangNotSpanishAtHome\n",
    "def Lang_Not_Spanish_Spoken_Home (x):\n",
    "    if x == 'Yes' or x == 'Other (SPECIFY)':\n",
    "        return 1\n",
    "    elif x == 'No':\n",
    "        return 0\n",
    "    elif x == 'REFUSED (Skip to Question 5)':\n",
    "        return -7\n",
    "    else:\n",
    "        return -9\n",
    "    \n",
    "#Creating new column LangNotSpanishAtHome via aplying function Lang_Not_Spanish_Spoken_Home\n",
    "df['LangNotSpanishAtHome'] = df['SPEAK_LANGUAGE_OTHER_THAN_SPANISH'].apply(lambda x: Lang_Not_Spanish_Spoken_Home (x))"
   ]
  },
  {
   "cell_type": "code",
   "execution_count": 226,
   "id": "6036deef",
   "metadata": {},
   "outputs": [],
   "source": [
    "#Creating function to create column LangNotSpanishSpoken\n",
    "def Lang_Not_Spanish_Spoken (x):\n",
    "    if x == 'Yes':\n",
    "        return 1\n",
    "    elif x == 'Other (SPECIFY)':\n",
    "        return 2\n",
    "    elif x == 'REFUSED (Skip to Question 5)':\n",
    "        return -7\n",
    "    elif x == 'No':\n",
    "        return -1\n",
    "    else:\n",
    "        return -9\n",
    "    \n",
    "#Creating column LangNotSpanishSpoken via applying the function Lang_Not_Spanish_Spoken\n",
    "df['LangNotSpanishSpoken'] = df['SPEAK_LANGUAGE_OTHER_THAN_SPANISH'].apply(lambda x: Lang_Not_Spanish_Spoken (x))"
   ]
  },
  {
   "cell_type": "code",
   "execution_count": 227,
   "id": "0a2b7c79",
   "metadata": {},
   "outputs": [],
   "source": [
    "#filling missing values with 'NaN'\n",
    "df['WHAT_DO_YOU_THINK_OF_YOURSELF_AS'] = df['WHAT_DO_YOU_THINK_OF_YOURSELF_AS'].fillna('NaN')\n",
    "\n",
    "#Creating substrings\n",
    "df['WHAT_DO_YOU_THINK_OF_YOURSELF_AS'] = df['WHAT_DO_YOU_THINK_OF_YOURSELF_AS'].str.split(',').str[0]\n",
    "\n",
    "#Creating function for column SexIdentHeterosexual\n",
    "def Straight (x):\n",
    "    if x == 'Straight or Heterosexual':\n",
    "        return 1\n",
    "    elif x == 'REFUSED':\n",
    "        return -7\n",
    "    elif x == 'NaN':\n",
    "        return -9\n",
    "    else:\n",
    "        return 0\n",
    "    \n",
    "#Creating new column SexIdentHeterosexual via applying function Straight\n",
    "df['SexIdentHeterosexual'] = df['WHAT_DO_YOU_THINK_OF_YOURSELF_AS'].apply(lambda x:Straight (x))"
   ]
  },
  {
   "cell_type": "code",
   "execution_count": 228,
   "id": "b492df77",
   "metadata": {},
   "outputs": [],
   "source": [
    "#Creating function for column SexIdentHomoSexual\n",
    "def Homosexual (x):\n",
    "    if x == 'Homosexual (Gay or Lesbian)':\n",
    "        return 1\n",
    "    elif x == 'REFUSED':\n",
    "        return -7\n",
    "    elif x == 'NaN':\n",
    "        return -9\n",
    "    else:\n",
    "        return 0\n",
    "    \n",
    "#Creating new column SexIdentHomosexual via applying function Homosexual\n",
    "df['SexIdentHomosexual'] = df['WHAT_DO_YOU_THINK_OF_YOURSELF_AS'].apply(lambda x:Homosexual (x))"
   ]
  },
  {
   "cell_type": "code",
   "execution_count": 229,
   "id": "ac482119",
   "metadata": {},
   "outputs": [],
   "source": [
    "#Creating function for column SexIdentBiSexual\n",
    "def Bisexual (x):\n",
    "    if x == 'Bisexual':\n",
    "        return 1\n",
    "    elif x == 'REFUSED':\n",
    "        return -7\n",
    "    elif x == 'NaN':\n",
    "        return -9\n",
    "    else:\n",
    "        return 0\n",
    "    \n",
    "#Creating new column SexIdentBiSexual via applying function Bisexual\n",
    "df['SexIdentBisexual'] = df['WHAT_DO_YOU_THINK_OF_YOURSELF_AS'].apply(lambda x:Bisexual (x))"
   ]
  },
  {
   "cell_type": "code",
   "execution_count": 230,
   "id": "a40fc17d",
   "metadata": {},
   "outputs": [],
   "source": [
    "#Creating function for column SexIdentQueerPanaQuest\n",
    "def Queer_Pan_Quest (x):\n",
    "    if x == 'Queer, Pansexual, And/Or Questioning':\n",
    "        return 1\n",
    "    elif x == 'REFUSED':\n",
    "        return -7\n",
    "    elif x == 'NaN':\n",
    "        return -9\n",
    "    else:\n",
    "        return 0\n",
    "    \n",
    "#Creating new column SexIdentQueerPanaQuest via applying function Queer_Pan_Quest\n",
    "df['SexIdentQueerPanaQuest'] = df['WHAT_DO_YOU_THINK_OF_YOURSELF_AS'].apply(lambda x:Queer_Pan_Quest (x))"
   ]
  },
  {
   "cell_type": "code",
   "execution_count": 231,
   "id": "96038cb9",
   "metadata": {},
   "outputs": [],
   "source": [
    "#Creating function for column SexIdentAsexual\n",
    "def Asexual (x):\n",
    "    if x == 'Asexual':\n",
    "        return 1\n",
    "    elif x == 'REFUSED':\n",
    "        return -7\n",
    "    elif x == 'NaN':\n",
    "        return -9\n",
    "    else:\n",
    "        return 0\n",
    "    \n",
    "#Creating new column SexIdentAsexual via applying function Asexual\n",
    "df['SexIdentAsexual'] = df['WHAT_DO_YOU_THINK_OF_YOURSELF_AS'].apply(lambda x:Asexual (x))"
   ]
  },
  {
   "cell_type": "code",
   "execution_count": 232,
   "id": "f9c5cca0",
   "metadata": {},
   "outputs": [],
   "source": [
    "#Creating function for column SexIdentOther\n",
    "def Other (x):\n",
    "    if x == 'Other':\n",
    "        return 1\n",
    "    elif x == 'REFUSED':\n",
    "        return -7\n",
    "    elif x == 'NaN':\n",
    "        return -9\n",
    "    else:\n",
    "        return 0\n",
    "    \n",
    "#Creating new column SexIdentHeterosexual via applying function Asexual\n",
    "df['SexIdentOther'] = df['WHAT_DO_YOU_THINK_OF_YOURSELF_AS'].apply(lambda x:Other (x))"
   ]
  },
  {
   "cell_type": "code",
   "execution_count": 233,
   "id": "570f6af2",
   "metadata": {},
   "outputs": [],
   "source": [
    "#Creating function for column SexIdentSpec\n",
    "def Other_Spec (x):\n",
    "    if x == 'Other (SPECIFY)':\n",
    "        return 1\n",
    "    elif x == 'REFUSED':\n",
    "        return -7\n",
    "    elif x == 'NaN':\n",
    "        return -9\n",
    "    else:\n",
    "        return 0\n",
    "    \n",
    "#Creating new column SexIdentSpec via applying function Other_Spec\n",
    "df['SexIdentSpec'] = df['WHAT_DO_YOU_THINK_OF_YOURSELF_AS'].apply(lambda x:Other_Spec (x))"
   ]
  },
  {
   "cell_type": "code",
   "execution_count": 234,
   "id": "49d43cc3",
   "metadata": {},
   "outputs": [],
   "source": [
    "#Filling in null values with'NaN'\n",
    "df['RELATIONSHIP_STATUS'] = df['RELATIONSHIP_STATUS'].fillna('NaN')\n",
    "\n",
    "#Creating function for RelationshipStatus column\n",
    "def Relationship_Status (x):\n",
    "    if x == 'Married':\n",
    "        return 1\n",
    "    elif x == 'Single':\n",
    "        return 2\n",
    "    elif x == 'Divorced':\n",
    "        return 3\n",
    "    elif x == 'Separated':\n",
    "        return 4\n",
    "    elif x == 'Widowed':\n",
    "        return 5\n",
    "    elif x == 'In a relationship':\n",
    "        return 6\n",
    "    elif x == 'In multiple relationships':\n",
    "        return 7\n",
    "    elif x == 'REFUSED':\n",
    "        return -7\n",
    "    elif x == 'NaN':\n",
    "        return -9\n",
    "    \n",
    "#Creating new column RelationshipStatus via applying function Relationship_Statu\n",
    "df['RelationshipStatus'] = df['RELATIONSHIP_STATUS'].apply(lambda x:Relationship_Status (x))"
   ]
  },
  {
   "cell_type": "code",
   "execution_count": 235,
   "id": "2ae2158e",
   "metadata": {},
   "outputs": [],
   "source": [
    "#Filling missing values with 'NaN'\n",
    "df['CURRENTLY_PREGNANT'] = df['CURRENTLY_PREGNANT'].fillna('NaN')\n",
    "\n",
    "#Creating function for Pregnant column\n",
    "def Pregnant (x):\n",
    "    if x == 'Yes':\n",
    "        return 1\n",
    "    elif x == 'No':\n",
    "        return 0\n",
    "    elif x == 'Do not know':\n",
    "        return -8\n",
    "    elif x == 'REFUSED':\n",
    "        return -7\n",
    "    elif x == 'NaN':\n",
    "        return -9\n",
    "    \n",
    "#Creating new column Pregnant via applying function Pregnant\n",
    "df['Pregnant'] = df['CURRENTLY_PREGNANT'].apply(lambda x: Pregnant (x))"
   ]
  },
  {
   "cell_type": "code",
   "execution_count": 236,
   "id": "c58d5a1c",
   "metadata": {},
   "outputs": [],
   "source": [
    "#Replacing null values with 'NaN'\n",
    "df['HAVE_CHILDREN'] = df['HAVE_CHILDREN'].fillna('NaN')\n",
    "\n",
    "# Creating function to create new column Children\n",
    "def Child (x):\n",
    "    if x == 'Yes':\n",
    "        return 1\n",
    "    elif x == 'No (Skip to Question 9)':\n",
    "        return 0\n",
    "    elif x == 'REFUSED (Skip to Question 9)':\n",
    "        return -7\n",
    "    elif x == 'NaN':\n",
    "        return -9\n",
    "#Creating new column Children via applying function Child\n",
    "df['Children'] = df['HAVE_CHILDREN'].apply(lambda x: Child(x))"
   ]
  },
  {
   "cell_type": "code",
   "execution_count": 237,
   "id": "af89bfd3",
   "metadata": {},
   "outputs": [],
   "source": [
    "#Renaming columns \n",
    "df.rename(columns = {'CHILDREN_UNDER_18':'ChildrenUnder18Nr'}, inplace = True)\n",
    "\n",
    "#Renaming column to create column ChildrenUnder18Nr\n",
    "df['ChildrenUnder18Nr'] = df['ChildrenUnder18Nr'].fillna(-9)\n",
    "\n",
    "#Replacing 0 with blank values\n",
    "df['ChildrenUnder18Nr'] = df['ChildrenUnder18Nr'].replace(0,\" \")"
   ]
  },
  {
   "cell_type": "code",
   "execution_count": 238,
   "id": "654f6b08",
   "metadata": {},
   "outputs": [],
   "source": [
    "#Creating function to create column ChildrenCustody\n",
    "def Children_Custody (x):\n",
    "    if x == 'Yes':\n",
    "        return 1\n",
    "    elif x == 'No (Skip to Question 9)':\n",
    "        return 0\n",
    "    elif x == 'REFUSED (Skip to Question 9)':\n",
    "        return -7\n",
    "    else:\n",
    "        return -9\n",
    "    \n",
    "#Creating ChildrenCustody via applying function Children_Custody\n",
    "df['ChildrenCustody'] = df['CHILDREN_UNDER_18_LIVING_SOMEWHERE_ELSE_COURT_INTERVENTION'].apply(lambda x: Children_Custody (x))"
   ]
  },
  {
   "cell_type": "code",
   "execution_count": 239,
   "id": "8a1362b6",
   "metadata": {},
   "outputs": [],
   "source": [
    "#Renaming column \n",
    "df.rename(columns = {'CHILDREN_REMOVED_FROM_CLIENTS_CARE':'ChildrenCustodyNr'}, inplace = True)\n",
    "\n",
    "#Renaming column to create column ChildrenCustodyNr\n",
    "df['ChildrenCustodyNr'] = df['ChildrenCustodyNr'].fillna(-9)\n",
    "\n",
    "#Replacing 0 with blanks\n",
    "df['ChildrenCustodyNr'] = df['ChildrenCustodyNr'].replace(0,\" \")"
   ]
  },
  {
   "cell_type": "code",
   "execution_count": 240,
   "id": "3a3ea212",
   "metadata": {},
   "outputs": [],
   "source": [
    "#Creating function to create column ChildrenReunited\n",
    "def Children_Reunited (x):\n",
    "    if x == 'Yes':\n",
    "        return 1\n",
    "    elif x == 'No':\n",
    "        return 0\n",
    "    elif x == 'REFUSED':\n",
    "        return -7\n",
    "    else:\n",
    "        return -9\n",
    "    \n",
    "#Creating column ChildrenReunited via applying function Children_Reunited\n",
    "df['ChildrenReunited'] = df['REUNITED_WITH_CHILDREN_UNDER_18_PREV_REMOVED_FROM_CARE'].apply(lambda x: Children_Reunited (x))"
   ]
  },
  {
   "cell_type": "code",
   "execution_count": 241,
   "id": "b7f74e46",
   "metadata": {},
   "outputs": [],
   "source": [
    "#Renaming column \n",
    "df.rename(columns = {'CHILDREN_REUNITED_WITH_CLIENT':'ChildrenReunitedNr'},inplace = True)\n",
    "\n",
    "#Renaming column to create column ChildrenReunitedNr\n",
    "df['ChildrenReunitedNr'] = df['ChildrenReunitedNr'].fillna(-9)"
   ]
  },
  {
   "cell_type": "code",
   "execution_count": 242,
   "id": "6114649e",
   "metadata": {},
   "outputs": [],
   "source": [
    "#Replacing null values 'NaN'\n",
    "df['EVER_SERVED_IN_MILITARY'] = df['EVER_SERVED_IN_MILITARY'].fillna('NaN')\n",
    "\n",
    "#Creating function to create new column MilitaryServed\n",
    "def Military_Served (x):\n",
    "    if x == 'No':\n",
    "        return 0\n",
    "    elif x == 'Yes, In the Armed Forces':\n",
    "        return 1\n",
    "    elif x == 'Yes, In the National Guard':\n",
    "        return 3\n",
    "    elif x == 'REFUSED':\n",
    "        return -7\n",
    "    elif x == 'NaN':\n",
    "        return -9\n",
    "\n",
    "# Creating new column MilitaryServed applying function Military_Served\n",
    "df['MilitaryServed'] = df['EVER_SERVED_IN_MILITARY'].apply(lambda x:Military_Served (x))"
   ]
  },
  {
   "cell_type": "code",
   "execution_count": 243,
   "id": "c28e03d8",
   "metadata": {},
   "outputs": [],
   "source": [
    "#Replacing null values 'NaN'\n",
    "df['HOW_LONG_TO_TRAVEL_TO_GRANT_SERVICES_LOCATION'] = df['HOW_LONG_TO_TRAVEL_TO_GRANT_SERVICES_LOCATION'].fillna('NaN')\n",
    "\n",
    "#Creating function to create new column ServicesTravelTime\n",
    "def Travel_Time (x):\n",
    "    if x == 'Half an hour or less':\n",
    "        return 1\n",
    "    elif x == 'Between half an hour and one hour':\n",
    "        return 2\n",
    "    elif x == 'Between one hour and one and a half hours':\n",
    "        return 3\n",
    "    elif x == 'Between one and a half hours and two hours':\n",
    "        return 4\n",
    "    elif x == 'Two hours or more':\n",
    "        return 5\n",
    "    elif x == 'REFUSED':\n",
    "        return -7\n",
    "    elif x == 'NaN':\n",
    "        return -9\n",
    "\n",
    "#Creating new column ServicesTravelTime via applying function Travel_Time\n",
    "df['ServicesTravelTime'] = df['HOW_LONG_TO_TRAVEL_TO_GRANT_SERVICES_LOCATION'].apply(lambda x: Travel_Time (x))"
   ]
  },
  {
   "cell_type": "code",
   "execution_count": 244,
   "id": "e017ae73",
   "metadata": {},
   "outputs": [],
   "source": [
    "#Renaming column\n",
    "df.rename(columns = {'ALCOHOL_NUMBER_OF_DAYS':'AlcoholDays'}, inplace = True)\n",
    "\n",
    "#Replacing null values with -9 to create column AlcoholDays\n",
    "df['AlcoholDays'] = df['AlcoholDays'].fillna(-9)\n",
    "\n",
    "#Replacing values greater than 30 with 30\n",
    "df['AlcoholDays'] = df['AlcoholDays'].replace(31.0,30)\n"
   ]
  },
  {
   "cell_type": "code",
   "execution_count": 245,
   "id": "948ec133",
   "metadata": {},
   "outputs": [],
   "source": [
    "#Replacing null values with 'NaN'\n",
    "df['ALCOHOL_ROUTE'] = df['ALCOHOL_ROUTE'].fillna('NaN')\n",
    "\n",
    "#Creating function for AlcoholRoute\n",
    "def Alcohol_Route (x):\n",
    "    if x == '1. Oral':\n",
    "        return 1\n",
    "    else:\n",
    "        return -9\n",
    "    \n",
    "#Creating column AlcoholRoute via applying the function Alcohol_Route\n",
    "df['AlcoholRoute'] = df['ALCOHOL_ROUTE'].apply(lambda x: Alcohol_Route(x))"
   ]
  },
  {
   "cell_type": "code",
   "execution_count": 246,
   "id": "4b26c69b",
   "metadata": {},
   "outputs": [],
   "source": [
    "#Creating column AlcoholOther1Days \n",
    "df['AlcoholOther1Days'] = -9\n",
    "\n",
    "#Creating column AlcoholOther1Route \n",
    "df['AlcoholOther1Route'] = -9\n",
    "\n",
    "df['AlcoholOther1Spec'] = \" \"\n",
    "\n",
    "#Replacing missing values to create respective columns\n",
    "df['AlcoholOther2Days'] = -9\n",
    "df['AlcoholOther2Route'] = -9\n",
    "df['AlcoholOther2Spec'] = \" \"\n",
    "df['AlcoholOther3Days'] = -9\n",
    "df['AlcoholOther3Route'] = -9\n",
    "df['AlcoholOther3Spec'] = \" \""
   ]
  },
  {
   "cell_type": "code",
   "execution_count": 247,
   "id": "6453a360",
   "metadata": {},
   "outputs": [],
   "source": [
    "#Renaming colulmn\n",
    "df.rename(columns = {'HEROIN_NUMBER_OF_DAYS':'OpioidsHeroinDays'}, inplace = True)\n",
    "\n",
    "#Replacing null values with -9 to create column OpioidsHeroinDays\n",
    "df['OpioidsHeroinDays'] = df['OpioidsHeroinDays'].fillna(-9)"
   ]
  },
  {
   "cell_type": "code",
   "execution_count": 248,
   "id": "3a0195fb",
   "metadata": {},
   "outputs": [],
   "source": [
    "#Replacing null values with 'NaN'\n",
    "df['HEROIN_ROUTE'] = df['HEROIN_ROUTE'].fillna('NaN')\n",
    "\n",
    "#Creating substrings\n",
    "df['HEROIN_ROUTE'] = df['HEROIN_ROUTE'].str.split(',').str[0]\n",
    "\n",
    "#Creating function for column OpioidsHeroinRoute\n",
    "def Heroin_Route (x):\n",
    "    if x == '1. Oral':\n",
    "        return 1\n",
    "    elif x == '2. Intranasal':\n",
    "        return 2\n",
    "    elif x == '5. Non-IV Injection':\n",
    "        return 4\n",
    "    elif x == '6. Intravenous (IV) Injection':\n",
    "        return 5\n",
    "    elif x == '0. Other':\n",
    "        return 0\n",
    "    elif x == '4. Smoking':\n",
    "        return 3\n",
    "    elif x == 'NaN':\n",
    "        return -9\n",
    "    \n",
    "#Creating column OpioidsHeroinRoute via applying function Heroin_Route\n",
    "df['OpioidsHeroinRoute'] = df['HEROIN_ROUTE'].apply(lambda x: Heroin_Route (x))"
   ]
  },
  {
   "cell_type": "code",
   "execution_count": 249,
   "id": "71fa90be",
   "metadata": {},
   "outputs": [],
   "source": [
    "#Renaming columns\n",
    "df.rename(columns = {'MORPHINE_NUMBER_OF_DAYS':'OpioidsMorphineDays'}, inplace = True)\n",
    "\n",
    "# Amending 'MORPHINE_NUMBER_OF_DAYS' column via replacing null values with -9 to create OpioidsMorphineDays column\n",
    "df['OpioidsMorphineDays'] = df['OpioidsMorphineDays'].fillna(-9)\n",
    "\n"
   ]
  },
  {
   "cell_type": "code",
   "execution_count": 250,
   "id": "6a246627",
   "metadata": {},
   "outputs": [],
   "source": [
    "#Replacing null values with 'NaN'\n",
    "df['MORPHINE_ROUTE'] = df['MORPHINE_ROUTE'].fillna('NaN')\n",
    "\n",
    "#Creating function to create new column OpioidsMorphineRoute\n",
    "def Morphine_Route (x):\n",
    "    if x == '1. Oral':\n",
    "        return 1\n",
    "    elif x == '6. Intravenous (IV) Injection':\n",
    "        return 2\n",
    "    elif x == '0. Other':\n",
    "        return 0\n",
    "    elif x == 'NaN':\n",
    "        return -9\n",
    "#Creating new column OpioidsMorphineRoute via applying the function Morphine_Route\n",
    "df['OpioidsMorphineRoute'] = df['MORPHINE_ROUTE'].apply(lambda x:Morphine_Route (x))"
   ]
  },
  {
   "cell_type": "code",
   "execution_count": 251,
   "id": "f9461718",
   "metadata": {},
   "outputs": [],
   "source": [
    "#Renaming columns \n",
    "df.rename(columns = {'FENTANYL_NUMBER_OF_DAYS':'OpioidsFentanylDays'},inplace = True)\n",
    "\n",
    "# Replacing null values with -9 to create OpioidsFentanylDays column \n",
    "df['OpioidsFentanylDays'] = df['OpioidsFentanylDays'].fillna(-9)"
   ]
  },
  {
   "cell_type": "code",
   "execution_count": 252,
   "id": "3a8ddaba",
   "metadata": {},
   "outputs": [],
   "source": [
    "# Replacing null values with 'NaN'\n",
    "df['FENTANYL_ROUTE'] = df['FENTANYL_ROUTE'].fillna('NaN')\n",
    "\n",
    "#Creating function to create new column OpioidsFentanylRoute\n",
    "def Fentanyl_Route (x):\n",
    "    if x == '1. Oral':\n",
    "        return 1\n",
    "    elif x == '2. Intranasal':\n",
    "        return 2\n",
    "    elif x == '6. Intravenous (IV) Injection':\n",
    "        return 5\n",
    "    elif x == '0. Other':\n",
    "        return 0\n",
    "    else:\n",
    "        return -9\n",
    "    \n",
    "#Creating new column OpioidsFentanylRoute via applying the function Fentanyl_Route\n",
    "df['OpioidsFentanylRoute'] = df['FENTANYL_ROUTE'].apply(lambda x: Fentanyl_Route(x)) "
   ]
  },
  {
   "cell_type": "code",
   "execution_count": 253,
   "id": "8ef4acae",
   "metadata": {},
   "outputs": [],
   "source": [
    "#Renaming column\n",
    "df.rename(columns = {'DILAUDID_NUMBER_OF_DAYS':'OpioidsDilaudidDays'}, inplace = True)\n",
    "\n",
    "#Replacing null values with -9 to create values for column OpioidsDilaudidDays\n",
    "df['OpioidsDilaudidDays'] = df['OpioidsDilaudidDays'].fillna(-9)"
   ]
  },
  {
   "cell_type": "code",
   "execution_count": 254,
   "id": "055d729d",
   "metadata": {},
   "outputs": [
    {
     "name": "stderr",
     "output_type": "stream",
     "text": [
      "C:\\Users\\tyogarro\\AppData\\Local\\Temp\\ipykernel_14256\\2699999357.py:12: PerformanceWarning: DataFrame is highly fragmented.  This is usually the result of calling `frame.insert` many times, which has poor performance.  Consider joining all columns at once using pd.concat(axis=1) instead. To get a de-fragmented frame, use `newframe = frame.copy()`\n",
      "  df['OpioidsDilaudidRoute'] = df['DILAUDID_ROUTE'].apply(lambda x: Dilaudid_Route (x))\n"
     ]
    }
   ],
   "source": [
    "# Replacing null values with 'NaN' \n",
    "df['DILAUDID_ROUTE'] = df['DILAUDID_ROUTE'].fillna('NaN')\n",
    "\n",
    "#Creating function for creating column OpioidsDilaudidRoute\n",
    "def Dilaudid_Route (x):\n",
    "    if x == '1. Oral':\n",
    "        return 1\n",
    "    elif x == 'NaN':\n",
    "        return -9\n",
    "\n",
    "# Creating new column OpioidsDilaudidRoutev via applying function Dilaudid_Route  \n",
    "df['OpioidsDilaudidRoute'] = df['DILAUDID_ROUTE'].apply(lambda x: Dilaudid_Route (x))"
   ]
  },
  {
   "cell_type": "code",
   "execution_count": 255,
   "id": "ad29f3b7",
   "metadata": {},
   "outputs": [],
   "source": [
    "#Renaming column\n",
    "df.rename(columns = {'DEMEROL_NUMBER_OF_DAYS':'OpioidsDemerolDays'}, inplace = True)\n",
    "\n",
    "#Replacing nulll values with -9 to create values for column OpioidsDemerolDays\n",
    "df['OpioidsDemerolDays'] = df['OpioidsDemerolDays'].fillna(-9)"
   ]
  },
  {
   "cell_type": "markdown",
   "id": "dd2decfd",
   "metadata": {},
   "source": [
    "## Exporting GPRA1\n"
   ]
  },
  {
   "cell_type": "code",
   "execution_count": 256,
   "id": "a2e22726",
   "metadata": {},
   "outputs": [],
   "source": [
    "#Create variable by indexing columns and creating df\n",
    "GPRA1 = df[['MRN','ClientID','ClientDescripTreat','ClientDescripRecov','GrantNo',\t'InterviewType',\t'ConductedInterview',\t'InterviewDate',\t'IntakeSeqNum',\t'GrantInactFlag',\t'InactFlag',\t'FFY',\t'Quarter',\t'Month',\t'BirthMonth',\t'BirthYear',\t'Age',\t'AgeGroup',\t'Gender',\t'GenderSpec',\t'HispanicLatino',\t'EthnicCentralAmerican',\t'EthnicCuban',\t'EthnicDominican',\t'EthnicMexican',\t'EthnicPuertoRican',\t'EthnicSouthAmerican',\t'EthnicOther',\t'EthnicOtherSpec',\t'RaceBlack',\t'RaceWhite',\t'RaceAmericanIndian',\t'RaceAlaskaNative',\t'RaceAsianIndian',\t'RaceChinese',\t'RaceFilipino',\t'RaceJapanese',\t'RaceKorean',\t'RaceVietnamese',\t'RaceOtherAsian',\t'RaceNativeHawaiian',\t'RaceGuamanianChamorro',\t'RaceSamoan',\t'RaceOtherPacificIslander',\t'RaceOther',\t'RaceSpec',\t'LangNotEnglishAtHome',\t'LangNotEnglishSpoken',\t'LangNotEnglishSpokenSpec',\t'LangNotSpanishAtHome',\t'LangNotSpanishSpoken',\t'LangNotSpanishSpokenSpec',\t'SexIdentHeterosexual',\t'SexIdentHomosexual',\t'SexIdentBisexual',\t'SexIdentQueerPanaQuest',\t'SexIdentAsexual',\t'SexIdentOther',\t'SexIdentSpec',\t'RelationshipStatus',\t'Pregnant',\t'Children',\t'ChildrenUnder18Nr',\t'ChildrenCustody',\t'ChildrenCustodyNr',\t'ChildrenReunited',\t'ChildrenReunitedNr',\t'MilitaryServed',\t'ServicesTravelTime',\t'AlcoholDays',\t'AlcoholRoute',\t'AlcoholOther1Days',\t'AlcoholOther1Route',\t'AlcoholOther1Spec',\t'AlcoholOther2Days',\t'AlcoholOther2Route',\t'AlcoholOther2Spec',\t'AlcoholOther3Days',\t'AlcoholOther3Route',\t'AlcoholOther3Spec',\t'OpioidsHeroinDays',\t'OpioidsHeroinRoute',\t'OpioidsMorphineDays',\t'OpioidsMorphineRoute',\t'OpioidsFentanylDays',\t'OpioidsFentanylRoute',\t'OpioidsDilaudidDays',\t'OpioidsDilaudidRoute',\t'OpioidsDemerolDays']]\n",
    "\n",
    "#Exporting GPRA 1\n",
    "GPRA1.to_csv('GPRA1.csv', index = False, header = True, encoding = 'utf-8')"
   ]
  }
 ],
 "metadata": {
  "kernelspec": {
   "display_name": "Python 3 (ipykernel)",
   "language": "python",
   "name": "python3"
  },
  "language_info": {
   "codemirror_mode": {
    "name": "ipython",
    "version": 3
   },
   "file_extension": ".py",
   "mimetype": "text/x-python",
   "name": "python",
   "nbconvert_exporter": "python",
   "pygments_lexer": "ipython3",
   "version": "3.11.4"
  }
 },
 "nbformat": 4,
 "nbformat_minor": 5
}
