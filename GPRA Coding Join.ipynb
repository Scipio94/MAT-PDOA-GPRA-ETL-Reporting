{
 "cells": [
  {
   "cell_type": "markdown",
   "id": "3ceac960",
   "metadata": {},
   "source": [
    "# Data Joins\n",
    "Joing the multiple CSVs from the GPRA coding project due to the amount of pyton scripts fragmenting the data frame"
   ]
  },
  {
   "cell_type": "code",
   "execution_count": 32,
   "id": "b7955aa0",
   "metadata": {},
   "outputs": [],
   "source": [
    "import pandas as pd\n",
    "import datetime as dt"
   ]
  },
  {
   "cell_type": "code",
   "execution_count": 33,
   "id": "40f8f9fe",
   "metadata": {},
   "outputs": [],
   "source": [
    "#Importing data\n",
    "GPRA1 = pd.read_csv(r\"C:\\Users\\tyogarro\\Documents\\Jan GPRA\\GPRA1_STAR.csv\")\n",
    "GPRA2 = pd.read_csv(r\"C:\\Users\\tyogarro\\Documents\\Jan GPRA\\GPRA2_STAR.csv\")\n",
    "GPRA3 = pd.read_csv(r\"C:\\Users\\tyogarro\\Documents\\Jan GPRA\\GPRA3_STAR.csv\")\n",
    "GPRA4 = pd.read_csv(r\"C:\\Users\\tyogarro\\Documents\\Jan GPRA\\GPRA4_STAR.csv\")\n",
    "GPRA5 = pd.read_csv(r\"C:\\Users\\tyogarro\\Documents\\Jan GPRA\\GPRA5_STAR.csv\")\n",
    "GPRA6 = pd.read_csv(r\"C:\\Users\\tyogarro\\Documents\\Jan GPRA\\GPRA6_STAR.csv\")\n",
    "# test = pd.read_csv(r\"C:\\Users\\tyogarro\\Documents\\GPRA Coding\\GPRA_Test_File_csv.csv\")\n"
   ]
  },
  {
   "cell_type": "code",
   "execution_count": 34,
   "id": "097e0b0c",
   "metadata": {},
   "outputs": [],
   "source": [
    "#Merging all of the GPRA files\n",
    "Full_GPRA_File = GPRA1.merge(GPRA2, on = 'ClientID', how = 'left')\\\n",
    "            .merge(GPRA3, on = 'ClientID', how = 'left')\\\n",
    "            .merge(GPRA4, on = 'ClientID', how = 'left')\\\n",
    "            .merge(GPRA5, on = 'ClientID', how = 'left')\\\n",
    "            .merge(GPRA6, on = 'ClientID', how = 'left')"
   ]
  },
  {
   "cell_type": "code",
   "execution_count": 35,
   "id": "b8367668",
   "metadata": {},
   "outputs": [],
   "source": [
    "#Data Cleaning\n",
    "\n",
    "#Values for the InterviewCreateDate Column will be created at the completion of the GPRA upload.\n",
    "Full_GPRA_File['InterviewCreateDate']  = \" \"\n",
    "# Full_GPRA_File['ClientID'] = Full_GPRA_File['ClientID'].str.replace('-',', ') "
   ]
  },
  {
   "cell_type": "code",
   "execution_count": 36,
   "id": "c360d263",
   "metadata": {},
   "outputs": [],
   "source": [
    "#Subsetting dataset for merge to create IntakeDate Column \n",
    "Intake_Date_Merge = Full_GPRA_File[['ClientID','InterviewType','InterviewDate']]\n",
    "\n",
    "#Filtering dataset for intake\n",
    "Intake_Date_Merge = Intake_Date_Merge[Intake_Date_Merge['InterviewType'] == 1]\n",
    "\n",
    "#Subsetting dataset further\n",
    "Intake_Date_Merge = Intake_Date_Merge[['ClientID', 'InterviewDate']]\n",
    "\n",
    "#Renaming columns\n",
    "Intake_Date_Merge.rename(columns = {'InterviewDate':'IntakeDate'}, inplace = True)\n",
    "\n",
    "#Merging files\n",
    "Full_GPRA_File_STAR = Full_GPRA_File.merge(Intake_Date_Merge, on= 'ClientID', how = 'left')"
   ]
  },
  {
   "cell_type": "code",
   "execution_count": 26,
   "id": "20ecf1d9",
   "metadata": {},
   "outputs": [],
   "source": [
    "# med_test = test[['CSN','TYPE_OF_INSURANCE']]\n",
    "# med_subset = Full_GPRA_File[['ClientID','MedInsTypeMedicare']]"
   ]
  },
  {
   "cell_type": "code",
   "execution_count": 37,
   "id": "2111fe63",
   "metadata": {},
   "outputs": [
    {
     "data": {
      "text/html": [
       "<div>\n",
       "<style scoped>\n",
       "    .dataframe tbody tr th:only-of-type {\n",
       "        vertical-align: middle;\n",
       "    }\n",
       "\n",
       "    .dataframe tbody tr th {\n",
       "        vertical-align: top;\n",
       "    }\n",
       "\n",
       "    .dataframe thead th {\n",
       "        text-align: right;\n",
       "    }\n",
       "</style>\n",
       "<table border=\"1\" class=\"dataframe\">\n",
       "  <thead>\n",
       "    <tr style=\"text-align: right;\">\n",
       "      <th></th>\n",
       "      <th>ClientID</th>\n",
       "      <th>MedInsTypeMedicare</th>\n",
       "      <th>CSN</th>\n",
       "      <th>TYPE_OF_INSURANCE</th>\n",
       "    </tr>\n",
       "  </thead>\n",
       "  <tbody>\n",
       "    <tr>\n",
       "      <th>31</th>\n",
       "      <td>10199449210</td>\n",
       "      <td>1</td>\n",
       "      <td>10199449210</td>\n",
       "      <td>Medicare</td>\n",
       "    </tr>\n",
       "    <tr>\n",
       "      <th>5</th>\n",
       "      <td>10199065828</td>\n",
       "      <td>1</td>\n",
       "      <td>10199065828</td>\n",
       "      <td>Medicare</td>\n",
       "    </tr>\n",
       "    <tr>\n",
       "      <th>7</th>\n",
       "      <td>10198142123</td>\n",
       "      <td>1</td>\n",
       "      <td>10198142123</td>\n",
       "      <td>Medicare</td>\n",
       "    </tr>\n",
       "    <tr>\n",
       "      <th>42</th>\n",
       "      <td>10198893448</td>\n",
       "      <td>1</td>\n",
       "      <td>10198893448</td>\n",
       "      <td>Medicare</td>\n",
       "    </tr>\n",
       "    <tr>\n",
       "      <th>0</th>\n",
       "      <td>10199658817</td>\n",
       "      <td>0</td>\n",
       "      <td>10199658817</td>\n",
       "      <td>Medicaid</td>\n",
       "    </tr>\n",
       "    <tr>\n",
       "      <th>...</th>\n",
       "      <td>...</td>\n",
       "      <td>...</td>\n",
       "      <td>...</td>\n",
       "      <td>...</td>\n",
       "    </tr>\n",
       "    <tr>\n",
       "      <th>47</th>\n",
       "      <td>10199078894</td>\n",
       "      <td>-9</td>\n",
       "      <td>10199078894</td>\n",
       "      <td>NaN</td>\n",
       "    </tr>\n",
       "    <tr>\n",
       "      <th>27</th>\n",
       "      <td>10198200870</td>\n",
       "      <td>-9</td>\n",
       "      <td>10198200870</td>\n",
       "      <td>NaN</td>\n",
       "    </tr>\n",
       "    <tr>\n",
       "      <th>41</th>\n",
       "      <td>10199549645</td>\n",
       "      <td>-9</td>\n",
       "      <td>10199549645</td>\n",
       "      <td>NaN</td>\n",
       "    </tr>\n",
       "    <tr>\n",
       "      <th>30</th>\n",
       "      <td>10199948060</td>\n",
       "      <td>-9</td>\n",
       "      <td>10199948060</td>\n",
       "      <td>NaN</td>\n",
       "    </tr>\n",
       "    <tr>\n",
       "      <th>37</th>\n",
       "      <td>10199765315</td>\n",
       "      <td>-9</td>\n",
       "      <td>10199765315</td>\n",
       "      <td>NaN</td>\n",
       "    </tr>\n",
       "  </tbody>\n",
       "</table>\n",
       "<p>75 rows × 4 columns</p>\n",
       "</div>"
      ],
      "text/plain": [
       "       ClientID  MedInsTypeMedicare          CSN TYPE_OF_INSURANCE\n",
       "31  10199449210                   1  10199449210          Medicare\n",
       "5   10199065828                   1  10199065828          Medicare\n",
       "7   10198142123                   1  10198142123          Medicare\n",
       "42  10198893448                   1  10198893448          Medicare\n",
       "0   10199658817                   0  10199658817          Medicaid\n",
       "..          ...                 ...          ...               ...\n",
       "47  10199078894                  -9  10199078894               NaN\n",
       "27  10198200870                  -9  10198200870               NaN\n",
       "41  10199549645                  -9  10199549645               NaN\n",
       "30  10199948060                  -9  10199948060               NaN\n",
       "37  10199765315                  -9  10199765315               NaN\n",
       "\n",
       "[75 rows x 4 columns]"
      ]
     },
     "execution_count": 37,
     "metadata": {},
     "output_type": "execute_result"
    }
   ],
   "source": [
    "med_subset.merge(med_test, how = 'inner', left_on = 'ClientID', right_on = 'CSN' ).sort_values(by = 'MedInsTypeMedicare', ascending = False)"
   ]
  },
  {
   "cell_type": "code",
   "execution_count": 40,
   "id": "f6635b0e",
   "metadata": {},
   "outputs": [],
   "source": [
    "#Exporting GPRA full file\n",
    "\n",
    "Full_GPRA_File_STAR.to_excel('Full_GPRA_File_STAR.xlsx', index = False, header = True)\n"
   ]
  }
 ],
 "metadata": {
  "kernelspec": {
   "display_name": "Python 3 (ipykernel)",
   "language": "python",
   "name": "python3"
  },
  "language_info": {
   "codemirror_mode": {
    "name": "ipython",
    "version": 3
   },
   "file_extension": ".py",
   "mimetype": "text/x-python",
   "name": "python",
   "nbconvert_exporter": "python",
   "pygments_lexer": "ipython3",
   "version": "3.11.4"
  }
 },
 "nbformat": 4,
 "nbformat_minor": 5
}
