{
 "cells": [
  {
   "cell_type": "markdown",
   "id": "27a80c86",
   "metadata": {},
   "source": [
    "# Objective \n",
    "\n",
    "Manipulating data to export to Excel to modify GPRA file"
   ]
  },
  {
   "cell_type": "code",
   "execution_count": 78,
   "id": "e9f4a60c",
   "metadata": {},
   "outputs": [],
   "source": [
    "#Importing packages\n",
    "import pandas as pd\n",
    "import datetime as dt\n",
    "pd.set_option('display.max_rows',None)\n",
    "pd.set_option('display.max_columns',None)"
   ]
  },
  {
   "cell_type": "code",
   "execution_count": 63,
   "id": "e14a0755",
   "metadata": {},
   "outputs": [],
   "source": [
    "#Importing data\n",
    "df = pd.read_csv(r\"C:\\Users\\tyogarro\\Documents\\GPRA Coding\\Full_GPRA_File.csv\")"
   ]
  },
  {
   "cell_type": "code",
   "execution_count": 64,
   "id": "aebd125e",
   "metadata": {},
   "outputs": [],
   "source": [
    "#Subsetting data\n",
    "df2 = df[['MRN','ClientID','InterviewDate']]"
   ]
  },
  {
   "cell_type": "code",
   "execution_count": 70,
   "id": "236ae1d1",
   "metadata": {},
   "outputs": [],
   "source": [
    "#Creating variable to filter out max dates\n",
    "max_ = df2.groupby(['MRN'])['InterviewDate'].max().reset_index()\n",
    "\n",
    "#Creating data frame\n",
    "max_dates_df = pd.DataFrame(max_)\n",
    "\n",
    "#Creating column to indicate active and inactive \n",
    "max_dates_df['InactFlag'] = 0"
   ]
  },
  {
   "cell_type": "code",
   "execution_count": 83,
   "id": "dd68e616",
   "metadata": {},
   "outputs": [],
   "source": [
    "#Exporting df to a csv to edit in exce\n",
    "max_dates_df.to_csv('InactFlag_Column_Data.csv', index = False, header = True, encoding = 'utf-8' )"
   ]
  }
 ],
 "metadata": {
  "kernelspec": {
   "display_name": "Python 3 (ipykernel)",
   "language": "python",
   "name": "python3"
  },
  "language_info": {
   "codemirror_mode": {
    "name": "ipython",
    "version": 3
   },
   "file_extension": ".py",
   "mimetype": "text/x-python",
   "name": "python",
   "nbconvert_exporter": "python",
   "pygments_lexer": "ipython3",
   "version": "3.11.4"
  }
 },
 "nbformat": 4,
 "nbformat_minor": 5
}
